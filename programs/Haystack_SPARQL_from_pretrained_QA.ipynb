{
 "cells": [
  {
   "cell_type": "markdown",
   "id": "ebe15751",
   "metadata": {},
   "source": [
    "## Not ready for use, working to create a pretrained sparql model that can then use the ttl file provided by KG ##\n",
    "\n",
    "#### Below is not working, model may be created by following https://www.thekaihq.com/text2sparql/ "
   ]
  },
  {
   "cell_type": "code",
   "execution_count": 19,
   "id": "0de26d29",
   "metadata": {},
   "outputs": [],
   "source": [
    "import os\n",
    "import logging\n",
    "\n",
    "logging.basicConfig(format=\"%(levelname)s - %(name)s -  %(message)s\", level=logging.WARNING)\n",
    "logging.getLogger(\"haystack\").setLevel(logging.INFO)"
   ]
  },
  {
   "cell_type": "code",
   "execution_count": 71,
   "id": "16764858",
   "metadata": {},
   "outputs": [],
   "source": [
    "from transformers import AutoConfig, AutoModel\n",
    "from datasets import load_dataset\n",
    "from datasets import load_metric\n",
    "import pandas as pd\n",
    "import numpy as np\n",
    "import evaluate\n",
    "import json\n",
    "\n",
    "file_path = f'{os.getcwd()}/data'\n",
    "\n",
    "from transformers import AutoTokenizer\n",
    "from transformers import TrainingArguments, Trainer\n",
    "\n",
    "tokenizer = AutoTokenizer.from_pretrained(\"facebook/bart-base\", lower=True)\n",
    "model = AutoModel.from_pretrained(\"facebook/bart-base\")"
   ]
  },
  {
   "cell_type": "code",
   "execution_count": 88,
   "id": "2f76a9af",
   "metadata": {},
   "outputs": [
    {
     "name": "stdout",
     "output_type": "stream",
     "text": [
      "<class 'str'>\n"
     ]
    },
    {
     "data": {
      "text/html": [
       "<div>\n",
       "<style scoped>\n",
       "    .dataframe tbody tr th:only-of-type {\n",
       "        vertical-align: middle;\n",
       "    }\n",
       "\n",
       "    .dataframe tbody tr th {\n",
       "        vertical-align: top;\n",
       "    }\n",
       "\n",
       "    .dataframe thead th {\n",
       "        text-align: right;\n",
       "    }\n",
       "</style>\n",
       "<table border=\"1\" class=\"dataframe\">\n",
       "  <thead>\n",
       "    <tr style=\"text-align: right;\">\n",
       "      <th></th>\n",
       "      <th>NNQT_question</th>\n",
       "      <th>uid</th>\n",
       "      <th>subgraph</th>\n",
       "      <th>template_index</th>\n",
       "      <th>question</th>\n",
       "      <th>sparql_wikidata</th>\n",
       "      <th>sparql_dbpedia18</th>\n",
       "      <th>template</th>\n",
       "      <th>answer</th>\n",
       "      <th>template_id</th>\n",
       "      <th>paraphrased_question</th>\n",
       "    </tr>\n",
       "  </thead>\n",
       "  <tbody>\n",
       "    <tr>\n",
       "      <th>0</th>\n",
       "      <td>What is the {periodical literature} for {mouthpiece} of {Delta Air Lines}</td>\n",
       "      <td>19719</td>\n",
       "      <td>simple question right</td>\n",
       "      <td>65</td>\n",
       "      <td>What periodical literature does Delta Air Lines use as a moutpiece?</td>\n",
       "      <td>select distinct ?obj where { wd:Q188920 wdt:P2813 ?obj . ?obj wdt:P31 wd:Q1...</td>\n",
       "      <td>select distinct ?obj where { ?statement &lt;http://www.w3.org/1999/02/22-rdf-sy...</td>\n",
       "      <td>&lt;S P ?O ; ?O instanceOf Type&gt;</td>\n",
       "      <td>[]</td>\n",
       "      <td>1</td>\n",
       "      <td>What is Delta Air Line's periodical literature mouthpiece?</td>\n",
       "    </tr>\n",
       "    <tr>\n",
       "      <th>1</th>\n",
       "      <td>What is {child of} of {husband} of {Ranavalona I} ?</td>\n",
       "      <td>15554</td>\n",
       "      <td>left-subgraph</td>\n",
       "      <td>8</td>\n",
       "      <td>Who is the child of Ranavalona I's husband?</td>\n",
       "      <td>SELECT ?answer WHERE { wd:Q169794 wdt:P26 ?X . ?X wdt:P22 ?answer}</td>\n",
       "      <td>SELECT ?answer WHERE { ?statement1 &lt;http://www.w3.org/1999/02/22-rdf-syntax-...</td>\n",
       "      <td>C RCD xD . xD RDE ?E</td>\n",
       "      <td>[]</td>\n",
       "      <td>5</td>\n",
       "      <td>What is the name of Ranavalona I's husband's child?</td>\n",
       "    </tr>\n",
       "    <tr>\n",
       "      <th>2</th>\n",
       "      <td>Did {Jeff_Bridges} {occupation} {Lane Chandler} and {photographer} ?</td>\n",
       "      <td>974</td>\n",
       "      <td>boolean double one_hop right subgraph</td>\n",
       "      <td>474</td>\n",
       "      <td>Is it true Jeff_Bridges occupation Lane Chandler and photographer ?</td>\n",
       "      <td>ASK WHERE { wd:Q174843 wdt:P106 wd:Q1804811 . wd:Q174843 wdt:P106 wd:Q33231 }</td>\n",
       "      <td>ASK { ?statement1 &lt;http://www.w3.org/1999/02/22-rdf-syntax-ns#subject&gt; &lt;htt...</td>\n",
       "      <td>Ask (ent-pred-obj1` . ent-pred-obj2)</td>\n",
       "      <td>[]</td>\n",
       "      <td>2</td>\n",
       "      <td>Are Jeff Bridges and Lane Chandler both photographers?</td>\n",
       "    </tr>\n",
       "    <tr>\n",
       "      <th>3</th>\n",
       "      <td>What is {prequel of} of {phase of matter} of {Galinstan} ?</td>\n",
       "      <td>15803</td>\n",
       "      <td>right-subgraph</td>\n",
       "      <td>33</td>\n",
       "      <td>What is the pre-requisite of phase matter of Galinstan?</td>\n",
       "      <td>SELECT ?answer WHERE { wd:Q675176 wdt:P515 ?X . ?X wdt:P156 ?answer}</td>\n",
       "      <td>SELECT ?answer WHERE { ?statement1 &lt;http://www.w3.org/1999/02/22-rdf-syntax-...</td>\n",
       "      <td>E REF xF . xF RFG ?G</td>\n",
       "      <td>[]</td>\n",
       "      <td>2</td>\n",
       "      <td>What range are the papers at the Monique Genonceaux about?</td>\n",
       "    </tr>\n",
       "    <tr>\n",
       "      <th>4</th>\n",
       "      <td>What is &lt;operating income&gt; of &lt;Qantas&gt; ?</td>\n",
       "      <td>27610</td>\n",
       "      <td>center</td>\n",
       "      <td>1907</td>\n",
       "      <td>Which is the operating income for Qantas?</td>\n",
       "      <td>select distinct ?answer where { wd:Q32491 wdt:P3362 ?answer}</td>\n",
       "      <td>select distinct ?answer where { ?statement &lt;http://www.w3.org/1999/02/22-rdf...</td>\n",
       "      <td>E REF ?F</td>\n",
       "      <td>[]</td>\n",
       "      <td>1.1</td>\n",
       "      <td>[]</td>\n",
       "    </tr>\n",
       "  </tbody>\n",
       "</table>\n",
       "</div>"
      ],
      "text/plain": [
       "                                                               NNQT_question  \\\n",
       "0  What is the {periodical literature} for {mouthpiece} of {Delta Air Lines}   \n",
       "1                        What is {child of} of {husband} of {Ranavalona I} ?   \n",
       "2       Did {Jeff_Bridges} {occupation} {Lane Chandler} and {photographer} ?   \n",
       "3                 What is {prequel of} of {phase of matter} of {Galinstan} ?   \n",
       "4                                   What is <operating income> of <Qantas> ?   \n",
       "\n",
       "     uid                               subgraph template_index  \\\n",
       "0  19719                  simple question right             65   \n",
       "1  15554                          left-subgraph              8   \n",
       "2    974  boolean double one_hop right subgraph            474   \n",
       "3  15803                         right-subgraph             33   \n",
       "4  27610                                 center           1907   \n",
       "\n",
       "                                                              question  \\\n",
       "0  What periodical literature does Delta Air Lines use as a moutpiece?   \n",
       "1                          Who is the child of Ranavalona I's husband?   \n",
       "2  Is it true Jeff_Bridges occupation Lane Chandler and photographer ?   \n",
       "3              What is the pre-requisite of phase matter of Galinstan?   \n",
       "4                            Which is the operating income for Qantas?   \n",
       "\n",
       "                                                                   sparql_wikidata  \\\n",
       "0   select distinct ?obj where { wd:Q188920 wdt:P2813 ?obj . ?obj wdt:P31 wd:Q1...   \n",
       "1               SELECT ?answer WHERE { wd:Q169794 wdt:P26 ?X . ?X wdt:P22 ?answer}   \n",
       "2    ASK WHERE { wd:Q174843 wdt:P106 wd:Q1804811 . wd:Q174843 wdt:P106 wd:Q33231 }   \n",
       "3             SELECT ?answer WHERE { wd:Q675176 wdt:P515 ?X . ?X wdt:P156 ?answer}   \n",
       "4                     select distinct ?answer where { wd:Q32491 wdt:P3362 ?answer}   \n",
       "\n",
       "                                                                  sparql_dbpedia18  \\\n",
       "0  select distinct ?obj where { ?statement <http://www.w3.org/1999/02/22-rdf-sy...   \n",
       "1  SELECT ?answer WHERE { ?statement1 <http://www.w3.org/1999/02/22-rdf-syntax-...   \n",
       "2   ASK { ?statement1 <http://www.w3.org/1999/02/22-rdf-syntax-ns#subject> <htt...   \n",
       "3  SELECT ?answer WHERE { ?statement1 <http://www.w3.org/1999/02/22-rdf-syntax-...   \n",
       "4  select distinct ?answer where { ?statement <http://www.w3.org/1999/02/22-rdf...   \n",
       "\n",
       "                               template answer template_id  \\\n",
       "0         <S P ?O ; ?O instanceOf Type>     []           1   \n",
       "1                  C RCD xD . xD RDE ?E     []           5   \n",
       "2  Ask (ent-pred-obj1` . ent-pred-obj2)     []           2   \n",
       "3                  E REF xF . xF RFG ?G     []           2   \n",
       "4                              E REF ?F     []         1.1   \n",
       "\n",
       "                                         paraphrased_question  \n",
       "0  What is Delta Air Line's periodical literature mouthpiece?  \n",
       "1         What is the name of Ranavalona I's husband's child?  \n",
       "2      Are Jeff Bridges and Lane Chandler both photographers?  \n",
       "3  What range are the papers at the Monique Genonceaux about?  \n",
       "4                                                          []  "
      ]
     },
     "execution_count": 88,
     "metadata": {},
     "output_type": "execute_result"
    }
   ],
   "source": [
    "train = pd.read_json(f'{file_path}/json/train.json')\n",
    "train = train.astype(str)\n",
    "print(type(train['template_index'][0]))\n",
    "train.head()"
   ]
  },
  {
   "cell_type": "code",
   "execution_count": 87,
   "id": "b1d0cef1",
   "metadata": {},
   "outputs": [
    {
     "name": "stdout",
     "output_type": "stream",
     "text": [
      "<class 'str'>\n"
     ]
    },
    {
     "data": {
      "text/html": [
       "<div>\n",
       "<style scoped>\n",
       "    .dataframe tbody tr th:only-of-type {\n",
       "        vertical-align: middle;\n",
       "    }\n",
       "\n",
       "    .dataframe tbody tr th {\n",
       "        vertical-align: top;\n",
       "    }\n",
       "\n",
       "    .dataframe thead th {\n",
       "        text-align: right;\n",
       "    }\n",
       "</style>\n",
       "<table border=\"1\" class=\"dataframe\">\n",
       "  <thead>\n",
       "    <tr style=\"text-align: right;\">\n",
       "      <th></th>\n",
       "      <th>NNQT_question</th>\n",
       "      <th>uid</th>\n",
       "      <th>subgraph</th>\n",
       "      <th>template_index</th>\n",
       "      <th>question</th>\n",
       "      <th>sparql_wikidata</th>\n",
       "      <th>sparql_dbpedia18</th>\n",
       "      <th>template</th>\n",
       "      <th>answer</th>\n",
       "      <th>template_id</th>\n",
       "      <th>paraphrased_question</th>\n",
       "    </tr>\n",
       "  </thead>\n",
       "  <tbody>\n",
       "    <tr>\n",
       "      <th>0</th>\n",
       "      <td>What is the {country} for {head of state} of {Mahmoud Abbas}</td>\n",
       "      <td>20258</td>\n",
       "      <td>simple question left</td>\n",
       "      <td>604</td>\n",
       "      <td>Who is the  {country} for {head of state} of {Mahmoud Abbas}</td>\n",
       "      <td>select distinct ?sbj where { ?sbj wdt:P35 wd:Q127998 . ?sbj wdt:P31 wd:Q625...</td>\n",
       "      <td>select distinct ?subj where { ?statement &lt;http://www.w3.org/1999/02/22-rdf-s...</td>\n",
       "      <td>&lt;?S P O ; ?S InstanceOf Type&gt;</td>\n",
       "      <td>[]</td>\n",
       "      <td>2</td>\n",
       "      <td>What country is Mahmoud Abbas the head of state of?</td>\n",
       "    </tr>\n",
       "    <tr>\n",
       "      <th>1</th>\n",
       "      <td>What is {population} of {Somalia} that is {point in time} is {2009-0-0} ?</td>\n",
       "      <td>7141</td>\n",
       "      <td>statement_property</td>\n",
       "      <td>3586</td>\n",
       "      <td>What was the population of Somalia in 2009-0-0?</td>\n",
       "      <td>SELECT ?obj WHERE { wd:Q1045 p:P1082 ?s . ?s ps:P1082 ?obj . ?s pq:P585 ?x f...</td>\n",
       "      <td>select distinct ?obj  where {\\n?statement &lt;http://www.w3.org/1999/02/22-rdf-...</td>\n",
       "      <td>(E pred F) prop ?value</td>\n",
       "      <td>[]</td>\n",
       "      <td>statement_property_2</td>\n",
       "      <td>As of 2009, how many people lived in Somalia?</td>\n",
       "    </tr>\n",
       "    <tr>\n",
       "      <th>2</th>\n",
       "      <td>What is {voice actresses} of {South Park}, that has {employment} is {singer} ?</td>\n",
       "      <td>12761</td>\n",
       "      <td>right-subgraph</td>\n",
       "      <td>5331</td>\n",
       "      <td>Which female actress is the voice over on South Park and is employed as a si...</td>\n",
       "      <td>SELECT ?answer WHERE { wd:Q16538 wdt:P725 ?answer . ?answer wdt:P106 wd:Q177...</td>\n",
       "      <td>SELECT ?answer WHERE { ?statement1 &lt;http://www.w3.org/1999/02/22-rdf-syntax-...</td>\n",
       "      <td>E REF ?F . ?F RFG G</td>\n",
       "      <td>[]</td>\n",
       "      <td>1</td>\n",
       "      <td>Which female actress on South Park is the voice over and is used as a singer?</td>\n",
       "    </tr>\n",
       "    <tr>\n",
       "      <th>3</th>\n",
       "      <td>What is {nominated for} of {Dolores del Río} that is {for work} is {La Otra} ?</td>\n",
       "      <td>4236</td>\n",
       "      <td>statement_property</td>\n",
       "      <td>681</td>\n",
       "      <td>What is {nominated for} of {Dolores del Río} that is {for work} is {La Otra} ?</td>\n",
       "      <td>SELECT ?obj WHERE { wd:Q124057 p:P1411 ?s . ?s ps:P1411 ?obj . ?s pq:P1686 w...</td>\n",
       "      <td>select distinct ?obj  where {\\n?statement &lt;http://www.w3.org/1999/02/22-rdf-...</td>\n",
       "      <td>(E pred F) prop ?value</td>\n",
       "      <td>[]</td>\n",
       "      <td>statement_property_2</td>\n",
       "      <td>What nomination did Dolores del Rio receive for their work with La Otra?</td>\n",
       "    </tr>\n",
       "    <tr>\n",
       "      <th>4</th>\n",
       "      <td>What is {population} of {Clermont-Ferrand} that is {point in time} is {2013-...</td>\n",
       "      <td>8669</td>\n",
       "      <td>statement_property</td>\n",
       "      <td>5114</td>\n",
       "      <td>What was the population of Clermont-Ferrand on 1-1-2013?</td>\n",
       "      <td>SELECT ?obj WHERE { wd:Q42168 p:P1082 ?s . ?s ps:P1082 ?obj . ?s pq:P585 ?x ...</td>\n",
       "      <td>select distinct ?obj  where {\\n?statement &lt;http://www.w3.org/1999/02/22-rdf-...</td>\n",
       "      <td>(E pred F) prop ?value</td>\n",
       "      <td>[]</td>\n",
       "      <td>statement_property_2</td>\n",
       "      <td>How many people lived in Clermont-Ferrand on January 1st, 2013?</td>\n",
       "    </tr>\n",
       "  </tbody>\n",
       "</table>\n",
       "</div>"
      ],
      "text/plain": [
       "                                                                     NNQT_question  \\\n",
       "0                     What is the {country} for {head of state} of {Mahmoud Abbas}   \n",
       "1        What is {population} of {Somalia} that is {point in time} is {2009-0-0} ?   \n",
       "2   What is {voice actresses} of {South Park}, that has {employment} is {singer} ?   \n",
       "3   What is {nominated for} of {Dolores del Río} that is {for work} is {La Otra} ?   \n",
       "4  What is {population} of {Clermont-Ferrand} that is {point in time} is {2013-...   \n",
       "\n",
       "     uid              subgraph template_index  \\\n",
       "0  20258  simple question left            604   \n",
       "1   7141    statement_property           3586   \n",
       "2  12761        right-subgraph           5331   \n",
       "3   4236    statement_property            681   \n",
       "4   8669    statement_property           5114   \n",
       "\n",
       "                                                                          question  \\\n",
       "0                     Who is the  {country} for {head of state} of {Mahmoud Abbas}   \n",
       "1                                  What was the population of Somalia in 2009-0-0?   \n",
       "2  Which female actress is the voice over on South Park and is employed as a si...   \n",
       "3   What is {nominated for} of {Dolores del Río} that is {for work} is {La Otra} ?   \n",
       "4                         What was the population of Clermont-Ferrand on 1-1-2013?   \n",
       "\n",
       "                                                                   sparql_wikidata  \\\n",
       "0   select distinct ?sbj where { ?sbj wdt:P35 wd:Q127998 . ?sbj wdt:P31 wd:Q625...   \n",
       "1  SELECT ?obj WHERE { wd:Q1045 p:P1082 ?s . ?s ps:P1082 ?obj . ?s pq:P585 ?x f...   \n",
       "2  SELECT ?answer WHERE { wd:Q16538 wdt:P725 ?answer . ?answer wdt:P106 wd:Q177...   \n",
       "3  SELECT ?obj WHERE { wd:Q124057 p:P1411 ?s . ?s ps:P1411 ?obj . ?s pq:P1686 w...   \n",
       "4  SELECT ?obj WHERE { wd:Q42168 p:P1082 ?s . ?s ps:P1082 ?obj . ?s pq:P585 ?x ...   \n",
       "\n",
       "                                                                  sparql_dbpedia18  \\\n",
       "0  select distinct ?subj where { ?statement <http://www.w3.org/1999/02/22-rdf-s...   \n",
       "1  select distinct ?obj  where {\\n?statement <http://www.w3.org/1999/02/22-rdf-...   \n",
       "2  SELECT ?answer WHERE { ?statement1 <http://www.w3.org/1999/02/22-rdf-syntax-...   \n",
       "3  select distinct ?obj  where {\\n?statement <http://www.w3.org/1999/02/22-rdf-...   \n",
       "4  select distinct ?obj  where {\\n?statement <http://www.w3.org/1999/02/22-rdf-...   \n",
       "\n",
       "                        template answer           template_id  \\\n",
       "0  <?S P O ; ?S InstanceOf Type>     []                     2   \n",
       "1         (E pred F) prop ?value     []  statement_property_2   \n",
       "2            E REF ?F . ?F RFG G     []                     1   \n",
       "3         (E pred F) prop ?value     []  statement_property_2   \n",
       "4         (E pred F) prop ?value     []  statement_property_2   \n",
       "\n",
       "                                                            paraphrased_question  \n",
       "0                            What country is Mahmoud Abbas the head of state of?  \n",
       "1                                  As of 2009, how many people lived in Somalia?  \n",
       "2  Which female actress on South Park is the voice over and is used as a singer?  \n",
       "3       What nomination did Dolores del Rio receive for their work with La Otra?  \n",
       "4                How many people lived in Clermont-Ferrand on January 1st, 2013?  "
      ]
     },
     "execution_count": 87,
     "metadata": {},
     "output_type": "execute_result"
    }
   ],
   "source": [
    "test = pd.read_json(f'{file_path}/json/test.json')\n",
    "test = test.astype(str)\n",
    "print(type(test['template_index'][0]))\n",
    "test.head()"
   ]
  },
  {
   "cell_type": "code",
   "execution_count": 89,
   "id": "7f0ba7f4",
   "metadata": {},
   "outputs": [],
   "source": [
    "train.to_json(f'{file_path}/json/LCTrain.json', orient='records', lines=True)\n",
    "test.to_json(f'{file_path}/json/LCTest.json', orient='records', lines=True)"
   ]
  },
  {
   "cell_type": "code",
   "execution_count": 90,
   "id": "c9d1a4c7",
   "metadata": {},
   "outputs": [
    {
     "name": "stderr",
     "output_type": "stream",
     "text": [
      "WARNING - datasets.builder -  Using custom data configuration default-996249b3399a2492\n"
     ]
    },
    {
     "name": "stdout",
     "output_type": "stream",
     "text": [
      "Downloading and preparing dataset json/default to /home/jesusaur/.cache/huggingface/datasets/json/default-996249b3399a2492/0.0.0/e6070c77f18f01a5ad4551a8b7edfba20b8438b7cad4d94e6ad9378022ce4aab...\n"
     ]
    },
    {
     "data": {
      "application/vnd.jupyter.widget-view+json": {
       "model_id": "36a25c8a82394fbfbfa47d059a30e763",
       "version_major": 2,
       "version_minor": 0
      },
      "text/plain": [
       "Downloading data files:   0%|          | 0/2 [00:00<?, ?it/s]"
      ]
     },
     "metadata": {},
     "output_type": "display_data"
    },
    {
     "name": "stdout",
     "output_type": "stream",
     "text": [
      "  "
     ]
    },
    {
     "data": {
      "application/vnd.jupyter.widget-view+json": {
       "model_id": "afe84103ea0e489d87133494d95bca6c",
       "version_major": 2,
       "version_minor": 0
      },
      "text/plain": [
       "Extracting data files #1:   0%|          | 0/1 [00:00<?, ?obj/s]"
      ]
     },
     "metadata": {},
     "output_type": "display_data"
    },
    {
     "data": {
      "application/vnd.jupyter.widget-view+json": {
       "model_id": "ce3be227dfd04972aad989c4aed69de0",
       "version_major": 2,
       "version_minor": 0
      },
      "text/plain": [
       "Extracting data files #0:   0%|          | 0/1 [00:00<?, ?obj/s]"
      ]
     },
     "metadata": {},
     "output_type": "display_data"
    },
    {
     "data": {
      "application/vnd.jupyter.widget-view+json": {
       "model_id": "",
       "version_major": 2,
       "version_minor": 0
      },
      "text/plain": [
       "Generating train split: 0 examples [00:00, ? examples/s]"
      ]
     },
     "metadata": {},
     "output_type": "display_data"
    },
    {
     "data": {
      "application/vnd.jupyter.widget-view+json": {
       "model_id": "",
       "version_major": 2,
       "version_minor": 0
      },
      "text/plain": [
       "Generating test split: 0 examples [00:00, ? examples/s]"
      ]
     },
     "metadata": {},
     "output_type": "display_data"
    },
    {
     "name": "stdout",
     "output_type": "stream",
     "text": [
      "Dataset json downloaded and prepared to /home/jesusaur/.cache/huggingface/datasets/json/default-996249b3399a2492/0.0.0/e6070c77f18f01a5ad4551a8b7edfba20b8438b7cad4d94e6ad9378022ce4aab. Subsequent calls will reuse this data.\n"
     ]
    },
    {
     "data": {
      "application/vnd.jupyter.widget-view+json": {
       "model_id": "77aa326bec684a199c1d3e6e78093e0a",
       "version_major": 2,
       "version_minor": 0
      },
      "text/plain": [
       "  0%|          | 0/2 [00:00<?, ?it/s]"
      ]
     },
     "metadata": {},
     "output_type": "display_data"
    },
    {
     "name": "stdout",
     "output_type": "stream",
     "text": [
      "DatasetDict({\n",
      "    train: Dataset({\n",
      "        features: ['NNQT_question', 'uid', 'subgraph', 'template_index', 'question', 'sparql_wikidata', 'sparql_dbpedia18', 'template', 'answer', 'template_id', 'paraphrased_question'],\n",
      "        num_rows: 24180\n",
      "    })\n",
      "    test: Dataset({\n",
      "        features: ['NNQT_question', 'uid', 'subgraph', 'template_index', 'question', 'sparql_wikidata', 'sparql_dbpedia18', 'template', 'answer', 'template_id', 'paraphrased_question'],\n",
      "        num_rows: 6046\n",
      "    })\n",
      "})\n"
     ]
    }
   ],
   "source": [
    "data_files = {\"train\": f'{file_path}/json/LCTrain.json', \"test\": f'{file_path}/json/LCTest.json'} # * this is how to load multiple files, need to sklearn train_test_split into two sets first\n",
    "# print(data_files)\n",
    "LCU_dataset = load_dataset('json', data_files=data_files)\n",
    "print(LCU_dataset)"
   ]
  },
  {
   "cell_type": "code",
   "execution_count": 98,
   "id": "e8fbd8ab",
   "metadata": {},
   "outputs": [
    {
     "name": "stderr",
     "output_type": "stream",
     "text": [
      "PyTorch: setting up devices\n",
      "The default value for the training argument `--report_to` will change in v5 (from all installed integrations to none). In v5, you will need to use `--report_to all` to get the same behavior as now. You should start updating your code and make this info disappear :-).\n"
     ]
    }
   ],
   "source": [
    "metric1 = evaluate.load('f1')\n",
    "metric2 = evaluate.load('accuracy')\n",
    "\n",
    "training_args = TrainingArguments(output_dir = \"test_trainer\",\n",
    "                                  evaluation_strategy = \"epoch\",\n",
    "                                  save_strategy = \"epoch\",\n",
    "                                  do_train=True,\n",
    "                                  do_eval=True,\n",
    "                                  learning_rate=1e-5,\n",
    "                                  logging_steps=50,\n",
    "                                  eval_steps=50,\n",
    "                                  per_device_train_batch_size=8,\n",
    "                                  per_device_eval_batch_size=8,\n",
    "                                  num_train_epochs=25,\n",
    "                                  weight_decay=0.001,)\n",
    "\n",
    "def compute_metrics(eval_pred):\n",
    "    logits, labels = eval_pred\n",
    "    predictions = np.argmax(logits, axis=-1)\n",
    "    f1 = metric1.compute(predictions=predictions, references=labels, average='macro')\n",
    "    accuracy = metric2.compute(predictions=predictions, references=labels)\n",
    "    return {\"accuracy\": accuracy['accuracy'], \"f1\": f1['f1']}\n",
    "\n",
    "trainer = Trainer(\n",
    "    model=model,\n",
    "    tokenizer=tokenizer,\n",
    "    args=training_args,\n",
    "    train_dataset=LCU_dataset[\"train\"],\n",
    "    eval_dataset=LCU_dataset[\"test\"],\n",
    "    compute_metrics=compute_metrics\n",
    ")"
   ]
  },
  {
   "cell_type": "code",
   "execution_count": null,
   "id": "43c6dca3",
   "metadata": {},
   "outputs": [],
   "source": [
    "trainer.train()"
   ]
  },
  {
   "cell_type": "code",
   "execution_count": 64,
   "id": "efce132b",
   "metadata": {},
   "outputs": [
    {
     "name": "stderr",
     "output_type": "stream",
     "text": [
      "INFO - haystack.utils.import_utils -  Found data stored in 'data/tutorial10'. Delete this first if you really want to fetch new data.\n",
      "INFO - haystack.utils.import_utils -  Fetching from https://fandom-qa.s3-eu-west-1.amazonaws.com/saved_models/hp_v3.4.zip to '../saved_models/tutorial10_knowledge_graph/'\n"
     ]
    },
    {
     "data": {
      "text/plain": [
       "True"
      ]
     },
     "execution_count": 64,
     "metadata": {},
     "output_type": "execute_result"
    }
   ],
   "source": [
    "from haystack.utils import fetch_archive_from_http\n",
    "\n",
    "\n",
    "# Let's first fetch some triples that we want to store in our knowledge graph\n",
    "# Here: exemplary triples from the wizarding world\n",
    "graph_dir = \"data/tutorial10\"\n",
    "s3_url = \"https://fandom-qa.s3-eu-west-1.amazonaws.com/triples_and_config.zip\"\n",
    "fetch_archive_from_http(url=s3_url, output_dir=graph_dir)\n",
    "\n",
    "# Fetch a pre-trained BART model that translates text queries to SPARQL queries\n",
    "model_dir = \"../saved_models/tutorial10_knowledge_graph/\"\n",
    "s3_url = \"https://fandom-qa.s3-eu-west-1.amazonaws.com/saved_models/hp_v3.4.zip\"\n",
    "fetch_archive_from_http(url=s3_url, output_dir=model_dir)\n"
   ]
  },
  {
   "cell_type": "code",
   "execution_count": 42,
   "id": "64ca9733",
   "metadata": {},
   "outputs": [
    {
     "data": {
      "text/plain": [
       "'../cs662-qa-land-dev-law-sys/triplesdb'"
      ]
     },
     "execution_count": 42,
     "metadata": {},
     "output_type": "execute_result"
    }
   ],
   "source": [
    "# graph_dir = \"../cs662-qa-land-dev-law-sys/triplesdb\"\n",
    "# graph_dir"
   ]
  },
  {
   "cell_type": "code",
   "execution_count": 65,
   "id": "fb6cffdb",
   "metadata": {},
   "outputs": [
    {
     "name": "stdout",
     "output_type": "stream",
     "text": [
      "The last triple stored in the knowledge graph is: {'s': {'type': 'uri', 'value': 'https://deepset.ai/harry_potter/Beetle_eye'}, 'p': {'type': 'uri', 'value': 'https://deepset.ai/harry_potter/madefrom'}, 'o': {'type': 'uri', 'value': 'https://deepset.ai/harry_potter/Beetle'}}\n",
      "There are 118543 triples stored in the knowledge graph.\n"
     ]
    }
   ],
   "source": [
    "from pathlib import Path\n",
    "\n",
    "from haystack.document_stores import InMemoryKnowledgeGraph\n",
    "\n",
    "\n",
    "# Initialize a in memory knowledge graph and use \"tutorial_10_index\" as the name of the index\n",
    "kg = InMemoryKnowledgeGraph()\n",
    "\n",
    "# Delete the index as it might have been already created in previous runs\n",
    "kg.delete_index()\n",
    "\n",
    "# Create the index\n",
    "kg.create_index()\n",
    "\n",
    "# Import triples of subject, predicate, and object statements from a ttl file\n",
    "kg.import_from_ttl_file(path=Path(graph_dir) / \"triples.ttl\") # combined.ttl would be used here\n",
    "print(f\"The last triple stored in the knowledge graph is: {kg.get_all_triples()[-1]}\")\n",
    "print(f\"There are {len(kg.get_all_triples())} triples stored in the knowledge graph.\")"
   ]
  },
  {
   "cell_type": "code",
   "execution_count": 66,
   "id": "f27b3c8d",
   "metadata": {},
   "outputs": [],
   "source": [
    "from haystack.nodes import Text2SparqlRetriever\n",
    "\n",
    "# Load a pre-trained model that translates text queries to SPARQL queries\n",
    "kgqa_retriever = Text2SparqlRetriever(knowledge_graph=kg, model_name_or_path=Path(model_dir) / \"hp_v3.4\")"
   ]
  },
  {
   "cell_type": "code",
   "execution_count": 67,
   "id": "610d5cb8",
   "metadata": {},
   "outputs": [
    {
     "name": "stdout",
     "output_type": "stream",
     "text": [
      "Translating the text query \"What is Harry's patronus?\" to a SPARQL query and executing it on the knowledge graph...\n",
      "[{'answer': ['https://deepset.ai/harry_potter/Deer'], 'prediction_meta': {'model': 'Text2SparqlRetriever', 'sparql_query': 'select ?a { hp:Harry_potter hp:patronus ?a . }'}}]\n"
     ]
    }
   ],
   "source": [
    "query = \"What is Harry's patronus?\"\n",
    "print(f'Translating the text query \"{query}\" to a SPARQL query and executing it on the knowledge graph...')\n",
    "result = kgqa_retriever.retrieve(query=query)\n",
    "print(result)"
   ]
  },
  {
   "cell_type": "code",
   "execution_count": null,
   "id": "c8a94ce5",
   "metadata": {},
   "outputs": [],
   "source": []
  }
 ],
 "metadata": {
  "anaconda-cloud": {},
  "kernelspec": {
   "display_name": "Python [conda env:.conda-NLP-SPARQL]",
   "language": "python",
   "name": "conda-env-.conda-NLP-SPARQL-py"
  },
  "language_info": {
   "codemirror_mode": {
    "name": "ipython",
    "version": 3
   },
   "file_extension": ".py",
   "mimetype": "text/x-python",
   "name": "python",
   "nbconvert_exporter": "python",
   "pygments_lexer": "ipython3",
   "version": "3.9.15"
  }
 },
 "nbformat": 4,
 "nbformat_minor": 5
}
