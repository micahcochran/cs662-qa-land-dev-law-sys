{
 "cells": [
  {
   "cell_type": "code",
   "execution_count": 28,
   "id": "6b19dff3",
   "metadata": {},
   "outputs": [
    {
     "name": "stdout",
     "output_type": "stream",
     "text": [
      "Requirement already satisfied: dataframe_image in /data/user/home/jesusaur/.conda/envs/NLP-SPARQL/lib/python3.9/site-packages (0.1.3)\n",
      "Requirement already satisfied: pandas>=0.24 in /data/user/home/jesusaur/.conda/envs/NLP-SPARQL/lib/python3.9/site-packages (from dataframe_image) (1.5.2)\n",
      "Requirement already satisfied: requests in /data/user/home/jesusaur/.conda/envs/NLP-SPARQL/lib/python3.9/site-packages (from dataframe_image) (2.28.1)\n",
      "Requirement already satisfied: beautifulsoup4 in /data/user/home/jesusaur/.conda/envs/NLP-SPARQL/lib/python3.9/site-packages (from dataframe_image) (4.11.1)\n",
      "Requirement already satisfied: mistune in /data/user/home/jesusaur/.conda/envs/NLP-SPARQL/lib/python3.9/site-packages (from dataframe_image) (2.0.4)\n",
      "Requirement already satisfied: nbconvert>=5 in /data/user/home/jesusaur/.conda/envs/NLP-SPARQL/lib/python3.9/site-packages (from dataframe_image) (7.2.5)\n",
      "Requirement already satisfied: packaging in /data/user/home/jesusaur/.conda/envs/NLP-SPARQL/lib/python3.9/site-packages (from dataframe_image) (21.3)\n",
      "Requirement already satisfied: matplotlib>=3.1 in /data/user/home/jesusaur/.conda/envs/NLP-SPARQL/lib/python3.9/site-packages (from dataframe_image) (3.6.2)\n",
      "Requirement already satisfied: aiohttp in /data/user/home/jesusaur/.conda/envs/NLP-SPARQL/lib/python3.9/site-packages (from dataframe_image) (3.8.3)\n",
      "Requirement already satisfied: numpy>=1.19 in /data/user/home/jesusaur/.conda/envs/NLP-SPARQL/lib/python3.9/site-packages (from matplotlib>=3.1->dataframe_image) (1.22.4)\n",
      "Requirement already satisfied: cycler>=0.10 in /data/user/home/jesusaur/.conda/envs/NLP-SPARQL/lib/python3.9/site-packages (from matplotlib>=3.1->dataframe_image) (0.11.0)\n",
      "Requirement already satisfied: pyparsing>=2.2.1 in /data/user/home/jesusaur/.conda/envs/NLP-SPARQL/lib/python3.9/site-packages (from matplotlib>=3.1->dataframe_image) (3.0.9)\n",
      "Requirement already satisfied: pillow>=6.2.0 in /data/user/home/jesusaur/.conda/envs/NLP-SPARQL/lib/python3.9/site-packages (from matplotlib>=3.1->dataframe_image) (9.2.0)\n",
      "Requirement already satisfied: python-dateutil>=2.7 in /data/user/home/jesusaur/.conda/envs/NLP-SPARQL/lib/python3.9/site-packages (from matplotlib>=3.1->dataframe_image) (2.8.2)\n",
      "Requirement already satisfied: contourpy>=1.0.1 in /data/user/home/jesusaur/.conda/envs/NLP-SPARQL/lib/python3.9/site-packages (from matplotlib>=3.1->dataframe_image) (1.0.6)\n",
      "Requirement already satisfied: fonttools>=4.22.0 in /data/user/home/jesusaur/.conda/envs/NLP-SPARQL/lib/python3.9/site-packages (from matplotlib>=3.1->dataframe_image) (4.38.0)\n",
      "Requirement already satisfied: kiwisolver>=1.0.1 in /data/user/home/jesusaur/.conda/envs/NLP-SPARQL/lib/python3.9/site-packages (from matplotlib>=3.1->dataframe_image) (1.4.4)\n",
      "Requirement already satisfied: jinja2>=3.0 in /data/user/home/jesusaur/.conda/envs/NLP-SPARQL/lib/python3.9/site-packages (from nbconvert>=5->dataframe_image) (3.1.2)\n",
      "Requirement already satisfied: nbclient>=0.5.0 in /data/user/home/jesusaur/.conda/envs/NLP-SPARQL/lib/python3.9/site-packages (from nbconvert>=5->dataframe_image) (0.7.0)\n",
      "Requirement already satisfied: traitlets>=5.0 in /data/user/home/jesusaur/.conda/envs/NLP-SPARQL/lib/python3.9/site-packages (from nbconvert>=5->dataframe_image) (5.5.0)\n",
      "Requirement already satisfied: jupyterlab-pygments in /data/user/home/jesusaur/.conda/envs/NLP-SPARQL/lib/python3.9/site-packages (from nbconvert>=5->dataframe_image) (0.2.2)\n",
      "Requirement already satisfied: pygments>=2.4.1 in /data/user/home/jesusaur/.conda/envs/NLP-SPARQL/lib/python3.9/site-packages (from nbconvert>=5->dataframe_image) (2.13.0)\n",
      "Requirement already satisfied: jupyter-core>=4.7 in /data/user/home/jesusaur/.conda/envs/NLP-SPARQL/lib/python3.9/site-packages (from nbconvert>=5->dataframe_image) (5.0.0)\n",
      "Requirement already satisfied: nbformat>=5.1 in /data/user/home/jesusaur/.conda/envs/NLP-SPARQL/lib/python3.9/site-packages (from nbconvert>=5->dataframe_image) (5.7.0)\n",
      "Requirement already satisfied: pandocfilters>=1.4.1 in /data/user/home/jesusaur/.conda/envs/NLP-SPARQL/lib/python3.9/site-packages (from nbconvert>=5->dataframe_image) (1.5.0)\n",
      "Requirement already satisfied: tinycss2 in /data/user/home/jesusaur/.conda/envs/NLP-SPARQL/lib/python3.9/site-packages (from nbconvert>=5->dataframe_image) (1.2.1)\n",
      "Requirement already satisfied: importlib-metadata>=3.6 in /data/user/home/jesusaur/.conda/envs/NLP-SPARQL/lib/python3.9/site-packages (from nbconvert>=5->dataframe_image) (4.11.4)\n",
      "Requirement already satisfied: markupsafe>=2.0 in /data/user/home/jesusaur/.conda/envs/NLP-SPARQL/lib/python3.9/site-packages (from nbconvert>=5->dataframe_image) (2.1.1)\n",
      "Requirement already satisfied: bleach in /data/user/home/jesusaur/.conda/envs/NLP-SPARQL/lib/python3.9/site-packages (from nbconvert>=5->dataframe_image) (5.0.1)\n",
      "Requirement already satisfied: defusedxml in /data/user/home/jesusaur/.conda/envs/NLP-SPARQL/lib/python3.9/site-packages (from nbconvert>=5->dataframe_image) (0.7.1)\n",
      "Requirement already satisfied: pytz>=2020.1 in /data/user/home/jesusaur/.conda/envs/NLP-SPARQL/lib/python3.9/site-packages (from pandas>=0.24->dataframe_image) (2022.6)\n",
      "Requirement already satisfied: multidict<7.0,>=4.5 in /data/user/home/jesusaur/.conda/envs/NLP-SPARQL/lib/python3.9/site-packages (from aiohttp->dataframe_image) (6.0.2)\n",
      "Requirement already satisfied: aiosignal>=1.1.2 in /data/user/home/jesusaur/.conda/envs/NLP-SPARQL/lib/python3.9/site-packages (from aiohttp->dataframe_image) (1.3.1)\n",
      "Requirement already satisfied: yarl<2.0,>=1.0 in /data/user/home/jesusaur/.conda/envs/NLP-SPARQL/lib/python3.9/site-packages (from aiohttp->dataframe_image) (1.8.1)\n",
      "Requirement already satisfied: frozenlist>=1.1.1 in /data/user/home/jesusaur/.conda/envs/NLP-SPARQL/lib/python3.9/site-packages (from aiohttp->dataframe_image) (1.3.3)\n",
      "Requirement already satisfied: charset-normalizer<3.0,>=2.0 in /data/user/home/jesusaur/.conda/envs/NLP-SPARQL/lib/python3.9/site-packages (from aiohttp->dataframe_image) (2.1.1)\n",
      "Requirement already satisfied: async-timeout<5.0,>=4.0.0a3 in /data/user/home/jesusaur/.conda/envs/NLP-SPARQL/lib/python3.9/site-packages (from aiohttp->dataframe_image) (4.0.2)\n",
      "Requirement already satisfied: attrs>=17.3.0 in /data/user/home/jesusaur/.conda/envs/NLP-SPARQL/lib/python3.9/site-packages (from aiohttp->dataframe_image) (22.1.0)\n",
      "Requirement already satisfied: soupsieve>1.2 in /data/user/home/jesusaur/.conda/envs/NLP-SPARQL/lib/python3.9/site-packages (from beautifulsoup4->dataframe_image) (2.3.2.post1)\n",
      "Requirement already satisfied: idna<4,>=2.5 in /data/user/home/jesusaur/.conda/envs/NLP-SPARQL/lib/python3.9/site-packages (from requests->dataframe_image) (3.4)\n",
      "Requirement already satisfied: urllib3<1.27,>=1.21.1 in /data/user/home/jesusaur/.conda/envs/NLP-SPARQL/lib/python3.9/site-packages (from requests->dataframe_image) (1.26.13)\n",
      "Requirement already satisfied: certifi>=2017.4.17 in /data/user/home/jesusaur/.conda/envs/NLP-SPARQL/lib/python3.9/site-packages (from requests->dataframe_image) (2022.9.24)\n",
      "Requirement already satisfied: zipp>=0.5 in /data/user/home/jesusaur/.conda/envs/NLP-SPARQL/lib/python3.9/site-packages (from importlib-metadata>=3.6->nbconvert>=5->dataframe_image) (3.10.0)\n",
      "Requirement already satisfied: platformdirs in /data/user/home/jesusaur/.conda/envs/NLP-SPARQL/lib/python3.9/site-packages (from jupyter-core>=4.7->nbconvert>=5->dataframe_image) (2.5.2)\n",
      "Requirement already satisfied: nest-asyncio in /data/user/home/jesusaur/.conda/envs/NLP-SPARQL/lib/python3.9/site-packages (from nbclient>=0.5.0->nbconvert>=5->dataframe_image) (1.5.6)\n",
      "Requirement already satisfied: jupyter-client>=6.1.5 in /data/user/home/jesusaur/.conda/envs/NLP-SPARQL/lib/python3.9/site-packages (from nbclient>=0.5.0->nbconvert>=5->dataframe_image) (7.4.7)\n",
      "Requirement already satisfied: jsonschema>=2.6 in /data/user/home/jesusaur/.conda/envs/NLP-SPARQL/lib/python3.9/site-packages (from nbformat>=5.1->nbconvert>=5->dataframe_image) (4.17.1)\n",
      "Requirement already satisfied: fastjsonschema in /data/user/home/jesusaur/.conda/envs/NLP-SPARQL/lib/python3.9/site-packages (from nbformat>=5.1->nbconvert>=5->dataframe_image) (2.16.2)\n",
      "Requirement already satisfied: six>=1.5 in /data/user/home/jesusaur/.conda/envs/NLP-SPARQL/lib/python3.9/site-packages (from python-dateutil>=2.7->matplotlib>=3.1->dataframe_image) (1.16.0)\n"
     ]
    },
    {
     "name": "stdout",
     "output_type": "stream",
     "text": [
      "Requirement already satisfied: webencodings in /data/user/home/jesusaur/.conda/envs/NLP-SPARQL/lib/python3.9/site-packages (from bleach->nbconvert>=5->dataframe_image) (0.5.1)\n",
      "Requirement already satisfied: pyrsistent!=0.17.0,!=0.17.1,!=0.17.2,>=0.14.0 in /data/user/home/jesusaur/.conda/envs/NLP-SPARQL/lib/python3.9/site-packages (from jsonschema>=2.6->nbformat>=5.1->nbconvert>=5->dataframe_image) (0.19.2)\n",
      "Requirement already satisfied: pyzmq>=23.0 in /data/user/home/jesusaur/.conda/envs/NLP-SPARQL/lib/python3.9/site-packages (from jupyter-client>=6.1.5->nbclient>=0.5.0->nbconvert>=5->dataframe_image) (24.0.1)\n",
      "Requirement already satisfied: tornado>=6.2 in /data/user/home/jesusaur/.conda/envs/NLP-SPARQL/lib/python3.9/site-packages (from jupyter-client>=6.1.5->nbclient>=0.5.0->nbconvert>=5->dataframe_image) (6.2)\n",
      "Requirement already satisfied: entrypoints in /data/user/home/jesusaur/.conda/envs/NLP-SPARQL/lib/python3.9/site-packages (from jupyter-client>=6.1.5->nbclient>=0.5.0->nbconvert>=5->dataframe_image) (0.4)\n"
     ]
    }
   ],
   "source": [
    "!pip install dataframe_image\n",
    "\n",
    "import numpy as np\n",
    "import pandas as pd\n",
    "import dataframe_image as dfi"
   ]
  },
  {
   "cell_type": "code",
   "execution_count": 42,
   "id": "af4537c0",
   "metadata": {},
   "outputs": [],
   "source": [
    "data = { 'Paper KGQAS': [0.93, np.nan], 'BERT Seq Classifier': [0.897, 0.513], 'ROBERT Seq Classifier': [0.934, 0.648],\n",
    "        'Zoning KGQAS': [np.nan, np.nan], 'TEBA QA': [0.77, np.nan], 'TEBA QA XGBOOST': [0.81, np.nan],\n",
    "        'TEBA_QA_SVM': [0.78, np.nan], 'ROBERTA SQUAD QA': [0.0, 0.0], \n",
    "        'ROBERTA SQUAD QA finetuned': [np.nan, np.nan]}"
   ]
  },
  {
   "cell_type": "code",
   "execution_count": 87,
   "id": "3d260de0",
   "metadata": {},
   "outputs": [
    {
     "data": {
      "text/html": [
       "<div>\n",
       "<style scoped>\n",
       "    .dataframe tbody tr th:only-of-type {\n",
       "        vertical-align: middle;\n",
       "    }\n",
       "\n",
       "    .dataframe tbody tr th {\n",
       "        vertical-align: top;\n",
       "    }\n",
       "\n",
       "    .dataframe thead th {\n",
       "        text-align: right;\n",
       "    }\n",
       "</style>\n",
       "<table border=\"1\" class=\"dataframe\">\n",
       "  <thead>\n",
       "    <tr style=\"text-align: right;\">\n",
       "      <th></th>\n",
       "      <th>Model</th>\n",
       "      <th>Accuracy</th>\n",
       "      <th>F1</th>\n",
       "    </tr>\n",
       "  </thead>\n",
       "  <tbody>\n",
       "    <tr>\n",
       "      <th>0</th>\n",
       "      <td>Paper KGQAS</td>\n",
       "      <td>0.93</td>\n",
       "      <td>--</td>\n",
       "    </tr>\n",
       "    <tr>\n",
       "      <th>1</th>\n",
       "      <td>BERT Seq Classifier</td>\n",
       "      <td>0.897</td>\n",
       "      <td>0.513</td>\n",
       "    </tr>\n",
       "    <tr>\n",
       "      <th>2</th>\n",
       "      <td>ROBERT Seq Classifier</td>\n",
       "      <td>0.934</td>\n",
       "      <td>0.648</td>\n",
       "    </tr>\n",
       "    <tr>\n",
       "      <th>3</th>\n",
       "      <td>Zoning KGQAS</td>\n",
       "      <td>--</td>\n",
       "      <td>--</td>\n",
       "    </tr>\n",
       "    <tr>\n",
       "      <th>4</th>\n",
       "      <td>TEBA QA</td>\n",
       "      <td>0.77</td>\n",
       "      <td>--</td>\n",
       "    </tr>\n",
       "    <tr>\n",
       "      <th>5</th>\n",
       "      <td>TEBA QA XGBOOST</td>\n",
       "      <td>0.81</td>\n",
       "      <td>--</td>\n",
       "    </tr>\n",
       "    <tr>\n",
       "      <th>6</th>\n",
       "      <td>TEBA_QA_SVM</td>\n",
       "      <td>0.78</td>\n",
       "      <td>--</td>\n",
       "    </tr>\n",
       "    <tr>\n",
       "      <th>7</th>\n",
       "      <td>ROBERTA SQUAD QA</td>\n",
       "      <td>0.0</td>\n",
       "      <td>0.0</td>\n",
       "    </tr>\n",
       "    <tr>\n",
       "      <th>8</th>\n",
       "      <td>ROBERTA SQUAD QA finetuned</td>\n",
       "      <td>--</td>\n",
       "      <td>--</td>\n",
       "    </tr>\n",
       "  </tbody>\n",
       "</table>\n",
       "</div>"
      ],
      "text/plain": [
       "                        Model Accuracy     F1\n",
       "0                 Paper KGQAS     0.93     --\n",
       "1         BERT Seq Classifier    0.897  0.513\n",
       "2       ROBERT Seq Classifier    0.934  0.648\n",
       "3                Zoning KGQAS       --     --\n",
       "4                     TEBA QA     0.77     --\n",
       "5             TEBA QA XGBOOST     0.81     --\n",
       "6                 TEBA_QA_SVM     0.78     --\n",
       "7            ROBERTA SQUAD QA      0.0    0.0\n",
       "8  ROBERTA SQUAD QA finetuned       --     --"
      ]
     },
     "execution_count": 87,
     "metadata": {},
     "output_type": "execute_result"
    }
   ],
   "source": [
    "pd.set_option('display.colheader_justify', 'right')\n",
    "df = pd.DataFrame.from_dict(data, orient='index', columns=['Accuracy', \"F1\"])\n",
    "df = df.reset_index().rename(columns = {'index': 'Model'})\n",
    "df = df.astype(str).replace('nan', '--')\n",
    "df"
   ]
  },
  {
   "cell_type": "code",
   "execution_count": 91,
   "id": "e5a5105d",
   "metadata": {},
   "outputs": [
    {
     "data": {
      "text/html": [
       "<style type=\"text/css\">\n",
       "#T_6ccc4 th {\n",
       "  text-align: center;\n",
       "  border: 20px;\n",
       "}\n",
       "#T_6ccc4_row0_col0, #T_6ccc4_row0_col1, #T_6ccc4_row0_col2, #T_6ccc4_row1_col0, #T_6ccc4_row1_col1, #T_6ccc4_row1_col2, #T_6ccc4_row2_col0, #T_6ccc4_row2_col1, #T_6ccc4_row2_col2, #T_6ccc4_row3_col0, #T_6ccc4_row3_col1, #T_6ccc4_row3_col2, #T_6ccc4_row4_col0, #T_6ccc4_row4_col1, #T_6ccc4_row4_col2, #T_6ccc4_row5_col0, #T_6ccc4_row5_col1, #T_6ccc4_row5_col2, #T_6ccc4_row6_col0, #T_6ccc4_row6_col1, #T_6ccc4_row6_col2, #T_6ccc4_row7_col0, #T_6ccc4_row7_col1, #T_6ccc4_row7_col2, #T_6ccc4_row8_col0, #T_6ccc4_row8_col1, #T_6ccc4_row8_col2 {\n",
       "  font-size: 12pt;\n",
       "  text-align: left;\n",
       "}\n",
       "</style>\n",
       "<table id=\"T_6ccc4\">\n",
       "  <caption>Model Comparisons</caption>\n",
       "  <thead>\n",
       "    <tr>\n",
       "      <th class=\"blank level0\" >&nbsp;</th>\n",
       "      <th id=\"T_6ccc4_level0_col0\" class=\"col_heading level0 col0\" >Model</th>\n",
       "      <th id=\"T_6ccc4_level0_col1\" class=\"col_heading level0 col1\" >Accuracy</th>\n",
       "      <th id=\"T_6ccc4_level0_col2\" class=\"col_heading level0 col2\" >F1</th>\n",
       "    </tr>\n",
       "  </thead>\n",
       "  <tbody>\n",
       "    <tr>\n",
       "      <th id=\"T_6ccc4_level0_row0\" class=\"row_heading level0 row0\" >0</th>\n",
       "      <td id=\"T_6ccc4_row0_col0\" class=\"data row0 col0\" >Paper KGQAS</td>\n",
       "      <td id=\"T_6ccc4_row0_col1\" class=\"data row0 col1\" >0.93</td>\n",
       "      <td id=\"T_6ccc4_row0_col2\" class=\"data row0 col2\" >--</td>\n",
       "    </tr>\n",
       "    <tr>\n",
       "      <th id=\"T_6ccc4_level0_row1\" class=\"row_heading level0 row1\" >1</th>\n",
       "      <td id=\"T_6ccc4_row1_col0\" class=\"data row1 col0\" >BERT Seq Classifier</td>\n",
       "      <td id=\"T_6ccc4_row1_col1\" class=\"data row1 col1\" >0.897</td>\n",
       "      <td id=\"T_6ccc4_row1_col2\" class=\"data row1 col2\" >0.513</td>\n",
       "    </tr>\n",
       "    <tr>\n",
       "      <th id=\"T_6ccc4_level0_row2\" class=\"row_heading level0 row2\" >2</th>\n",
       "      <td id=\"T_6ccc4_row2_col0\" class=\"data row2 col0\" >ROBERT Seq Classifier</td>\n",
       "      <td id=\"T_6ccc4_row2_col1\" class=\"data row2 col1\" >0.934</td>\n",
       "      <td id=\"T_6ccc4_row2_col2\" class=\"data row2 col2\" >0.648</td>\n",
       "    </tr>\n",
       "    <tr>\n",
       "      <th id=\"T_6ccc4_level0_row3\" class=\"row_heading level0 row3\" >3</th>\n",
       "      <td id=\"T_6ccc4_row3_col0\" class=\"data row3 col0\" >Zoning KGQAS</td>\n",
       "      <td id=\"T_6ccc4_row3_col1\" class=\"data row3 col1\" >--</td>\n",
       "      <td id=\"T_6ccc4_row3_col2\" class=\"data row3 col2\" >--</td>\n",
       "    </tr>\n",
       "    <tr>\n",
       "      <th id=\"T_6ccc4_level0_row4\" class=\"row_heading level0 row4\" >4</th>\n",
       "      <td id=\"T_6ccc4_row4_col0\" class=\"data row4 col0\" >TEBA QA</td>\n",
       "      <td id=\"T_6ccc4_row4_col1\" class=\"data row4 col1\" >0.77</td>\n",
       "      <td id=\"T_6ccc4_row4_col2\" class=\"data row4 col2\" >--</td>\n",
       "    </tr>\n",
       "    <tr>\n",
       "      <th id=\"T_6ccc4_level0_row5\" class=\"row_heading level0 row5\" >5</th>\n",
       "      <td id=\"T_6ccc4_row5_col0\" class=\"data row5 col0\" >TEBA QA XGBOOST</td>\n",
       "      <td id=\"T_6ccc4_row5_col1\" class=\"data row5 col1\" >0.81</td>\n",
       "      <td id=\"T_6ccc4_row5_col2\" class=\"data row5 col2\" >--</td>\n",
       "    </tr>\n",
       "    <tr>\n",
       "      <th id=\"T_6ccc4_level0_row6\" class=\"row_heading level0 row6\" >6</th>\n",
       "      <td id=\"T_6ccc4_row6_col0\" class=\"data row6 col0\" >TEBA_QA_SVM</td>\n",
       "      <td id=\"T_6ccc4_row6_col1\" class=\"data row6 col1\" >0.78</td>\n",
       "      <td id=\"T_6ccc4_row6_col2\" class=\"data row6 col2\" >--</td>\n",
       "    </tr>\n",
       "    <tr>\n",
       "      <th id=\"T_6ccc4_level0_row7\" class=\"row_heading level0 row7\" >7</th>\n",
       "      <td id=\"T_6ccc4_row7_col0\" class=\"data row7 col0\" >ROBERTA SQUAD QA</td>\n",
       "      <td id=\"T_6ccc4_row7_col1\" class=\"data row7 col1\" >0.0</td>\n",
       "      <td id=\"T_6ccc4_row7_col2\" class=\"data row7 col2\" >0.0</td>\n",
       "    </tr>\n",
       "    <tr>\n",
       "      <th id=\"T_6ccc4_level0_row8\" class=\"row_heading level0 row8\" >8</th>\n",
       "      <td id=\"T_6ccc4_row8_col0\" class=\"data row8 col0\" >ROBERTA SQUAD QA finetuned</td>\n",
       "      <td id=\"T_6ccc4_row8_col1\" class=\"data row8 col1\" >--</td>\n",
       "      <td id=\"T_6ccc4_row8_col2\" class=\"data row8 col2\" >--</td>\n",
       "    </tr>\n",
       "  </tbody>\n",
       "</table>\n"
      ],
      "text/plain": [
       "<pandas.io.formats.style.Styler at 0x2aab02f55d90>"
      ]
     },
     "execution_count": 91,
     "metadata": {},
     "output_type": "execute_result"
    }
   ],
   "source": [
    "d = dict.fromkeys(df.select_dtypes('float').columns, \"{:.3f}\")\n",
    "df_styled = df.style.set_properties(**{'font-size': '12pt','text-align': 'left'})\\\n",
    ".format(d).set_caption('Model Comparisons').set_table_styles([dict(selector='th', props=[('text-align', 'center'),\\\n",
    "                                                                                         ('border','30px')])])\n",
    "df_styled"
   ]
  },
  {
   "cell_type": "code",
   "execution_count": 96,
   "id": "7fcc5fe1",
   "metadata": {},
   "outputs": [
    {
     "data": {
      "text/plain": [
       "<Figure size 640x480 with 0 Axes>"
      ]
     },
     "metadata": {},
     "output_type": "display_data"
    }
   ],
   "source": [
    "df_styled.export_png('comparison_table.png', , dpi=300) # table_conversion='matplotlib') uncomment for cheaha"
   ]
  },
  {
   "cell_type": "code",
   "execution_count": null,
   "id": "ca2ae24a",
   "metadata": {},
   "outputs": [],
   "source": []
  }
 ],
 "metadata": {
  "anaconda-cloud": {},
  "kernelspec": {
   "display_name": "Python [conda env:.conda-NLP-SPARQL]",
   "language": "python",
   "name": "conda-env-.conda-NLP-SPARQL-py"
  },
  "language_info": {
   "codemirror_mode": {
    "name": "ipython",
    "version": 3
   },
   "file_extension": ".py",
   "mimetype": "text/x-python",
   "name": "python",
   "nbconvert_exporter": "python",
   "pygments_lexer": "ipython3",
   "version": "3.9.15"
  }
 },
 "nbformat": 4,
 "nbformat_minor": 5
}
