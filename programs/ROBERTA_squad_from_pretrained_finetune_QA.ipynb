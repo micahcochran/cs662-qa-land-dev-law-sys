{
 "cells": [
  {
   "cell_type": "code",
   "execution_count": 1,
   "id": "0cbd3625",
   "metadata": {},
   "outputs": [],
   "source": [
    "import os\n",
    "import sys\n",
    "import json\n",
    "import pandas as pd\n",
    "from pathlib import Path\n",
    "from pprint import pprint\n",
    "import ipywidgets as widgets\n",
    "\n",
    "os.environ['KMP_DUPLICATE_LIB_OK']='True' # caused by some haystack duplication of processes, currently only a workaround\n",
    "\n",
    "sys.path.append('..') # for cheaha '..' is all that is needed here\n",
    "\n",
    "import logging\n",
    "\n",
    "logging.basicConfig(format=\"%(levelname)s - %(name)s -  %(message)s\", level=logging.WARNING)\n",
    "logging.getLogger(\"haystack\").setLevel(logging.INFO)\n",
    "\n",
    "from nlp.model import create_reader\n",
    "\n",
    "from haystack.nodes import FARMReader\n",
    "from haystack.nodes import TfidfRetriever\n",
    "from haystack.pipelines import ExtractiveQAPipeline\n",
    "from haystack.document_stores import InMemoryDocumentStore\n",
    "from haystack.utils import clean_wiki_text, convert_files_to_docs"
   ]
  },
  {
   "cell_type": "code",
   "execution_count": 2,
   "id": "220cf711",
   "metadata": {},
   "outputs": [
    {
     "name": "stdout",
     "output_type": "stream",
     "text": [
      "/data/user/home/jesusaur/cs662-qa-land-dev-law-sys/programs\n"
     ]
    }
   ],
   "source": [
    "print(f'{os.getcwd()}')"
   ]
  },
  {
   "cell_type": "code",
   "execution_count": 3,
   "id": "ed383552",
   "metadata": {},
   "outputs": [],
   "source": [
    "data_name = 'zo_squad'\n",
    "\n",
    "model_dir = f'../readers/{data_name}'\n",
    "Path(model_dir).mkdir(parents=True, exist_ok=True)"
   ]
  },
  {
   "cell_type": "code",
   "execution_count": 4,
   "id": "bc280439",
   "metadata": {},
   "outputs": [
    {
     "name": "stderr",
     "output_type": "stream",
     "text": [
      "INFO - haystack.modeling.utils -  Using devices: CUDA:0 - Number of GPUs: 1\n",
      "INFO - haystack.modeling.utils -  Using devices: CUDA:0 - Number of GPUs: 1\n"
     ]
    },
    {
     "name": "stdout",
     "output_type": "stream",
     "text": [
      "/data/user/home/jesusaur/cs662-qa-land-dev-law-sys/programs/../nlp/model/data/question_answering/zo_squad/zo_squad.json\n",
      "/data/user/home/jesusaur/cs662-qa-land-dev-law-sys/programs/../nlp/model/data/question_answering/zo_squad/.ipynb_checkpoints\n",
      "/data/user/home/jesusaur/cs662-qa-land-dev-law-sys/programs/../nlp/model/data/question_answering/zo_squad/__init__.py\n",
      "/data/user/home/jesusaur/cs662-qa-land-dev-law-sys/programs/../nlp/model/data/question_answering/zo_squad/__pycache__\n"
     ]
    },
    {
     "name": "stderr",
     "output_type": "stream",
     "text": [
      "INFO - haystack.modeling.model.language_model -   * LOADING MODEL: 'deepset/roberta-base-squad2' (Roberta)\n",
      "INFO - haystack.modeling.model.language_model -  Auto-detected model language: english\n",
      "INFO - haystack.modeling.model.language_model -  Loaded 'deepset/roberta-base-squad2' (Roberta model) from model hub.\n",
      "INFO - haystack.modeling.utils -  Using devices: CUDA:0 - Number of GPUs: 1\n",
      "INFO - haystack.modeling.utils -  Using devices: CUDA:0 - Number of GPUs: 1\n",
      "INFO - haystack.modeling.data_handler.data_silo -  \n",
      "Loading data into the data silo ... \n",
      "              ______\n",
      "               |o  |   !\n",
      "   __          |:`_|---'-.\n",
      "  |__|______.-/ _ \\-----.|       \n",
      " (o)(o)------'\\ _ /     ( )      \n",
      " \n",
      "INFO - haystack.modeling.data_handler.data_silo -  LOADING TRAIN DATA\n",
      "INFO - haystack.modeling.data_handler.data_silo -  ==================\n",
      "INFO - haystack.modeling.data_handler.data_silo -  Loading train set from: /data/user/home/jesusaur/cs662-qa-land-dev-law-sys/programs/../nlp/model/data/question_answering/zo_squad/zo_squad.json \n",
      "Preprocessing dataset: 100%|██████████| 1/1 [00:01<00:00,  1.23s/ Dicts]\n",
      "INFO - haystack.modeling.data_handler.data_silo -  \n",
      "INFO - haystack.modeling.data_handler.data_silo -  LOADING DEV DATA\n",
      "INFO - haystack.modeling.data_handler.data_silo -  =================\n",
      "INFO - haystack.modeling.data_handler.data_silo -  No dev set is being loaded\n",
      "INFO - haystack.modeling.data_handler.data_silo -  \n",
      "INFO - haystack.modeling.data_handler.data_silo -  LOADING TEST DATA\n",
      "INFO - haystack.modeling.data_handler.data_silo -  =================\n",
      "INFO - haystack.modeling.data_handler.data_silo -  No test set is being loaded\n",
      "INFO - haystack.modeling.data_handler.data_silo -  \n",
      "INFO - haystack.modeling.data_handler.data_silo -  DATASETS SUMMARY\n",
      "INFO - haystack.modeling.data_handler.data_silo -  ================\n",
      "INFO - haystack.modeling.data_handler.data_silo -  Examples in train: 3703\n",
      "INFO - haystack.modeling.data_handler.data_silo -  Examples in dev  : 0\n",
      "INFO - haystack.modeling.data_handler.data_silo -  Examples in test : 0\n",
      "INFO - haystack.modeling.data_handler.data_silo -  Total examples   : 3703\n",
      "INFO - haystack.modeling.data_handler.data_silo -  \n",
      "INFO - haystack.modeling.data_handler.data_silo -  Longest sequence length observed after clipping:     256\n",
      "INFO - haystack.modeling.data_handler.data_silo -  Average sequence length after clipping: 254.55576559546313\n",
      "INFO - haystack.modeling.data_handler.data_silo -  Proportion clipped:      0.9497704563867134\n",
      "INFO - haystack.modeling.data_handler.data_silo -  [Haystack Tip] 95.0% of your samples got cut down to 256 tokens. Consider increasing max_seq_len (the maximum value allowed with the current model is max_seq_len=512, if this is not enough consider splitting the document in smaller units or changing the model). This will lead to higher memory consumption but is likely to improve your model performance\n",
      "INFO - haystack.modeling.model.optimization -  Loading optimizer 'AdamW': {'correct_bias': False, 'weight_decay': 0.01, 'lr': 1e-05}\n",
      "INFO - haystack.modeling.model.optimization -  Using scheduler 'get_linear_schedule_with_warmup'\n",
      "INFO - haystack.modeling.model.optimization -  Loading schedule 'get_linear_schedule_with_warmup': '{'num_training_steps': 1113, 'num_warmup_steps': 222}'\n",
      "Train epoch 0/2 (Cur. train loss: 0.0008): 100%|██████████| 371/371 [01:47<00:00,  3.44it/s]\n",
      "Train epoch 1/2 (Cur. train loss: 0.0892): 100%|██████████| 371/371 [01:46<00:00,  3.47it/s]\n",
      "Train epoch 2/2 (Cur. train loss: 0.4041): 100%|██████████| 371/371 [01:46<00:00,  3.48it/s]\n",
      "INFO - haystack.nodes.reader.farm -  Saving reader model to my_model\n",
      "INFO - haystack.nodes.reader.farm -  Saving reader model to ../readers/zo_squad\n"
     ]
    }
   ],
   "source": [
    "reader = create_reader(model_dir, data_name, dev_split=0.0, gpu=True, epochs=3)"
   ]
  },
  {
   "cell_type": "code",
   "execution_count": 5,
   "id": "aa140e10",
   "metadata": {},
   "outputs": [
    {
     "name": "stderr",
     "output_type": "stream",
     "text": [
      "INFO - haystack.modeling.utils -  Using devices: CUDA:0 - Number of GPUs: 1\n",
      "INFO - haystack.utils.preprocessing -  Converting /data/user/home/jesusaur/cs662-qa-land-dev-law-sys/programs/data/text/text_2.txt\n",
      "INFO - haystack.utils.preprocessing -  Converting /data/user/home/jesusaur/cs662-qa-land-dev-law-sys/programs/data/text/text_3.txt\n",
      "INFO - haystack.utils.preprocessing -  Converting /data/user/home/jesusaur/cs662-qa-land-dev-law-sys/programs/data/text/text_14.txt\n",
      "INFO - haystack.utils.preprocessing -  Converting /data/user/home/jesusaur/cs662-qa-land-dev-law-sys/programs/data/text/text_11.txt\n",
      "INFO - haystack.utils.preprocessing -  Converting /data/user/home/jesusaur/cs662-qa-land-dev-law-sys/programs/data/text/text_12.txt\n",
      "INFO - haystack.utils.preprocessing -  Converting /data/user/home/jesusaur/cs662-qa-land-dev-law-sys/programs/data/text/text_18.txt\n",
      "INFO - haystack.utils.preprocessing -  Converting /data/user/home/jesusaur/cs662-qa-land-dev-law-sys/programs/data/text/text_13.txt\n",
      "INFO - haystack.utils.preprocessing -  Converting /data/user/home/jesusaur/cs662-qa-land-dev-law-sys/programs/data/text/text_5.txt\n",
      "INFO - haystack.utils.preprocessing -  Converting /data/user/home/jesusaur/cs662-qa-land-dev-law-sys/programs/data/text/text_7.txt\n",
      "INFO - haystack.utils.preprocessing -  Converting /data/user/home/jesusaur/cs662-qa-land-dev-law-sys/programs/data/text/text_1.txt\n",
      "INFO - haystack.utils.preprocessing -  Converting /data/user/home/jesusaur/cs662-qa-land-dev-law-sys/programs/data/text/text_4.txt\n",
      "INFO - haystack.utils.preprocessing -  Converting /data/user/home/jesusaur/cs662-qa-land-dev-law-sys/programs/data/text/text_15.txt\n",
      "INFO - haystack.utils.preprocessing -  Converting /data/user/home/jesusaur/cs662-qa-land-dev-law-sys/programs/data/text/text_8.txt\n",
      "INFO - haystack.utils.preprocessing -  Converting /data/user/home/jesusaur/cs662-qa-land-dev-law-sys/programs/data/text/text_17.txt\n",
      "INFO - haystack.utils.preprocessing -  Converting /data/user/home/jesusaur/cs662-qa-land-dev-law-sys/programs/data/text/text_10.txt\n",
      "INFO - haystack.utils.preprocessing -  Converting /data/user/home/jesusaur/cs662-qa-land-dev-law-sys/programs/data/text/text_6.txt\n",
      "INFO - haystack.utils.preprocessing -  Converting /data/user/home/jesusaur/cs662-qa-land-dev-law-sys/programs/data/text/text_9.txt\n",
      "INFO - haystack.utils.preprocessing -  Converting /data/user/home/jesusaur/cs662-qa-land-dev-law-sys/programs/data/text/text_16.txt\n",
      "INFO - haystack.utils.preprocessing -  Converting /data/user/home/jesusaur/cs662-qa-land-dev-law-sys/programs/data/text/text_0.txt\n"
     ]
    }
   ],
   "source": [
    "document_store = InMemoryDocumentStore()\n",
    "\n",
    "doc_dir = f\"{os.getcwd()}/data/text\"\n",
    "\n",
    "docs = convert_files_to_docs(dir_path=doc_dir)\n",
    "document_store.write_documents(docs)"
   ]
  },
  {
   "cell_type": "code",
   "execution_count": 6,
   "id": "1ebbab5a",
   "metadata": {},
   "outputs": [
    {
     "name": "stderr",
     "output_type": "stream",
     "text": [
      "INFO - haystack.nodes.retriever.sparse -  Found 78 candidate paragraphs from 19 docs in DB\n"
     ]
    }
   ],
   "source": [
    "retriever = TfidfRetriever(document_store=document_store)"
   ]
  },
  {
   "cell_type": "code",
   "execution_count": 7,
   "id": "ffda4581",
   "metadata": {},
   "outputs": [
    {
     "name": "stderr",
     "output_type": "stream",
     "text": [
      "INFO - haystack.modeling.utils -  Using devices: CUDA:0 - Number of GPUs: 1\n",
      "INFO - haystack.modeling.utils -  Using devices: CUDA:0 - Number of GPUs: 1\n",
      "INFO - haystack.modeling.model.language_model -   * LOADING MODEL: '../readers/zo_squad' (Roberta)\n",
      "INFO - haystack.modeling.model.language_model -  Loaded '../readers/zo_squad' (Roberta model) from local file system.\n",
      "INFO - haystack.modeling.model.adaptive_model -  Found files for loading 1 prediction heads\n",
      "WARNING - haystack.modeling.model.prediction_head -  Some unused parameters are passed to the QuestionAnsweringHead. Might not be a problem. Params: {\"training\": true, \"num_labels\": 2, \"ph_output_type\": \"per_token_squad\", \"model_type\": \"span_classification\", \"label_tensor_name\": \"question_answering_label_ids\", \"label_list\": [\"start_token\", \"end_token\"], \"metric\": \"squad\", \"name\": \"QuestionAnsweringHead\"}\n",
      "INFO - haystack.modeling.model.prediction_head -  Loading prediction head from ../readers/zo_squad/prediction_head_0.bin\n",
      "INFO - haystack.modeling.data_handler.processor -  Initialized processor without tasks. Supply `metric` and `label_list` to the constructor for using the default task or add a custom task later via processor.add_task()\n",
      "INFO - haystack.modeling.utils -  Using devices: CUDA:0 - Number of GPUs: 1\n"
     ]
    }
   ],
   "source": [
    "reader = FARMReader(model_name_or_path=model_dir, use_gpu=True)"
   ]
  },
  {
   "cell_type": "code",
   "execution_count": 8,
   "id": "768bbebc",
   "metadata": {},
   "outputs": [],
   "source": [
    "pipe = ExtractiveQAPipeline(reader, retriever)"
   ]
  },
  {
   "cell_type": "code",
   "execution_count": 9,
   "id": "d0797337",
   "metadata": {},
   "outputs": [
    {
     "data": {
      "application/vnd.jupyter.widget-view+json": {
       "model_id": "2d844342f73842bf863b4c788f2089aa",
       "version_major": 2,
       "version_minor": 0
      },
      "text/plain": [
       "Text(value='', description='Question:', placeholder='Enter your question.')"
      ]
     },
     "metadata": {},
     "output_type": "display_data"
    }
   ],
   "source": [
    "txtsl = widgets.Text( # 'Which zoning districts allow group care facilities?'\n",
    " placeholder='Enter your question.',\n",
    " description='Question:'\n",
    " )\n",
    "display(txtsl)"
   ]
  },
  {
   "cell_type": "code",
   "execution_count": 17,
   "id": "8fc5cca7",
   "metadata": {},
   "outputs": [
    {
     "name": "stdout",
     "output_type": "stream",
     "text": [
      "Question: Which zones permit indoor theaters?\n"
     ]
    },
    {
     "name": "stderr",
     "output_type": "stream",
     "text": [
      "Inferencing Samples: 100%|██████████| 7/7 [00:02<00:00,  2.95 Batches/s]\n"
     ]
    }
   ],
   "source": [
    "print(f'Question: {txtsl.value}')\n",
    "prediction = pipe.run(\n",
    "    query=txtsl.value, params={\"Retriever\": {\"top_k\": 20}, \"Reader\": {\"top_k\": 2}}\n",
    ")"
   ]
  },
  {
   "cell_type": "code",
   "execution_count": 18,
   "id": "a1c45723",
   "metadata": {},
   "outputs": [
    {
     "name": "stdout",
     "output_type": "stream",
     "text": [
      "[<Answer {'answer': 'C3, which includes amusement centers including bowling alleys, golf driving ranges, miniature golf courses, ice skating rinks, pool and billiard halls; and C4, which includes major automotive repair, manufacturing and commercial centers', 'type': 'extractive', 'score': 0.8879691958427429, 'context': 'C3, which includes amusement centers including bowling alleys, golf driving ranges, miniature golf courses, ice skating rinks, pool and billiard halls; and C4, which includes major automotive repair, manufacturing and commercial centers', 'offsets_in_document': [{'start': 4763, 'end': 4999}], 'offsets_in_context': [{'start': 0, 'end': 236}], 'document_id': '51d9574bffbcd3dd446782323416b218', 'meta': {'name': 'text_1.txt'}}>,\n",
      " <Answer {'answer': 'RESIDENTIAL ZONES', 'type': 'extractive', 'score': 0.8432620763778687, 'context': 'NTERNATIONAL ZONING CODE”  CHAPTER 5 RESIDENTIAL ZONES SECTION 501 RESIDENTIAL ZONES DEFINED 501.1 Residential zone. Allowable residential (R) zone us', 'offsets_in_document': [{'start': 6322, 'end': 6339}], 'offsets_in_context': [{'start': 67, 'end': 84}], 'document_id': '7a98d21fe50cfbc418dc8fa5e9a68798', 'meta': {'name': 'text_7.txt'}}>]\n"
     ]
    }
   ],
   "source": [
    "pprint(prediction['answers'])"
   ]
  },
  {
   "cell_type": "code",
   "execution_count": 14,
   "id": "35260f07",
   "metadata": {},
   "outputs": [
    {
     "name": "stdout",
     "output_type": "stream",
     "text": [
      "\n",
      "Query: Which zones allow quarries?\n",
      "Answers:\n",
      "[   <Answer {'answer': 'Division 3. Any use permitted in the FI, Division 2 zone and auto-dismantling yards, alcohol manufacturing, cotton gins, paper manufacturing, quarries, salt works, petroleum refining, and other similar uses', 'type': 'extractive', 'score': 0.9963598847389221, 'context': 'Division 3. Any use permitted in the FI, Division 2 zone and auto-dismantling yards, alcohol manufacturing, cotton gins, paper manufacturing, quarries, salt works, petroleum refining, and other similar uses', 'offsets_in_document': [{'start': 6278, 'end': 6484}], 'offsets_in_context': [{'start': 0, 'end': 206}], 'document_id': '43f2a4f50fd4bc8b4b8b8aae557ee365', 'meta': {'name': 'text_8.txt'}}>,\n",
      "    <Answer {'answer': 'C1, which includes minor automotive repair and automotive fuel dispensing facilities; C2, which includes light commercial and group care facilities; C3, which includes amusement centers including bowling alleys, golf driving ranges, miniature golf courses, ice skating rinks, pool and billiard halls; and C4, which includes major automotive repair, manufacturing and commercial centers', 'type': 'extractive', 'score': 0.8263331055641174, 'context': ' C1, which includes minor automotive repair and automotive fuel dispensing facilities; C2, which includes light commercial and group care facilities; C3, which includes amusement centers including bowling alleys, golf driving ranges, miniature golf courses, ice skating rinks, pool and billiard halls; and C4, which includes major automotive repair, manufacturing and commercial centers', 'offsets_in_document': [{'start': 4614, 'end': 4999}], 'offsets_in_context': [{'start': 1, 'end': 386}], 'document_id': '51d9574bffbcd3dd446782323416b218', 'meta': {'name': 'text_1.txt'}}>]\n"
     ]
    }
   ],
   "source": [
    "from haystack.utils import print_answers\n",
    "\n",
    "print_answers(prediction, details=\"all\")"
   ]
  },
  {
   "cell_type": "code",
   "execution_count": null,
   "id": "a4651edc",
   "metadata": {},
   "outputs": [],
   "source": []
  }
 ],
 "metadata": {
  "anaconda-cloud": {},
  "kernelspec": {
   "display_name": "Python [conda env:.conda-NLP-SPARQL]",
   "language": "python",
   "name": "conda-env-.conda-NLP-SPARQL-py"
  },
  "language_info": {
   "codemirror_mode": {
    "name": "ipython",
    "version": 3
   },
   "file_extension": ".py",
   "mimetype": "text/x-python",
   "name": "python",
   "nbconvert_exporter": "python",
   "pygments_lexer": "ipython3",
   "version": "3.9.15"
  }
 },
 "nbformat": 4,
 "nbformat_minor": 5
}
