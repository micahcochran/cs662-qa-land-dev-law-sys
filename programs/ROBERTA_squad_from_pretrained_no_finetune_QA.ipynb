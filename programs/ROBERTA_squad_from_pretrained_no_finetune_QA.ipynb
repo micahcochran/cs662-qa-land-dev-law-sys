{
 "cells": [
  {
   "cell_type": "code",
   "execution_count": 14,
   "id": "9c03df10",
   "metadata": {},
   "outputs": [],
   "source": [
    "import os\n",
    "\n",
    "os.environ['KMP_DUPLICATE_LIB_OK']='True'\n",
    "\n",
    "import logging\n",
    "import ipywidgets as widgets\n",
    "from pprint import pprint\n",
    "\n",
    "logging.basicConfig(format=\"%(levelname)s - %(name)s -  %(message)s\", level=logging.WARNING)\n",
    "logging.getLogger(\"haystack\").setLevel(logging.INFO)\n",
    "\n",
    "from haystack.nodes import FARMReader\n",
    "from haystack.nodes import TfidfRetriever\n",
    "from haystack.pipelines import ExtractiveQAPipeline\n",
    "from haystack.document_stores import InMemoryDocumentStore\n",
    "from haystack.utils import clean_wiki_text, convert_files_to_docs"
   ]
  },
  {
   "cell_type": "code",
   "execution_count": 30,
   "id": "7623eda1",
   "metadata": {},
   "outputs": [
    {
     "name": "stderr",
     "output_type": "stream",
     "text": [
      "INFO - haystack.modeling.utils -  Using devices: CUDA:0 - Number of GPUs: 1\n",
      "INFO - haystack.utils.preprocessing -  Converting /data/user/home/jesusaur/cs662-qa-land-dev-law-sys/programs/data/text/text_2.txt\n",
      "INFO - haystack.utils.preprocessing -  Converting /data/user/home/jesusaur/cs662-qa-land-dev-law-sys/programs/data/text/text_3.txt\n",
      "INFO - haystack.utils.preprocessing -  Converting /data/user/home/jesusaur/cs662-qa-land-dev-law-sys/programs/data/text/text_11.txt\n",
      "INFO - haystack.utils.preprocessing -  Converting /data/user/home/jesusaur/cs662-qa-land-dev-law-sys/programs/data/text/text_12.txt\n",
      "INFO - haystack.utils.preprocessing -  Converting /data/user/home/jesusaur/cs662-qa-land-dev-law-sys/programs/data/text/text_5.txt\n",
      "INFO - haystack.utils.preprocessing -  Converting /data/user/home/jesusaur/cs662-qa-land-dev-law-sys/programs/data/text/text_7.txt\n",
      "INFO - haystack.utils.preprocessing -  Converting /data/user/home/jesusaur/cs662-qa-land-dev-law-sys/programs/data/text/text_1.txt\n",
      "INFO - haystack.utils.preprocessing -  Converting /data/user/home/jesusaur/cs662-qa-land-dev-law-sys/programs/data/text/text_4.txt\n",
      "INFO - haystack.utils.preprocessing -  Converting /data/user/home/jesusaur/cs662-qa-land-dev-law-sys/programs/data/text/text_8.txt\n",
      "INFO - haystack.utils.preprocessing -  Converting /data/user/home/jesusaur/cs662-qa-land-dev-law-sys/programs/data/text/text_10.txt\n",
      "INFO - haystack.utils.preprocessing -  Converting /data/user/home/jesusaur/cs662-qa-land-dev-law-sys/programs/data/text/text_6.txt\n",
      "INFO - haystack.utils.preprocessing -  Converting /data/user/home/jesusaur/cs662-qa-land-dev-law-sys/programs/data/text/text_9.txt\n",
      "INFO - haystack.utils.preprocessing -  Converting /data/user/home/jesusaur/cs662-qa-land-dev-law-sys/programs/data/text/text_0.txt\n"
     ]
    }
   ],
   "source": [
    "document_store = InMemoryDocumentStore()\n",
    "\n",
    "doc_dir = f\"{os.getcwd()}/data/text\"\n",
    "\n",
    "docs = convert_files_to_docs(dir_path=doc_dir)\n",
    "document_store.write_documents(docs)"
   ]
  },
  {
   "cell_type": "code",
   "execution_count": 31,
   "id": "16d395d7",
   "metadata": {},
   "outputs": [
    {
     "name": "stderr",
     "output_type": "stream",
     "text": [
      "INFO - haystack.nodes.retriever.sparse -  Found 13 candidate paragraphs from 13 docs in DB\n"
     ]
    }
   ],
   "source": [
    "retriever = TfidfRetriever(document_store=document_store)"
   ]
  },
  {
   "cell_type": "code",
   "execution_count": 32,
   "id": "aa919981",
   "metadata": {},
   "outputs": [
    {
     "name": "stderr",
     "output_type": "stream",
     "text": [
      "INFO - haystack.modeling.utils -  Using devices: CUDA:0 - Number of GPUs: 1\n",
      "INFO - haystack.modeling.utils -  Using devices: CUDA:0 - Number of GPUs: 1\n",
      "INFO - haystack.modeling.model.language_model -   * LOADING MODEL: 'deepset/roberta-base-squad2' (Roberta)\n",
      "INFO - haystack.modeling.model.language_model -  Auto-detected model language: english\n",
      "INFO - haystack.modeling.model.language_model -  Loaded 'deepset/roberta-base-squad2' (Roberta model) from model hub.\n",
      "INFO - haystack.modeling.utils -  Using devices: CUDA:0 - Number of GPUs: 1\n"
     ]
    }
   ],
   "source": [
    "reader = FARMReader(model_name_or_path=\"deepset/roberta-base-squad2\", use_gpu=True)"
   ]
  },
  {
   "cell_type": "code",
   "execution_count": 33,
   "id": "2d5014bd",
   "metadata": {},
   "outputs": [],
   "source": [
    "pipe = ExtractiveQAPipeline(reader, retriever)"
   ]
  },
  {
   "cell_type": "code",
   "execution_count": 25,
   "id": "c2725b4e",
   "metadata": {},
   "outputs": [
    {
     "data": {
      "application/vnd.jupyter.widget-view+json": {
       "model_id": "5eb00c15e75e4a7396c507f58fa87b0a",
       "version_major": 2,
       "version_minor": 0
      },
      "text/plain": [
       "Text(value='', description='Question:', placeholder='Enter your question.')"
      ]
     },
     "metadata": {},
     "output_type": "display_data"
    }
   ],
   "source": [
    "txtsl = widgets.Text( # 'Which zoning districts allow group care facilities?'\n",
    " placeholder='Enter your question.',\n",
    " description='Question:'\n",
    " )\n",
    "display(txtsl)"
   ]
  },
  {
   "cell_type": "code",
   "execution_count": 38,
   "id": "2b28079e",
   "metadata": {},
   "outputs": [
    {
     "name": "stderr",
     "output_type": "stream",
     "text": [
      "Inferencing Samples: 100%|██████████| 526/526 [03:28<00:00,  2.52 Batches/s]\n",
      "ERROR - haystack.modeling.model.predictions -  Invalid end offset: \n",
      "(-19175, -19128) with a span answer. \n",
      "ERROR - haystack.modeling.model.predictions -  Invalid end offset: \n",
      "(-3134, -3109) with a span answer. \n",
      "ERROR - haystack.modeling.model.predictions -  Invalid end offset: \n",
      "(-3393, -3322) with a span answer. \n",
      "ERROR - haystack.modeling.model.predictions -  Invalid end offset: \n",
      "(-24641, -24600) with a span answer. \n",
      "ERROR - haystack.modeling.model.predictions -  Invalid end offset: \n",
      "(-5241, -5208) with a span answer. \n",
      "ERROR - haystack.modeling.model.predictions -  Invalid end offset: \n",
      "(-15063, -14986) with a span answer. \n",
      "ERROR - haystack.modeling.model.predictions -  Invalid end offset: \n",
      "(-9213, -9191) with a span answer. \n",
      "ERROR - haystack.modeling.model.predictions -  Invalid end offset: \n",
      "(-8147, -8124) with a span answer. \n",
      "ERROR - haystack.modeling.model.predictions -  Invalid end offset: \n",
      "(-28818, -28636) with a span answer. \n",
      "ERROR - haystack.modeling.model.predictions -  Invalid end offset: \n",
      "(-261, -219) with a span answer. \n",
      "ERROR - haystack.modeling.model.predictions -  Invalid end offset: \n",
      "(-16761, -16700) with a span answer. \n",
      "ERROR - haystack.modeling.model.predictions -  Invalid end offset: \n",
      "(-9763, -9740) with a span answer. \n",
      "ERROR - haystack.modeling.model.predictions -  Invalid end offset: \n",
      "(-5121, -5099) with a span answer. \n",
      "ERROR - haystack.modeling.model.predictions -  Invalid end offset: \n",
      "(-22251, -22226) with a span answer. \n",
      "ERROR - haystack.modeling.model.predictions -  Invalid end offset: \n",
      "(-15361, -15335) with a span answer. \n",
      "ERROR - haystack.modeling.model.predictions -  Invalid end offset: \n",
      "(-20145, -20119) with a span answer. \n",
      "ERROR - haystack.modeling.model.predictions -  Invalid end offset: \n",
      "(-11446, -11412) with a span answer. \n",
      "ERROR - haystack.modeling.model.predictions -  Invalid end offset: \n",
      "(-24786, -24755) with a span answer. \n",
      "ERROR - haystack.modeling.model.predictions -  Invalid end offset: \n",
      "(-7683, -7643) with a span answer. \n",
      "ERROR - haystack.modeling.model.predictions -  Invalid end offset: \n",
      "(-4187, -4163) with a span answer. \n",
      "ERROR - haystack.modeling.model.predictions -  Invalid end offset: \n",
      "(-11122, -11032) with a span answer. \n",
      "ERROR - haystack.modeling.model.predictions -  Invalid end offset: \n",
      "(-7354, -7211) with a span answer. \n",
      "ERROR - haystack.modeling.model.predictions -  Invalid end offset: \n",
      "(-12017, -11991) with a span answer. \n",
      "ERROR - haystack.modeling.model.predictions -  Invalid end offset: \n",
      "(-18088, -18053) with a span answer. \n",
      "ERROR - haystack.modeling.model.predictions -  Invalid end offset: \n",
      "(-20364, -20290) with a span answer. \n",
      "ERROR - haystack.modeling.model.predictions -  Invalid end offset: \n",
      "(-16709, -16695) with a span answer. \n",
      "ERROR - haystack.modeling.model.predictions -  Invalid end offset: \n",
      "(-14787, -14671) with a span answer. \n",
      "ERROR - haystack.modeling.model.predictions -  Invalid end offset: \n",
      "(-25344, -25273) with a span answer. \n",
      "ERROR - haystack.modeling.model.predictions -  Invalid end offset: \n",
      "(-4053, -4020) with a span answer. \n"
     ]
    }
   ],
   "source": [
    "prediction = pipe.run(\n",
    "    query=txtsl.value, params={\"Retriever\": {\"top_k\": 20}, \"Reader\": {\"top_k\": 1}}\n",
    ")"
   ]
  },
  {
   "cell_type": "code",
   "execution_count": 39,
   "id": "697975d7",
   "metadata": {},
   "outputs": [
    {
     "name": "stdout",
     "output_type": "stream",
     "text": [
      "[<Answer {'answer': 'to implement further the following pol', 'type': 'extractive', 'score': 0.909953773021698, 'context': 'the rural landscape. The intent of the district also is to implement further the following policies of the Comprehensive Plan: To further identify sce', 'offsets_in_document': [{'start': 14827, 'end': 14865}], 'offsets_in_context': [{'start': 56, 'end': 94}], 'document_id': 'ba462978e0dc0fba8a7a151b82d64e78', 'meta': {'name': 'text_8.txt'}}>]\n"
     ]
    }
   ],
   "source": [
    "pprint(prediction['answers'])"
   ]
  },
  {
   "cell_type": "code",
   "execution_count": null,
   "id": "c8bf75e4",
   "metadata": {},
   "outputs": [],
   "source": []
  }
 ],
 "metadata": {
  "anaconda-cloud": {},
  "kernelspec": {
   "display_name": "Python [conda env:.conda-NLP-SPARQL]",
   "language": "python",
   "name": "conda-env-.conda-NLP-SPARQL-py"
  },
  "language_info": {
   "codemirror_mode": {
    "name": "ipython",
    "version": 3
   },
   "file_extension": ".py",
   "mimetype": "text/x-python",
   "name": "python",
   "nbconvert_exporter": "python",
   "pygments_lexer": "ipython3",
   "version": "3.9.15"
  }
 },
 "nbformat": 4,
 "nbformat_minor": 5
}
