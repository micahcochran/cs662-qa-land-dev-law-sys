{
 "cells": [
  {
   "cell_type": "markdown",
   "metadata": {},
   "source": [
    "This is an example using [rdflib](https://rdflib.readthedocs.io/), which is a Python Library that implements reading and writing RDF and SPARQL queries."
   ]
  },
  {
   "cell_type": "markdown",
   "metadata": {
    "tags": []
   },
   "source": [
    "# rdflib examples\n",
    "These are the most basic translations of questions into SPARQL queries."
   ]
  },
  {
   "cell_type": "markdown",
   "metadata": {
    "jp-MarkdownHeadingCollapsed": true,
    "tags": []
   },
   "source": [
    "## Permitted Uses"
   ]
  },
  {
   "cell_type": "code",
   "execution_count": 1,
   "metadata": {},
   "outputs": [
    {
     "data": {
      "text/plain": [
       "<Graph identifier=N9454e6f2c3114f73bd4fc270bb1327a2 (<class 'rdflib.graph.Graph'>)>"
      ]
     },
     "execution_count": 1,
     "metadata": {},
     "output_type": "execute_result"
    }
   ],
   "source": [
    "import rdflib\n",
    "g_uses = rdflib.Graph()\n",
    "# load the graph related to the permitted uses\n",
    "g_uses.parse(\"permits_use2.ttl\")"
   ]
  },
  {
   "cell_type": "code",
   "execution_count": 2,
   "metadata": {},
   "outputs": [
    {
     "data": {
      "text/plain": [
       "228"
      ]
     },
     "execution_count": 2,
     "metadata": {},
     "output_type": "execute_result"
    }
   ],
   "source": [
    "# number of triples in the graph?\n",
    "len(g_uses)"
   ]
  },
  {
   "cell_type": "markdown",
   "metadata": {},
   "source": [
    "### 1. Query for \"Which zoning districts allow a recreation center?\""
   ]
  },
  {
   "cell_type": "code",
   "execution_count": 3,
   "metadata": {},
   "outputs": [
    {
     "name": "stdout",
     "output_type": "stream",
     "text": [
      "Zoning District (Label): R1\n",
      "Zoning District (Label): R2\n",
      "Zoning District (Label): R3\n"
     ]
    }
   ],
   "source": [
    "\n",
    "sparql_query = \"\"\"\n",
    "PREFIX rdfs: <http://www.w3.org/2000/01/rdf-schema#>\n",
    "PREFIX : <http://www.example.org/ns/lu/zoning#>\n",
    "\n",
    "SELECT ?zoning_label\n",
    "# ?zoning -- this could also be exposed, if needed\n",
    "\n",
    "WHERE {\n",
    "\t\t?zoning :permitsUse \"recreation centers\" .\n",
    "        ?zoning rdfs:label ?zoning_label .\n",
    "}\n",
    "\"\"\"\n",
    "\n",
    "results = g_uses.query(sparql_query)\n",
    "\n",
    "for row in results:\n",
    "    print(f'Zoning District (Label): {row.zoning_label}')"
   ]
  },
  {
   "cell_type": "markdown",
   "metadata": {},
   "source": [
    "### 2. Query for \"Which zoning districts permit duplexes?\"\n",
    "These are listed as \"Two-family dwellings\""
   ]
  },
  {
   "cell_type": "code",
   "execution_count": 4,
   "metadata": {},
   "outputs": [
    {
     "name": "stdout",
     "output_type": "stream",
     "text": [
      "Zoning District (Label): R2\n",
      "Zoning District (Label): R3\n"
     ]
    }
   ],
   "source": [
    "sparql_query = \"\"\"\n",
    "PREFIX rdfs: <http://www.w3.org/2000/01/rdf-schema#>\n",
    "PREFIX : <http://www.example.org/ns/lu/zoning#>\n",
    "\n",
    "SELECT ?zoning_label\n",
    "# ?zoning -- this could also be exposed, if needed\n",
    "\n",
    "WHERE {\n",
    "\t\t?zoning :permitsUse \"Two-family dwellings\" .\n",
    "        ?zoning rdfs:label ?zoning_label .\n",
    "}\n",
    "\"\"\"\n",
    "\n",
    "results = g_uses.query(sparql_query)\n",
    "\n",
    "for row in results:\n",
    "    print(f'Zoning District (Label): {row.zoning_label}')"
   ]
  },
  {
   "cell_type": "markdown",
   "metadata": {},
   "source": [
    "### 3. Which zoning district allows restaurants?"
   ]
  },
  {
   "cell_type": "code",
   "execution_count": 5,
   "metadata": {},
   "outputs": [
    {
     "name": "stdout",
     "output_type": "stream",
     "text": [
      "Zoning District (Label): C1\n",
      "Zoning District (Label): C2\n",
      "Zoning District (Label): C3\n",
      "Zoning District (Label): C4\n"
     ]
    }
   ],
   "source": [
    "sparql_query = \"\"\"\n",
    "PREFIX rdfs: <http://www.w3.org/2000/01/rdf-schema#>\n",
    "PREFIX : <http://www.example.org/ns/lu/zoning#>\n",
    "\n",
    "SELECT ?zoning_label\n",
    "# ?zoning -- this could also be exposed, if needed\n",
    "\n",
    "WHERE {\n",
    "\t\t?zoning :permitsUse \"restaurants\" .\n",
    "        ?zoning rdfs:label ?zoning_label .\n",
    "}\n",
    "\"\"\"\n",
    "\n",
    "results = g_uses.query(sparql_query)\n",
    "\n",
    "for row in results:\n",
    "    print(f'Zoning District (Label): {row.zoning_label}')"
   ]
  },
  {
   "cell_type": "markdown",
   "metadata": {},
   "source": [
    "### 4. Are automotive sales allowed in a C-3 zoning district?"
   ]
  },
  {
   "cell_type": "code",
   "execution_count": 42,
   "metadata": {},
   "outputs": [
    {
     "data": {
      "text/plain": [
       "True"
      ]
     },
     "execution_count": 42,
     "metadata": {},
     "output_type": "execute_result"
    }
   ],
   "source": [
    "# This is more litterly ASKing if there is a triple (or set of triples existing in the dataset)\n",
    "# matching atleast once.\n",
    "\n",
    "sparql_query_auto_sales_ask1 = \"\"\"\n",
    "PREFIX rdfs: <http://www.w3.org/2000/01/rdf-schema#>\n",
    "PREFIX : <http://www.example.org/ns/lu/zoning#>\n",
    "\n",
    "ASK {\n",
    "\t\t:c3 :permitsUse \"automotive sales\" .\n",
    "}\n",
    "\"\"\"\n",
    "\n",
    "results = g_uses.query(sparql_query_auto_sales_ask1)\n",
    "\n",
    "results.askAnswer\n"
   ]
  },
  {
   "cell_type": "code",
   "execution_count": 43,
   "metadata": {},
   "outputs": [
    {
     "data": {
      "text/plain": [
       "True"
      ]
     },
     "execution_count": 43,
     "metadata": {},
     "output_type": "execute_result"
    }
   ],
   "source": [
    "sparql_query_auto_sales_ask2 = \"\"\"\n",
    "PREFIX rdfs: <http://www.w3.org/2000/01/rdf-schema#>\n",
    "PREFIX : <http://www.example.org/ns/lu/zoning#>\n",
    "\n",
    "ASK {\n",
    "\t\t?zoning :permitsUse \"automotive sales\" ;\n",
    "                rdfs:label \"C3\" .\n",
    "}\n",
    "\"\"\"\n",
    "\n",
    "results = g_uses.query(sparql_query_auto_sales_ask2)\n",
    "\n",
    "results.askAnswer"
   ]
  },
  {
   "cell_type": "markdown",
   "metadata": {
    "tags": []
   },
   "source": [
    "### 5. I would like to build an indoor theater.  Which zoning districts permit that? "
   ]
  },
  {
   "cell_type": "code",
   "execution_count": 2,
   "metadata": {},
   "outputs": [
    {
     "ename": "NameError",
     "evalue": "name 'g_uses' is not defined",
     "output_type": "error",
     "traceback": [
      "\u001b[0;31m---------------------------------------------------------------------------\u001b[0m",
      "\u001b[0;31mNameError\u001b[0m                                 Traceback (most recent call last)",
      "\u001b[0;32m/tmp/ipykernel_45635/2475235587.py\u001b[0m in \u001b[0;36m<module>\u001b[0;34m\u001b[0m\n\u001b[1;32m     12\u001b[0m \"\"\"\n\u001b[1;32m     13\u001b[0m \u001b[0;34m\u001b[0m\u001b[0m\n\u001b[0;32m---> 14\u001b[0;31m \u001b[0mresults\u001b[0m \u001b[0;34m=\u001b[0m \u001b[0mg_uses\u001b[0m\u001b[0;34m.\u001b[0m\u001b[0mquery\u001b[0m\u001b[0;34m(\u001b[0m\u001b[0msparql_query_theater\u001b[0m\u001b[0;34m)\u001b[0m\u001b[0;34m\u001b[0m\u001b[0;34m\u001b[0m\u001b[0m\n\u001b[0m\u001b[1;32m     15\u001b[0m \u001b[0;34m\u001b[0m\u001b[0m\n\u001b[1;32m     16\u001b[0m \u001b[0;32mfor\u001b[0m \u001b[0mrow\u001b[0m \u001b[0;32min\u001b[0m \u001b[0mresults\u001b[0m\u001b[0;34m:\u001b[0m\u001b[0;34m\u001b[0m\u001b[0;34m\u001b[0m\u001b[0m\n",
      "\u001b[0;31mNameError\u001b[0m: name 'g_uses' is not defined"
     ]
    }
   ],
   "source": [
    "sparql_query_theater = \"\"\"\n",
    "PREFIX rdfs: <http://www.w3.org/2000/01/rdf-schema#>\n",
    "PREFIX : <http://www.example.org/ns/lu/zoning#>\n",
    "\n",
    "SELECT ?zoning_label\n",
    "# ?zoning -- this could also be exposed, if needed\n",
    "\n",
    "WHERE {\n",
    "\t\t?zoning :permitsUse \"indoor theaters\" .\n",
    "        ?zoning rdfs:label ?zoning_label .\n",
    "}\n",
    "\"\"\"\n",
    "\n",
    "results = g_uses.query(sparql_query_theater)\n",
    "\n",
    "for row in results:\n",
    "    print(f'Zoning District (Label): {row.zoning_label}')"
   ]
  },
  {
   "cell_type": "markdown",
   "metadata": {
    "tags": []
   },
   "source": [
    "##  \"Bulk\" Dimensional Requirements"
   ]
  },
  {
   "cell_type": "code",
   "execution_count": 62,
   "metadata": {},
   "outputs": [
    {
     "data": {
      "text/plain": [
       "<Graph identifier=N764b49d2906e430b9fb7ff408bbf3271 (<class 'rdflib.graph.Graph'>)>"
      ]
     },
     "execution_count": 62,
     "metadata": {},
     "output_type": "execute_result"
    }
   ],
   "source": [
    "import rdflib\n",
    "g_bulk = rdflib.Graph()\n",
    "# load the graph related to the permitted uses\n",
    "g_bulk.parse(\"bulk.ttl\")\n",
    "\n",
    "# this is the version with units\n",
    "g_bulk_units = rdflib.Graph()\n",
    "# load the graph related to the permitted uses\n",
    "g_bulk_units.parse(\"bulk2.ttl\")"
   ]
  },
  {
   "cell_type": "code",
   "execution_count": 3,
   "metadata": {},
   "outputs": [
    {
     "data": {
      "text/plain": [
       "151"
      ]
     },
     "execution_count": 3,
     "metadata": {},
     "output_type": "execute_result"
    }
   ],
   "source": [
    "# number of triples in the graph?\n",
    "len(g_bulk)"
   ]
  },
  {
   "cell_type": "markdown",
   "metadata": {},
   "source": [
    "### 6. What is the minimum lot size in the R1a zoning district?"
   ]
  },
  {
   "cell_type": "code",
   "execution_count": 8,
   "metadata": {},
   "outputs": [
    {
     "name": "stdout",
     "output_type": "stream",
     "text": [
      "35000\n"
     ]
    }
   ],
   "source": [
    "# This isn't how you would want to interact with this.\n",
    "sparql_query_min_lot_terse = \"\"\"\n",
    "PREFIX : <http://www.example.org/ns/lu/zoning#>\n",
    "\n",
    "SELECT ?min_lot_size\n",
    "\n",
    "WHERE {\n",
    "\t\t:r1a :minLotSize ?min_lot_size .\n",
    "}\n",
    "\"\"\"\n",
    "results_min_lot1 = g_bulk.query(sparql_query_min_lot_terse)\n",
    "\n",
    "for row in results_min_lot1:\n",
    "    print(row.min_lot_size)"
   ]
  },
  {
   "cell_type": "code",
   "execution_count": 10,
   "metadata": {},
   "outputs": [
    {
     "name": "stdout",
     "output_type": "stream",
     "text": [
      "35000\n"
     ]
    }
   ],
   "source": [
    "sparql_query_min_lot = \"\"\"\n",
    "PREFIX rdfs: <http://www.w3.org/2000/01/rdf-schema#>\n",
    "PREFIX : <http://www.example.org/ns/lu/zoning#>\n",
    "\n",
    "SELECT ?min_lot_size\n",
    "# ?zoning -- this could also be exposed, if needed\n",
    "\n",
    "WHERE {\n",
    "\t\t?zoning :minLotSize ?min_lot_size ;\n",
    "                rdfs:label \"R1a\" .\n",
    "}\n",
    "\"\"\"\n",
    "\n",
    "results = g_bulk.query(sparql_query_min_lot)\n",
    "\n",
    "for row in results:\n",
    "    print(row.min_lot_size)\n",
    "    # print(f'Zoning District (Label): {row.zoning_label}')"
   ]
  },
  {
   "cell_type": "code",
   "execution_count": 18,
   "metadata": {},
   "outputs": [
    {
     "name": "stdout",
     "output_type": "stream",
     "text": [
      "(rdflib.term.Literal('35000', datatype=rdflib.term.URIRef('http://www.w3.org/2001/XMLSchema#integer')),)\n"
     ]
    }
   ],
   "source": [
    "for row in results:\n",
    "    print(row)"
   ]
  },
  {
   "cell_type": "markdown",
   "metadata": {},
   "source": [
    "### 6b. Is the minimum lot size for property in the R1a zoning district 35,000 square feet?"
   ]
  },
  {
   "cell_type": "code",
   "execution_count": 38,
   "metadata": {},
   "outputs": [
    {
     "data": {
      "text/plain": [
       "True"
      ]
     },
     "execution_count": 38,
     "metadata": {},
     "output_type": "execute_result"
    }
   ],
   "source": [
    "sparql_query_min_lot_ask =\"\"\"\n",
    "PREFIX rdfs: <http://www.w3.org/2000/01/rdf-schema#>\n",
    "PREFIX : <http://www.example.org/ns/lu/zoning#>\n",
    "\n",
    "ASK {\n",
    "\t\t?zoning :minLotSize 35000 ;\n",
    "                rdfs:label \"R1a\" .\n",
    "}\n",
    "\"\"\"\n",
    "\n",
    "results = g_bulk.query(sparql_query_min_lot_ask)\n",
    "results.askAnswer"
   ]
  },
  {
   "cell_type": "markdown",
   "metadata": {},
   "source": [
    "### 7. What is the minimum lot width for the R1c Zoning District? "
   ]
  },
  {
   "cell_type": "code",
   "execution_count": 11,
   "metadata": {},
   "outputs": [
    {
     "name": "stdout",
     "output_type": "stream",
     "text": [
      "75\n"
     ]
    }
   ],
   "source": [
    "# terse query, not as useful\n",
    "query_min_lot_width_terse = \"\"\"\n",
    "PREFIX : <http://www.example.org/ns/lu/zoning#>\n",
    "\n",
    "SELECT ?lot_width\n",
    "\n",
    "WHERE {\n",
    "\t:r1c :minLotWidth ?lot_width .\n",
    "}\n",
    "\"\"\"\n",
    "\n",
    "results = g_bulk.query(query_min_lot_width_terse)\n",
    "\n",
    "for row in results:\n",
    "    print(row.lot_width)"
   ]
  },
  {
   "cell_type": "code",
   "execution_count": 13,
   "metadata": {},
   "outputs": [
    {
     "name": "stdout",
     "output_type": "stream",
     "text": [
      "75\n"
     ]
    }
   ],
   "source": [
    "# query based on zoning label \"R1c\"\n",
    "query_min_lot_width = \"\"\"\n",
    "PREFIX : <http://www.example.org/ns/lu/zoning#>\n",
    "\n",
    "SELECT ?lot_width\n",
    "\n",
    "WHERE {\n",
    "\t?zoning :minLotWidth ?lot_width ;\n",
    "            rdfs:label   \"R1c\" .\n",
    "}\n",
    "\"\"\"\n",
    "\n",
    "results = g_bulk.query(query_min_lot_width)\n",
    "\n",
    "for row in results:\n",
    "    print(row.lot_width)"
   ]
  },
  {
   "cell_type": "markdown",
   "metadata": {},
   "source": [
    "### 8. What is the maximum building height in the FI2 District?"
   ]
  },
  {
   "cell_type": "code",
   "execution_count": 15,
   "metadata": {},
   "outputs": [
    {
     "name": "stdout",
     "output_type": "stream",
     "text": [
      "80\n"
     ]
    }
   ],
   "source": [
    "# query based on zoning label \"FI2\"\n",
    "query_max_building_height = \"\"\"\n",
    "PREFIX : <http://www.example.org/ns/lu/zoning#>\n",
    "\n",
    "SELECT ?max_building_height\n",
    "\n",
    "WHERE {\n",
    "\t?zoning :maxBuildingHeight ?max_building_height ;\n",
    "            rdfs:label   \"FI2\" .\n",
    "}\n",
    "\"\"\"\n",
    "\n",
    "results = g_bulk.query(query_max_building_height)\n",
    "\n",
    "for row in results:\n",
    "    print(row.max_building_height)"
   ]
  },
  {
   "cell_type": "code",
   "execution_count": 18,
   "metadata": {},
   "outputs": [
    {
     "name": "stdout",
     "output_type": "stream",
     "text": [
      "80 [ft_i]\n"
     ]
    }
   ],
   "source": [
    "# same query as above querying the version with units\n",
    "results = g_bulk_units.query(query_max_building_height)\n",
    "\n",
    "for row in results:\n",
    "    print(row.max_building_height)"
   ]
  },
  {
   "cell_type": "markdown",
   "metadata": {},
   "source": [
    "### 9. What is the minimum front setback in the R3b zoning district? "
   ]
  },
  {
   "cell_type": "code",
   "execution_count": 10,
   "metadata": {},
   "outputs": [
    {
     "ename": "NameError",
     "evalue": "name 'g_bulk_units' is not defined",
     "output_type": "error",
     "traceback": [
      "\u001b[0;31m---------------------------------------------------------------------------\u001b[0m",
      "\u001b[0;31mNameError\u001b[0m                                 Traceback (most recent call last)",
      "\u001b[0;32m/tmp/ipykernel_45635/2571621802.py\u001b[0m in \u001b[0;36m<module>\u001b[0;34m\u001b[0m\n\u001b[1;32m     10\u001b[0m \"\"\"\n\u001b[1;32m     11\u001b[0m \u001b[0;34m\u001b[0m\u001b[0m\n\u001b[0;32m---> 12\u001b[0;31m \u001b[0mresults\u001b[0m \u001b[0;34m=\u001b[0m \u001b[0mg_bulk_units\u001b[0m\u001b[0;34m.\u001b[0m\u001b[0mquery\u001b[0m\u001b[0;34m(\u001b[0m\u001b[0mquery_min_front_setback\u001b[0m\u001b[0;34m)\u001b[0m\u001b[0;34m\u001b[0m\u001b[0;34m\u001b[0m\u001b[0m\n\u001b[0m\u001b[1;32m     13\u001b[0m \u001b[0;34m\u001b[0m\u001b[0m\n\u001b[1;32m     14\u001b[0m \u001b[0;32mfor\u001b[0m \u001b[0mrow\u001b[0m \u001b[0;32min\u001b[0m \u001b[0mresults\u001b[0m\u001b[0;34m:\u001b[0m\u001b[0;34m\u001b[0m\u001b[0;34m\u001b[0m\u001b[0m\n",
      "\u001b[0;31mNameError\u001b[0m: name 'g_bulk_units' is not defined"
     ]
    }
   ],
   "source": [
    "query_min_front_setback = \"\"\"\n",
    "PREFIX : <http://www.example.org/ns/lu/zoning#>\n",
    "\n",
    "SELECT ?min_front_setback\n",
    "\n",
    "WHERE {\n",
    "\t?zoning :minFrontSetback ?min_front_setback ;\n",
    "            rdfs:label   \"R3b\" .\n",
    "}\n",
    "\"\"\"\n",
    "\n",
    "results = g_bulk_units.query(query_min_front_setback)\n",
    "\n",
    "for row in results:\n",
    "    print(row.min_front_setback)"
   ]
  },
  {
   "cell_type": "markdown",
   "metadata": {},
   "source": [
    "### 10. What is the minimum lot depth in an A1 zoning district?"
   ]
  },
  {
   "cell_type": "code",
   "execution_count": 9,
   "metadata": {},
   "outputs": [
    {
     "ename": "NameError",
     "evalue": "name 'g_bulk_units' is not defined",
     "output_type": "error",
     "traceback": [
      "\u001b[0;31m---------------------------------------------------------------------------\u001b[0m",
      "\u001b[0;31mNameError\u001b[0m                                 Traceback (most recent call last)",
      "\u001b[0;32m/tmp/ipykernel_45635/3139237462.py\u001b[0m in \u001b[0;36m<module>\u001b[0;34m\u001b[0m\n\u001b[1;32m     10\u001b[0m \"\"\"\n\u001b[1;32m     11\u001b[0m \u001b[0;34m\u001b[0m\u001b[0m\n\u001b[0;32m---> 12\u001b[0;31m \u001b[0mresults\u001b[0m \u001b[0;34m=\u001b[0m \u001b[0mg_bulk_units\u001b[0m\u001b[0;34m.\u001b[0m\u001b[0mquery\u001b[0m\u001b[0;34m(\u001b[0m\u001b[0mquery_min_lot_depth\u001b[0m\u001b[0;34m)\u001b[0m\u001b[0;34m\u001b[0m\u001b[0;34m\u001b[0m\u001b[0m\n\u001b[0m\u001b[1;32m     13\u001b[0m \u001b[0;34m\u001b[0m\u001b[0m\n\u001b[1;32m     14\u001b[0m \u001b[0;32mfor\u001b[0m \u001b[0mrow\u001b[0m \u001b[0;32min\u001b[0m \u001b[0mresults\u001b[0m\u001b[0;34m:\u001b[0m\u001b[0;34m\u001b[0m\u001b[0;34m\u001b[0m\u001b[0m\n",
      "\u001b[0;31mNameError\u001b[0m: name 'g_bulk_units' is not defined"
     ]
    }
   ],
   "source": [
    "query_min_lot_depth = \"\"\"\n",
    "PREFIX : <http://www.example.org/ns/lu/zoning#>\n",
    "\n",
    "SELECT ?min_lot_depth\n",
    "\n",
    "WHERE {\n",
    "\t?zoning :minLotDepth ?min_lot_depth ;\n",
    "            rdfs:label   \"A1\" .\n",
    "}\n",
    "\"\"\"\n",
    "\n",
    "results = g_bulk_units.query(query_min_lot_depth)\n",
    "\n",
    "for row in results:\n",
    "    print(row.min_lot_depth)"
   ]
  },
  {
   "cell_type": "markdown",
   "metadata": {
    "tags": []
   },
   "source": [
    "# Starting Templates\n",
    "Use python's [string.Template](https://docs.python.org/3.4/library/string.html#template-strings) to create templates of the above questions.  It is a simple template format that uses a dollar sign `$` to denote a substitution."
   ]
  },
  {
   "cell_type": "markdown",
   "metadata": {
    "tags": []
   },
   "source": [
    "## Starting Templates - Permitted Uses"
   ]
  },
  {
   "cell_type": "markdown",
   "metadata": {},
   "source": [
    "### Template 1 - template_use_1var_m_answer\n",
    "Covers questions #1-3 and 5"
   ]
  },
  {
   "cell_type": "code",
   "execution_count": 57,
   "metadata": {},
   "outputs": [],
   "source": [
    "from string import Template\n",
    "\n",
    "prefix_header = \"\"\"\n",
    "PREFIX rdfs: <http://www.w3.org/2000/01/rdf-schema#>\n",
    "PREFIX : <http://www.example.org/ns/lu/zoning#>\n",
    "\"\"\"\n",
    "\n",
    "name_template1 = \"template_use_1var_m_answer\"\n",
    "\n",
    "# May need words like for/a/an to make these questions proper English. \n",
    "text_templates1 = [\"Which zoning districts allow ${use}?\", \n",
    "                   \"Which zoning districts permit ${use}?\", \n",
    "                   \"I would like to build ${use}.  Which zoning districts permits this use?\"]\n",
    "sparql_template1 = \"\"\"\n",
    "SELECT ?zoning_label\n",
    "\n",
    "WHERE {\n",
    "\t\t?zoning :permitsUse \"${use}\" .\n",
    "        ?zoning rdfs:label ?zoning_label .\n",
    "}\n",
    "\"\"\"\n",
    "\n",
    "uses_t1 = [\"recreation centers\", \"restaurants\", \"indoor theaters\"]\n",
    "\n",
    "# expectated output from SPARQL: list of zoning districts"
   ]
  },
  {
   "cell_type": "code",
   "execution_count": 1,
   "metadata": {},
   "outputs": [
    {
     "ename": "NameError",
     "evalue": "name 'Template' is not defined",
     "output_type": "error",
     "traceback": [
      "\u001b[0;31m---------------------------------------------------------------------------\u001b[0m",
      "\u001b[0;31mNameError\u001b[0m                                 Traceback (most recent call last)",
      "\u001b[0;32m/tmp/ipykernel_218361/45184047.py\u001b[0m in \u001b[0;36m<module>\u001b[0;34m\u001b[0m\n\u001b[1;32m      2\u001b[0m \u001b[0;31m#    for use in uses_template:\u001b[0m\u001b[0;34m\u001b[0m\u001b[0;34m\u001b[0m\u001b[0;34m\u001b[0m\u001b[0m\n\u001b[1;32m      3\u001b[0m \u001b[0;31m#        Template(text_template, use=use)\u001b[0m\u001b[0;34m\u001b[0m\u001b[0;34m\u001b[0m\u001b[0;34m\u001b[0m\u001b[0m\n\u001b[0;32m----> 4\u001b[0;31m \u001b[0mquestion_obj\u001b[0m \u001b[0;34m=\u001b[0m \u001b[0mTemplate\u001b[0m\u001b[0;34m(\u001b[0m\u001b[0mtext_templates1\u001b[0m\u001b[0;34m[\u001b[0m\u001b[0;36m0\u001b[0m\u001b[0;34m]\u001b[0m\u001b[0;34m)\u001b[0m\u001b[0;34m\u001b[0m\u001b[0;34m\u001b[0m\u001b[0m\n\u001b[0m\u001b[1;32m      5\u001b[0m \u001b[0mq_text\u001b[0m \u001b[0;34m=\u001b[0m \u001b[0mquestion_obj\u001b[0m\u001b[0;34m.\u001b[0m\u001b[0msubstitute\u001b[0m\u001b[0;34m(\u001b[0m\u001b[0muse\u001b[0m\u001b[0;34m=\u001b[0m\u001b[0muses_t1\u001b[0m\u001b[0;34m[\u001b[0m\u001b[0;36m1\u001b[0m\u001b[0;34m]\u001b[0m\u001b[0;34m)\u001b[0m\u001b[0;34m\u001b[0m\u001b[0;34m\u001b[0m\u001b[0m\n\u001b[1;32m      6\u001b[0m \u001b[0;31m# sparql_template1\u001b[0m\u001b[0;34m\u001b[0m\u001b[0;34m\u001b[0m\u001b[0;34m\u001b[0m\u001b[0m\n",
      "\u001b[0;31mNameError\u001b[0m: name 'Template' is not defined"
     ]
    }
   ],
   "source": [
    "# for text_template in text_template:\n",
    "#    for use in uses_template:\n",
    "#        Template(text_template, use=use)\n",
    "question_obj = Template(text_templates1[0])\n",
    "q_text = question_obj.substitute(use=uses_t1[1])\n",
    "# sparql_template1    \n",
    "print(f\"Question: {q_text}\")\n",
    "\n",
    "sparql_text_obj = Template(sparql_template1)\n",
    "sparql_query_text = sparql_text_obj.substitute(use=uses_t1[1])\n",
    "print(f\"SPARQL:\")\n",
    "print(sparql_query_text)"
   ]
  },
  {
   "cell_type": "code",
   "execution_count": 13,
   "metadata": {},
   "outputs": [
    {
     "name": "stdout",
     "output_type": "stream",
     "text": [
      "Results: \n",
      "Zoning District (Label): C1\n",
      "Zoning District (Label): C2\n",
      "Zoning District (Label): C3\n",
      "Zoning District (Label): C4\n"
     ]
    }
   ],
   "source": [
    "print('Results: ')\n",
    "results = g_uses.query(sparql_query_text)\n",
    "\n",
    "for row in results:\n",
    "    print(f'Zoning District (Label): {row.zoning_label}')"
   ]
  },
  {
   "cell_type": "markdown",
   "metadata": {},
   "source": [
    "### Template 2 - template_use_2var_yn_answer\n",
    "Covers question #4"
   ]
  },
  {
   "cell_type": "code",
   "execution_count": 54,
   "metadata": {},
   "outputs": [],
   "source": [
    "\n",
    "name_template2 = \"template_use_2var_yn_answer\"\n",
    "\n",
    "# Are/Is,  the uses in IZC are plural.  Typically someone asks about a \n",
    "# non-residential uses in the singular.\n",
    "text_templates2 = [\"Are $use allowed in a $zoning zoning district?\",\n",
    "                  \"Are $use permitted in a $zoning zoning district?\"]\n",
    "\n",
    "\n",
    "prefix_header = \"\"\"\n",
    "PREFIX rdfs: <http://www.w3.org/2000/01/rdf-schema#>\n",
    "PREFIX : <http://www.example.org/ns/lu/zoning#>\n",
    "\"\"\"\n",
    "\n",
    "sparql_template2 = \"\"\"\n",
    "ASK {\n",
    "\t\t?zoning :permitsUse \"${use}\" ;\n",
    "                rdfs:label \"${zoning}\" .\n",
    "}\n",
    "\"\"\"\n",
    "\n",
    "use_t2 = [\"automotive sales\"]\n",
    "zoning_t2 = [\"C3\"]\n",
    "\n",
    "# expectated output from SPARQL: boolean (True/False)"
   ]
  },
  {
   "cell_type": "markdown",
   "metadata": {},
   "source": [
    "### Template 5 - template_use_1var_yn_answer"
   ]
  },
  {
   "cell_type": "code",
   "execution_count": 4,
   "metadata": {},
   "outputs": [],
   "source": [
    "\n",
    "name_template5 = \"template_use_1var_yn_answer\"\n",
    "\n",
    "text_templates5 = [\"Are $use permitted?\",\n",
    "                  \"Are $use allowed?\"]\n",
    "\n",
    "prefix_header = \"\"\"\n",
    "PREFIX rdfs: <http://www.w3.org/2000/01/rdf-schema#>\n",
    "PREFIX : <http://www.example.org/ns/lu/zoning#>\n",
    "\"\"\"\n",
    "\n",
    "sparql_template5 = \"\"\"\n",
    "ASK {\n",
    "\t\t?zoning :permitsUse \"${use}\" .\n",
    "}\n",
    "\"\"\"\n",
    "\n",
    "# expectated output from SPARQL: boolean (True/False)"
   ]
  },
  {
   "cell_type": "markdown",
   "metadata": {
    "tags": []
   },
   "source": [
    "## Starting Templates - Dimensional Requirements"
   ]
  },
  {
   "cell_type": "markdown",
   "metadata": {},
   "source": [
    "### Template 3 - template_dimreg_2var_m_answer\n",
    "Covers Question 6, 7, 8, 9, 10"
   ]
  },
  {
   "cell_type": "code",
   "execution_count": 59,
   "metadata": {},
   "outputs": [],
   "source": [
    "name_template3 = \"template_dimreg_2var_m_answer\"\n",
    "\n",
    "text_templates3 = [\"What is the $regulation in the $zoning zoning district?\"]\n",
    "\n",
    "# regulations's description is the key, the RDF name is the value\n",
    "regulation_dict_t3 = {\"minimum lot size\":\":minLotSize\",\n",
    "                      \"minimum lot width\":\":minLotWidth\", \n",
    "                      \"maximum building height\":\":maxBuildingHeight\",\n",
    "                      \"minimum front setback\":\":minFrontSetback\",\n",
    "                      \"minimum lot depth\": \":minLotDepth\"}\n",
    "\n",
    "zoning_t3 = [\"R1a\", \"R1c\", \"FI2\", \"R3b\", \"A1\"]\n",
    "\n",
    "# regulation_value is a generic name, not really a technical term\n",
    "sparql_template3 =\"\"\"\n",
    "SELECT ?regulation_value\n",
    "\n",
    "WHERE {\n",
    "\t\t?zoning $regulation ?regulation_value ;\n",
    "                rdfs:label \"${zoning}\" .\n",
    "}\n",
    "\"\"\"\n",
    "# expectated output from SPARQL: value for the regulation and optionally a unit "
   ]
  },
  {
   "cell_type": "code",
   "execution_count": null,
   "metadata": {},
   "outputs": [],
   "source": [
    "def generate_question(q_template, d_vals):\n",
    "    Template(q_template).substitute(d_vals)"
   ]
  },
  {
   "cell_type": "markdown",
   "metadata": {},
   "source": [
    "### Template 4 - template_dimreg_4var_yn_answer\n",
    "Covers question 6b"
   ]
  },
  {
   "cell_type": "code",
   "execution_count": 61,
   "metadata": {},
   "outputs": [],
   "source": [
    "# Note: perhaps also parse units.  This should be done later. TODO\n",
    "text_templates4 = \\\n",
    "    [\"Is the $regulation for a property in the $zoning zoning district $regulation_value square feet?\"]\n",
    "\n",
    "name_templates4 = \"template_dimreg_4var_yn_answer\"\n",
    "\n",
    "regulation_dict_t4 = {\"minimum lot size\":\":minLotSize\",}\n",
    "zoning_t4 = [\"R1a\"]\n",
    "regulation_value_t4 = [35_000]\n",
    "\n",
    "sparql_template4 =\"\"\"\n",
    "ASK {\n",
    "\t\t?zoning $regulation $regulation_value ;\n",
    "                rdfs:label \"${zoning}\" .\n",
    "}\n",
    "\"\"\"\n",
    "\n",
    "# expectated output from SPARQL: boolean (True/False)"
   ]
  },
  {
   "cell_type": "markdown",
   "metadata": {
    "tags": []
   },
   "source": [
    "# Iterators"
   ]
  },
  {
   "cell_type": "code",
   "execution_count": 40,
   "metadata": {},
   "outputs": [
    {
     "data": {
      "text/plain": [
       "<Graph identifier=Ndaa275dededd400ab41a6a905f513452 (<class 'rdflib.graph.Graph'>)>"
      ]
     },
     "execution_count": 40,
     "metadata": {},
     "output_type": "execute_result"
    }
   ],
   "source": [
    "import rdflib\n",
    "uses_kg = rdflib.Graph()\n",
    "# load the graph related to the permitted uses\n",
    "uses_kg.parse(\"permits_use2.ttl\")\n",
    "\n",
    "# import rdflib\n",
    "dimreq_kg = rdflib.Graph()\n",
    "# load the graph related to the dimensional requirements\n",
    "dimreq_kg.parse(\"bulk.ttl\")"
   ]
  },
  {
   "cell_type": "code",
   "execution_count": 9,
   "metadata": {},
   "outputs": [],
   "source": [
    "# SPARQL queries that are useful\n",
    "class QueryUsesSparql():\n",
    "    def __init__(self, uses_kg):\n",
    "        self.uses_kg = uses_kg\n",
    "        \n",
    "    def all_uses_iter(self):\n",
    "        \"\"\"\n",
    "        iterator of all the permitted uses in the knowledge graph\n",
    "        \"\"\"\n",
    "        sparql = \"\"\"\n",
    "        SELECT ?use\n",
    "\n",
    "        WHERE {\n",
    "                ?zoning :permitsUse ?use .\n",
    "        }\n",
    "        \"\"\"\n",
    "\n",
    "        results = self.uses_kg.query(sparql)\n",
    "        \n",
    "        for use in set([str(res.use) for res in results]):\n",
    "            yield use\n",
    "\n",
    "    def all_zoning_iter(self):\n",
    "        \"\"\"\n",
    "        iterator of all of the zoning districts in the knowledge graph\n",
    "        \"\"\"\n",
    "        \n",
    "        sparql = \"\"\"\n",
    "        SELECT ?zoning_label\n",
    "\n",
    "        WHERE {\n",
    "                ?zoning rdfs:label ?zoning_label .\n",
    "        }\n",
    "        \"\"\"\n",
    "\n",
    "        results = self.uses_kg.query(sparql)\n",
    "        \n",
    "        for zoning in set([str(res.zoning_label) for res in results]):\n",
    "            yield zoning\n",
    "\n",
    "    def all_uses_zoning_iter(self):\n",
    "        \"\"\"\n",
    "        iterator of all the permitted uses in the knowledge graph\n",
    "        \n",
    "        returns tuple with (use, zoning)\n",
    "        \"\"\"\n",
    "        sparql = \"\"\"\n",
    "        SELECT ?zoning_label ?use\n",
    "\n",
    "        WHERE {\n",
    "                ?zoning :permitsUse ?use .\n",
    "                ?zoning rdfs:label ?zoning_label .\n",
    "        }\n",
    "        \"\"\"\n",
    "\n",
    "        results = self.uses_kg.query(sparql)\n",
    "        \n",
    " #       for use in set([str(res.use) for res in results]):\n",
    "        for res in results:\n",
    "            yield res.use, res.zoning_label"
   ]
  },
  {
   "cell_type": "code",
   "execution_count": 10,
   "metadata": {
    "tags": []
   },
   "outputs": [],
   "source": [
    "# dimensinal regulations\n",
    "# key is text, value is the name of predicate in the dimensional requirements KG\n",
    "DIM_REGULATIONS = { \"minimum lot size\": \":minLotSize\",\n",
    "                    \"maximum density\": \":maxDensity\",\n",
    "                    \"minimum lot width\": \":minLotWidth\",\n",
    "                    \"minimum lot depth\": \":minLotDepth\",\n",
    "                    \"minimum front setback\": \":minFrontSetback\",\n",
    "                    \"minimum side setback\": \":minSideSetback\",\n",
    "                    \"minimum rear setback\": \":minRearSetback\",\n",
    "                    \"maximum building height\": \":maxBuildingHeight\", }\n",
    "\n",
    "class QueryDimensionsSparql():\n",
    "    def __init__(self, dimensional_kg):\n",
    "        self.dimensional_kg = dimensional_kg\n",
    "\n",
    "    def all_zoning_iter(self):\n",
    "        \"\"\"\n",
    "        iterator of all of the zoning districts in the knowledge graph\n",
    "        \"\"\"\n",
    "        \n",
    "        sparql = \"\"\"\n",
    "        SELECT ?zoning_label\n",
    "\n",
    "        WHERE {\n",
    "                ?zoning rdfs:label ?zoning_label .\n",
    "        }\n",
    "        \"\"\"\n",
    "\n",
    "        results = self.dimensional_kg.query(sparql)\n",
    "        \n",
    "        for zoning in set([str(res.zoning_label) for res in results]):\n",
    "            yield zoning"
   ]
  },
  {
   "cell_type": "markdown",
   "metadata": {
    "jp-MarkdownHeadingCollapsed": true,
    "tags": []
   },
   "source": [
    "### Testing Iterators - Permitted Uses code"
   ]
  },
  {
   "cell_type": "code",
   "execution_count": 38,
   "metadata": {
    "collapsed": true,
    "jupyter": {
     "outputs_hidden": true
    },
    "tags": []
   },
   "outputs": [
    {
     "name": "stdout",
     "output_type": "stream",
     "text": [
      "Minor automotive repair\n",
      "family and group day care facilities\n",
      "petroleum refining\n",
      "research or testing laboratories\n",
      "publicly owned and operated parks\n",
      "furniture assembly\n",
      "machine shops\n",
      "mortuary and funeral homes\n",
      "major automotive repair\n",
      "woodworking shops\n",
      "commercial printing and publishing\n",
      "financial services\n",
      "cotton gins\n",
      "school and colleges operated for profit (including commercial, vocational and trade schools)\n",
      "regional recycling center\n",
      "physical fitness centers\n",
      "schools and colleges (excluding colleges or trade schools operated for profit)\n",
      "product distribution centers\n",
      "rehabilitation centers\n",
      "storage yards\n",
      "salt works\n",
      "amusement centers (including bowling alleys, golf driving ranges miniature golf courses, ice rinks, pool and billiard halls, and similar recreational uses)\n",
      "libraries\n",
      "liquid fertilizer manufacturing\n",
      "private garages\n",
      "small metal products design, casting, fabricating, and processing\n",
      "public and governmental services\n",
      "automotive sales\n",
      "Dwellings\n",
      "commercial bakeries\n",
      "recreation centers\n",
      "paper manufacturing\n",
      "cultural institutions (such as museums and art galleries)\n",
      "taverns and cocktail lounges\n",
      "auto body shops\n",
      "group care facilities\n",
      "hotels and motels (excluding other residential occupancies)\n",
      "plastic product design, molding and assembly\n",
      "Single-family dwellings\n",
      "Stadiums and arenas\n",
      "breweries\n",
      "buildings accessory to the permitted used (including private garages and accessory living quarters)\n",
      "Two-family dwellings\n",
      "business services\n",
      "indoor theaters\n",
      "quarries\n",
      "swimming pools and playgrounds\n",
      "community centers (including wholesale and retail sales)\n",
      "public utility stations\n",
      "alcohol manufacturing\n",
      "building material supply sales (wholesale and retail)\n",
      "Self-storage warehouses\n",
      "Agricultural Use\n",
      "Two-family dwellingsmultiple family dwellings, such as apartment houses, boarding houses, condominiums and congregate residences\n",
      "police and fire department stations\n",
      "convenience and neighborhood commercial centers (excluding wholesale sales)\n",
      "public libraries\n",
      "indoor swap meets\n",
      "carpet manufacturing\n",
      "light commercial (excluding wholesale sales)\n",
      "boat storage yards\n",
      "automotive self-service motor fuel dispensing facilities\n",
      "places of religious worship\n",
      "wood products manufacturing and finishing\n",
      "Maintenance/storage buildings\n",
      "manufacture and finishing\n",
      "religious, cultural and fraternal activities\n",
      "automotive motor fuel dispensing facilities\n",
      "public parking lots\n",
      "Auto-dismantling yards\n",
      "monument works\n",
      "regional commercial centers (including wholesale and retail sales)\n",
      "dry cleaning plants\n",
      "health and medical institutions (such as hospitals)\n",
      "warehouses\n",
      "temporary buildings\n",
      "restaurants\n",
      "Open space\n"
     ]
    }
   ],
   "source": [
    "qus = QueryUsesSparql(uses_kg)\n",
    "for use in qus.all_uses_iter():\n",
    "    print(use)\n",
    "\n",
    "# works as intended"
   ]
  },
  {
   "cell_type": "code",
   "execution_count": 39,
   "metadata": {
    "tags": []
   },
   "outputs": [
    {
     "name": "stdout",
     "output_type": "stream",
     "text": [
      "R2\n",
      "C3\n",
      "C2\n",
      "FI2\n",
      "A3\n",
      "C1\n",
      "C4\n",
      "FI1\n",
      "FI3\n",
      "R1\n",
      "R3\n",
      "A2\n",
      "A1\n"
     ]
    }
   ],
   "source": [
    "qus = QueryUsesSparql(uses_kg)\n",
    "for zoning in qus.all_zoning_iter():\n",
    "    print(zoning)"
   ]
  },
  {
   "cell_type": "code",
   "execution_count": 52,
   "metadata": {
    "collapsed": true,
    "jupyter": {
     "outputs_hidden": true
    },
    "tags": []
   },
   "outputs": [
    {
     "name": "stdout",
     "output_type": "stream",
     "text": [
      "--- All Permitted uses with Zoning ---\n",
      "Single-family dwellings -- R1\n",
      "Single-family dwellings -- R2\n",
      "Single-family dwellings -- R3\n",
      "publicly owned and operated parks -- R1\n",
      "publicly owned and operated parks -- R2\n",
      "publicly owned and operated parks -- R3\n",
      "recreation centers -- R1\n",
      "recreation centers -- R2\n",
      "recreation centers -- R3\n",
      "swimming pools and playgrounds -- R1\n",
      "swimming pools and playgrounds -- R2\n",
      "swimming pools and playgrounds -- R3\n",
      "police and fire department stations -- R1\n",
      "police and fire department stations -- R2\n",
      "police and fire department stations -- R3\n",
      "police and fire department stations -- C1\n",
      "police and fire department stations -- C2\n",
      "police and fire department stations -- C3\n",
      "police and fire department stations -- C4\n",
      "public and governmental services -- R1\n",
      "public and governmental services -- R2\n",
      "public and governmental services -- R3\n",
      "public and governmental services -- C1\n",
      "public and governmental services -- C2\n",
      "public and governmental services -- C3\n",
      "public and governmental services -- C4\n",
      "public and governmental services -- FI1\n",
      "public and governmental services -- FI2\n",
      "public and governmental services -- FI3\n",
      "public libraries -- R1\n",
      "public libraries -- R2\n",
      "public libraries -- R3\n",
      "schools and colleges (excluding colleges or trade schools operated for profit) -- R1\n",
      "schools and colleges (excluding colleges or trade schools operated for profit) -- R2\n",
      "schools and colleges (excluding colleges or trade schools operated for profit) -- R3\n",
      "public parking lots -- R1\n",
      "public parking lots -- R2\n",
      "public parking lots -- R3\n",
      "private garages -- R1\n",
      "private garages -- R2\n",
      "private garages -- R3\n",
      "buildings accessory to the permitted used (including private garages and accessory living quarters) -- R1\n",
      "buildings accessory to the permitted used (including private garages and accessory living quarters) -- R2\n",
      "buildings accessory to the permitted used (including private garages and accessory living quarters) -- R3\n",
      "temporary buildings -- R1\n",
      "temporary buildings -- R2\n",
      "temporary buildings -- R3\n",
      "Two-family dwellings -- R2\n",
      "Two-family dwellings -- R3\n",
      "multiple family dwellings, such as apartment houses, boarding houses, condominiums and congregate residences -- R3\n",
      "Open space -- A1\n",
      "Agricultural Use -- A2\n",
      "Dwellings -- A2\n",
      "Maintenance/storage buildings -- A2\n",
      "Minor automotive repair -- C1\n",
      "Minor automotive repair -- C2\n",
      "Minor automotive repair -- C3\n",
      "Minor automotive repair -- C4\n",
      "automotive motor fuel dispensing facilities -- C1\n",
      "automotive motor fuel dispensing facilities -- C2\n",
      "automotive motor fuel dispensing facilities -- C3\n",
      "automotive motor fuel dispensing facilities -- C4\n",
      "automotive self-service motor fuel dispensing facilities -- C1\n",
      "automotive self-service motor fuel dispensing facilities -- C2\n",
      "automotive self-service motor fuel dispensing facilities -- C3\n",
      "automotive self-service motor fuel dispensing facilities -- C4\n",
      "business services -- C1\n",
      "business services -- C2\n",
      "business services -- C3\n",
      "business services -- C4\n",
      "financial services -- C1\n",
      "financial services -- C2\n",
      "financial services -- C3\n",
      "financial services -- C4\n",
      "convenience and neighborhood commercial centers (excluding wholesale sales) -- C1\n",
      "convenience and neighborhood commercial centers (excluding wholesale sales) -- C2\n",
      "convenience and neighborhood commercial centers (excluding wholesale sales) -- C3\n",
      "convenience and neighborhood commercial centers (excluding wholesale sales) -- C4\n",
      "family and group day care facilities -- C1\n",
      "family and group day care facilities -- C2\n",
      "family and group day care facilities -- C3\n",
      "family and group day care facilities -- C4\n",
      "libraries -- C1\n",
      "libraries -- C2\n",
      "libraries -- C3\n",
      "libraries -- C4\n",
      "mortuary and funeral homes -- C1\n",
      "mortuary and funeral homes -- C2\n",
      "mortuary and funeral homes -- C3\n",
      "mortuary and funeral homes -- C4\n",
      "places of religious worship -- C1\n",
      "places of religious worship -- C2\n",
      "places of religious worship -- C3\n",
      "places of religious worship -- C4\n",
      "places of religious worship -- FI1\n",
      "places of religious worship -- FI2\n",
      "places of religious worship -- FI3\n",
      "public utility stations -- C1\n",
      "public utility stations -- C2\n",
      "public utility stations -- C3\n",
      "public utility stations -- C4\n",
      "restaurants -- C1\n",
      "restaurants -- C2\n",
      "restaurants -- C3\n",
      "restaurants -- C4\n",
      "light commercial (excluding wholesale sales) -- C2\n",
      "light commercial (excluding wholesale sales) -- C3\n",
      "light commercial (excluding wholesale sales) -- C4\n",
      "group care facilities -- C2\n",
      "group care facilities -- C3\n",
      "group care facilities -- C4\n",
      "physical fitness centers -- C2\n",
      "physical fitness centers -- C3\n",
      "physical fitness centers -- C4\n",
      "religious, cultural and fraternal activities -- C2\n",
      "religious, cultural and fraternal activities -- C3\n",
      "religious, cultural and fraternal activities -- C4\n",
      "rehabilitation centers -- C2\n",
      "rehabilitation centers -- C3\n",
      "rehabilitation centers -- C4\n",
      "school and colleges operated for profit (including commercial, vocational and trade schools) -- C2\n",
      "school and colleges operated for profit (including commercial, vocational and trade schools) -- C3\n",
      "school and colleges operated for profit (including commercial, vocational and trade schools) -- C4\n",
      "amusement centers (including bowling alleys, golf driving ranges miniature golf courses, ice rinks, pool and billiard halls, and similar recreational uses) -- C3\n",
      "amusement centers (including bowling alleys, golf driving ranges miniature golf courses, ice rinks, pool and billiard halls, and similar recreational uses) -- C4\n",
      "automotive sales -- C3\n",
      "automotive sales -- C4\n",
      "building material supply sales (wholesale and retail) -- C3\n",
      "building material supply sales (wholesale and retail) -- C4\n",
      "cultural institutions (such as museums and art galleries) -- C3\n",
      "cultural institutions (such as museums and art galleries) -- C4\n",
      "community centers (including wholesale and retail sales) -- C3\n",
      "community centers (including wholesale and retail sales) -- C4\n",
      "health and medical institutions (such as hospitals) -- C3\n",
      "health and medical institutions (such as hospitals) -- C4\n",
      "hotels and motels (excluding other residential occupancies) -- C3\n",
      "hotels and motels (excluding other residential occupancies) -- C4\n",
      "commercial printing and publishing -- C3\n",
      "commercial printing and publishing -- C4\n",
      "taverns and cocktail lounges -- C3\n",
      "taverns and cocktail lounges -- C4\n",
      "indoor theaters -- C3\n",
      "indoor theaters -- C4\n",
      "Self-storage warehouses -- C3\n",
      "Self-storage warehouses -- C4\n",
      "major automotive repair -- C4\n",
      "commercial bakeries -- C4\n",
      "regional commercial centers (including wholesale and retail sales) -- C4\n",
      "plastic product design, molding and assembly -- C4\n",
      "small metal products design, casting, fabricating, and processing -- C4\n",
      "manufacture and finishing -- C4\n",
      "storage yards -- C4\n",
      "wood products manufacturing and finishing -- C4\n",
      "warehouses -- FI1\n",
      "warehouses -- FI2\n",
      "warehouses -- FI3\n",
      "research or testing laboratories -- FI1\n",
      "research or testing laboratories -- FI2\n",
      "research or testing laboratories -- FI3\n",
      "product distribution centers -- FI1\n",
      "product distribution centers -- FI2\n",
      "product distribution centers -- FI3\n",
      "woodworking shops -- FI1\n",
      "woodworking shops -- FI2\n",
      "woodworking shops -- FI3\n",
      "auto body shops -- FI1\n",
      "auto body shops -- FI2\n",
      "auto body shops -- FI3\n",
      "furniture assembly -- FI1\n",
      "furniture assembly -- FI2\n",
      "furniture assembly -- FI3\n",
      "dry cleaning plants -- FI1\n",
      "dry cleaning plants -- FI2\n",
      "dry cleaning plants -- FI3\n",
      "machine shops -- FI1\n",
      "machine shops -- FI2\n",
      "machine shops -- FI3\n",
      "boat storage yards -- FI1\n",
      "boat storage yards -- FI2\n",
      "boat storage yards -- FI3\n",
      "Stadiums and arenas -- FI2\n",
      "Stadiums and arenas -- FI3\n",
      "indoor swap meets -- FI2\n",
      "indoor swap meets -- FI3\n",
      "breweries -- FI2\n",
      "breweries -- FI3\n",
      "liquid fertilizer manufacturing -- FI2\n",
      "liquid fertilizer manufacturing -- FI3\n",
      "carpet manufacturing -- FI2\n",
      "carpet manufacturing -- FI3\n",
      "monument works -- FI2\n",
      "monument works -- FI3\n",
      "regional recycling center -- FI2\n",
      "regional recycling center -- FI3\n",
      "Auto-dismantling yards -- FI3\n",
      "alcohol manufacturing -- FI3\n",
      "cotton gins -- FI3\n",
      "paper manufacturing -- FI3\n",
      "quarries -- FI3\n",
      "salt works -- FI3\n",
      "petroleum refining -- FI3\n"
     ]
    }
   ],
   "source": [
    "print(\"=== All Permitted uses with Zoning ===\")\n",
    "qus = QueryUsesSparql(uses_kg)\n",
    "for use, zoning in qus.all_uses_zoning_iter():\n",
    "    print(f\"{use} -- {zoning}\")"
   ]
  },
  {
   "cell_type": "markdown",
   "metadata": {
    "jp-MarkdownHeadingCollapsed": true,
    "tags": []
   },
   "source": [
    "### Testing -- Iterators -- Dimensional Requirements code"
   ]
  },
  {
   "cell_type": "code",
   "execution_count": 45,
   "metadata": {},
   "outputs": [
    {
     "name": "stdout",
     "output_type": "stream",
     "text": [
      "R1a\n",
      "R3a\n",
      "C3\n",
      "R1b\n",
      "R2b\n",
      "C2\n",
      "FI2\n",
      "R1c\n",
      "C4\n",
      "C1\n",
      "FI1\n",
      "R1d\n",
      "R2a\n",
      "R3b\n",
      "FI3\n",
      "A3\n",
      "A2\n",
      "A1\n"
     ]
    }
   ],
   "source": [
    "qdr = QueryDimensionsSparql(dimreq_kg)\n",
    "for zoning in qdr.all_zoning_iter():\n",
    "    print(zoning)"
   ]
  },
  {
   "cell_type": "markdown",
   "metadata": {
    "tags": []
   },
   "source": [
    "# Template Generation"
   ]
  },
  {
   "cell_type": "code",
   "execution_count": 1,
   "metadata": {},
   "outputs": [
    {
     "data": {
      "text/plain": [
       "<Graph identifier=N13d90bd1e6b240cca074e22a2fa93f97 (<class 'rdflib.graph.Graph'>)>"
      ]
     },
     "execution_count": 1,
     "metadata": {},
     "output_type": "execute_result"
    }
   ],
   "source": [
    "import rdflib\n",
    "uses_kg = rdflib.Graph()\n",
    "# load the graph related to the permitted uses\n",
    "uses_kg.parse(\"permits_use2.ttl\")\n",
    "\n",
    "# import rdflib\n",
    "dimreq_kg = rdflib.Graph()\n",
    "# load the graph related to the permitted uses\n",
    "dimreq_kg.parse(\"bulk.ttl\")"
   ]
  },
  {
   "cell_type": "code",
   "execution_count": 34,
   "metadata": {},
   "outputs": [],
   "source": [
    "from string import Template\n",
    "\n",
    "class TemplateGeneration():\n",
    "    def __init__(self):\n",
    "        self.templates = {}\n",
    "        # Template 1 - template_use_1var_m_answer\n",
    "        t1 = { 'template_name': 'template_use_1var_m_answer',\n",
    "               'knowlege_graph': 'permitted_uses',\n",
    "               'variables': ('use',),                # variables feed into the templates               \n",
    "               'variable_names_sparql': ('zoning',), # variable resulting from SPARQL query\n",
    "               'sparql_template': \"\"\"\n",
    "SELECT ?zoning_label\n",
    "\n",
    "WHERE {\n",
    "\t\t?zoning :permitsUse \"${use}\" .\n",
    "        ?zoning rdfs:label ?zoning_label .\n",
    "}\n",
    "\"\"\",\n",
    "               'question_templates' : [\"Which zoning districts allow ${use}?\", \n",
    "                       \"Which zoning districts permit ${use}?\", \n",
    "                       \"I would like to build ${use}.  Which zoning districts permits this use?\"],\n",
    "               'answer_datatype' : list,\n",
    " #              'iter_method' : \n",
    "        }\n",
    "        self.templates['template_use_1var_m_answer'] = t1\n",
    "\n",
    "        # Template 2 - template_use_2var_yn_answer\n",
    "        t2 = { 'template_name': 'template_use_2var_yn_answer',\n",
    "               'knowlege_graph': 'permitted_uses',\n",
    "               'variables': ('use', 'zoning'),           # variables feed into the templates               \n",
    "               'variable_names_sparql': tuple(),            # variable resulting from SPARQL query\n",
    "               'sparql_template': \"\"\"\n",
    "ASK {\n",
    "\t\t?zoning :permitsUse \"${use}\" ;\n",
    "                rdfs:label \"${zoning}\" .\n",
    "}\n",
    "\"\"\",\n",
    "               'question_templates': [\"Are $use allowed in a $zoning zoning district?\",\n",
    "                                      \"Are $use permitted in a $zoning zoning district?\"],\n",
    "               'answer_datatype' : bool,\n",
    "        }\n",
    "        \n",
    "        self.templates['template_use_2var_yn_answer'] = t2\n",
    "        \n",
    "        # Template 5 - template_use_1var_yn_answer\n",
    "        t5 = { 'template_name': 'template_use_1var_yn_answer',\n",
    "               'knowlege_graph': 'permitted_uses',\n",
    "               'variables': ('use',),           # variables feed into the templates               \n",
    "               'variable_names_sparql': tuple(),    # variable resulting from SPARQL query\n",
    "               'sparql_template': \"\"\"\n",
    "ASK {\n",
    "\t\t?zoning :permitsUse \"${use}\" .\n",
    "}\n",
    "\"\"\",\n",
    "               'question_templates': [\"Are $use permitted?\",\n",
    "                                      \"Are $use allowed?\"],\n",
    "               'answer_datatype' : bool,\n",
    "        }\n",
    "\n",
    "        self.templates['template_use_1var_yn_answer'] = t5\n",
    "\n",
    "    def template_names(self):\n",
    "        \"\"\"template names\"\"\"\n",
    "        return self.templates.keys()\n",
    "    \n",
    "    # NOTE: The dictionary was a design decision to aloow it to be easily extented\n",
    "    # to add other variables.\n",
    "    def generate_permitted_uses(self, use_kg, template_name):\n",
    "        \"\"\"\n",
    "        generate the templates for the permitted uses\n",
    "        use_kg - permitted uses knowlege graph,\n",
    "        template_name - name of the template to use.\n",
    "        \n",
    "        return a generator that returns a dictionary.\n",
    "        \"\"\"\n",
    "        if template_name not in self.templates:\n",
    "            raise ValueError(f'template name: {template_name} does not exist.')\n",
    "        \n",
    "        if self.templates[template_name]['knowlege_graph'] != 'permitted_uses':\n",
    "            # TODO better error type\n",
    "            raise Error(f'template: {template_name}, is the wrong type of template, knowledge_graph must equal \"permitted_uses\"')\n",
    "\n",
    "        # this is just used to get information about variables,\n",
    "        # not to make queries of the KG.\n",
    "        qus = QueryUsesSparql(uses_kg)\n",
    "\n",
    "        iteratators = {\n",
    "            ('use',) : qus.all_uses_iter(),\n",
    "            ('use', 'zoning'): qus.all_uses_zoning_iter(),\n",
    "            ('zoning',): qus.all_zoning_iter(),            \n",
    "        }\n",
    "        \n",
    "        # variable_substitutions\n",
    "        \n",
    "        sparl_template = Template(self.templates[template_name]['sparql_template'])\n",
    "        question_templates = [Template(q_tmpl) for q_tmpl in self.templates[template_name]['question_templates']]\n",
    "        \n",
    "        variable_names = self.templates[template_name]['variables']\n",
    "        for q_template in question_templates:\n",
    "            for variables in iteratators[variable_names]:\n",
    "#                print(\"IT GETS THIS FAR\")\n",
    "#            for question_template in self.templates[template_name]['variables']\n",
    "             #   print(f\"variable_names: {variable_names}, variables: {variables}\")\n",
    "                if isinstance(variables, tuple):\n",
    "                    variables_tuple = variables\n",
    "                else:\n",
    "                    variables_tuple = (variables,)\n",
    "                varibs = dict(zip(variable_names, variables_tuple))\n",
    "             #   print(f\"varibs: {varibs}\")\n",
    "                result = {}\n",
    "                result['sparql'] = sparl_template.substitute(varibs)\n",
    "                result['question'] = q_template.substitute(varibs)\n",
    "                yield result\n"
   ]
  },
  {
   "cell_type": "code",
   "execution_count": 35,
   "metadata": {},
   "outputs": [],
   "source": [
    "tg = TemplateGeneration()\n",
    "\n",
    "# tg.generate_permitted_uses(tg.template_names())\n",
    "pu_iter = tg.generate_permitted_uses(uses_kg, 'template_use_1var_yn_answer')"
   ]
  },
  {
   "cell_type": "code",
   "execution_count": 36,
   "metadata": {
    "collapsed": true,
    "jupyter": {
     "outputs_hidden": true
    },
    "tags": []
   },
   "outputs": [
    {
     "name": "stdout",
     "output_type": "stream",
     "text": [
      "{'sparql': '\\nASK {\\n\\t\\t?zoning :permitsUse \"commercial printing and publishing\" .\\n}\\n', 'question': 'Are commercial printing and publishing permitted?'}\n",
      "{'sparql': '\\nASK {\\n\\t\\t?zoning :permitsUse \"cotton gins\" .\\n}\\n', 'question': 'Are cotton gins permitted?'}\n",
      "{'sparql': '\\nASK {\\n\\t\\t?zoning :permitsUse \"multiple family dwellings, such as apartment houses, boarding houses, condominiums and congregate residences\" .\\n}\\n', 'question': 'Are multiple family dwellings, such as apartment houses, boarding houses, condominiums and congregate residences permitted?'}\n",
      "{'sparql': '\\nASK {\\n\\t\\t?zoning :permitsUse \"physical fitness centers\" .\\n}\\n', 'question': 'Are physical fitness centers permitted?'}\n",
      "{'sparql': '\\nASK {\\n\\t\\t?zoning :permitsUse \"temporary buildings\" .\\n}\\n', 'question': 'Are temporary buildings permitted?'}\n",
      "{'sparql': '\\nASK {\\n\\t\\t?zoning :permitsUse \"rehabilitation centers\" .\\n}\\n', 'question': 'Are rehabilitation centers permitted?'}\n",
      "{'sparql': '\\nASK {\\n\\t\\t?zoning :permitsUse \"Dwellings\" .\\n}\\n', 'question': 'Are Dwellings permitted?'}\n",
      "{'sparql': '\\nASK {\\n\\t\\t?zoning :permitsUse \"breweries\" .\\n}\\n', 'question': 'Are breweries permitted?'}\n",
      "{'sparql': '\\nASK {\\n\\t\\t?zoning :permitsUse \"petroleum refining\" .\\n}\\n', 'question': 'Are petroleum refining permitted?'}\n",
      "{'sparql': '\\nASK {\\n\\t\\t?zoning :permitsUse \"Single-family dwellings\" .\\n}\\n', 'question': 'Are Single-family dwellings permitted?'}\n",
      "{'sparql': '\\nASK {\\n\\t\\t?zoning :permitsUse \"indoor swap meets\" .\\n}\\n', 'question': 'Are indoor swap meets permitted?'}\n",
      "{'sparql': '\\nASK {\\n\\t\\t?zoning :permitsUse \"building material supply sales (wholesale and retail)\" .\\n}\\n', 'question': 'Are building material supply sales (wholesale and retail) permitted?'}\n",
      "{'sparql': '\\nASK {\\n\\t\\t?zoning :permitsUse \"boat storage yards\" .\\n}\\n', 'question': 'Are boat storage yards permitted?'}\n",
      "{'sparql': '\\nASK {\\n\\t\\t?zoning :permitsUse \"convenience and neighborhood commercial centers (excluding wholesale sales)\" .\\n}\\n', 'question': 'Are convenience and neighborhood commercial centers (excluding wholesale sales) permitted?'}\n",
      "{'sparql': '\\nASK {\\n\\t\\t?zoning :permitsUse \"liquid fertilizer manufacturing\" .\\n}\\n', 'question': 'Are liquid fertilizer manufacturing permitted?'}\n",
      "{'sparql': '\\nASK {\\n\\t\\t?zoning :permitsUse \"public and governmental services\" .\\n}\\n', 'question': 'Are public and governmental services permitted?'}\n",
      "{'sparql': '\\nASK {\\n\\t\\t?zoning :permitsUse \"Two-family dwellings\" .\\n}\\n', 'question': 'Are Two-family dwellings permitted?'}\n",
      "{'sparql': '\\nASK {\\n\\t\\t?zoning :permitsUse \"automotive sales\" .\\n}\\n', 'question': 'Are automotive sales permitted?'}\n",
      "{'sparql': '\\nASK {\\n\\t\\t?zoning :permitsUse \"major automotive repair\" .\\n}\\n', 'question': 'Are major automotive repair permitted?'}\n",
      "{'sparql': '\\nASK {\\n\\t\\t?zoning :permitsUse \"alcohol manufacturing\" .\\n}\\n', 'question': 'Are alcohol manufacturing permitted?'}\n",
      "{'sparql': '\\nASK {\\n\\t\\t?zoning :permitsUse \"places of religious worship\" .\\n}\\n', 'question': 'Are places of religious worship permitted?'}\n",
      "{'sparql': '\\nASK {\\n\\t\\t?zoning :permitsUse \"indoor theaters\" .\\n}\\n', 'question': 'Are indoor theaters permitted?'}\n",
      "{'sparql': '\\nASK {\\n\\t\\t?zoning :permitsUse \"automotive motor fuel dispensing facilities\" .\\n}\\n', 'question': 'Are automotive motor fuel dispensing facilities permitted?'}\n",
      "{'sparql': '\\nASK {\\n\\t\\t?zoning :permitsUse \"carpet manufacturing\" .\\n}\\n', 'question': 'Are carpet manufacturing permitted?'}\n",
      "{'sparql': '\\nASK {\\n\\t\\t?zoning :permitsUse \"swimming pools and playgrounds\" .\\n}\\n', 'question': 'Are swimming pools and playgrounds permitted?'}\n",
      "{'sparql': '\\nASK {\\n\\t\\t?zoning :permitsUse \"machine shops\" .\\n}\\n', 'question': 'Are machine shops permitted?'}\n",
      "{'sparql': '\\nASK {\\n\\t\\t?zoning :permitsUse \"commercial bakeries\" .\\n}\\n', 'question': 'Are commercial bakeries permitted?'}\n",
      "{'sparql': '\\nASK {\\n\\t\\t?zoning :permitsUse \"publicly owned and operated parks\" .\\n}\\n', 'question': 'Are publicly owned and operated parks permitted?'}\n",
      "{'sparql': '\\nASK {\\n\\t\\t?zoning :permitsUse \"plastic product design, molding and assembly\" .\\n}\\n', 'question': 'Are plastic product design, molding and assembly permitted?'}\n",
      "{'sparql': '\\nASK {\\n\\t\\t?zoning :permitsUse \"Open space\" .\\n}\\n', 'question': 'Are Open space permitted?'}\n",
      "{'sparql': '\\nASK {\\n\\t\\t?zoning :permitsUse \"public parking lots\" .\\n}\\n', 'question': 'Are public parking lots permitted?'}\n",
      "{'sparql': '\\nASK {\\n\\t\\t?zoning :permitsUse \"monument works\" .\\n}\\n', 'question': 'Are monument works permitted?'}\n",
      "{'sparql': '\\nASK {\\n\\t\\t?zoning :permitsUse \"salt works\" .\\n}\\n', 'question': 'Are salt works permitted?'}\n",
      "{'sparql': '\\nASK {\\n\\t\\t?zoning :permitsUse \"private garages\" .\\n}\\n', 'question': 'Are private garages permitted?'}\n",
      "{'sparql': '\\nASK {\\n\\t\\t?zoning :permitsUse \"family and group day care facilities\" .\\n}\\n', 'question': 'Are family and group day care facilities permitted?'}\n",
      "{'sparql': '\\nASK {\\n\\t\\t?zoning :permitsUse \"auto body shops\" .\\n}\\n', 'question': 'Are auto body shops permitted?'}\n",
      "{'sparql': '\\nASK {\\n\\t\\t?zoning :permitsUse \"Auto-dismantling yards\" .\\n}\\n', 'question': 'Are Auto-dismantling yards permitted?'}\n",
      "{'sparql': '\\nASK {\\n\\t\\t?zoning :permitsUse \"public libraries\" .\\n}\\n', 'question': 'Are public libraries permitted?'}\n",
      "{'sparql': '\\nASK {\\n\\t\\t?zoning :permitsUse \"warehouses\" .\\n}\\n', 'question': 'Are warehouses permitted?'}\n",
      "{'sparql': '\\nASK {\\n\\t\\t?zoning :permitsUse \"storage yards\" .\\n}\\n', 'question': 'Are storage yards permitted?'}\n",
      "{'sparql': '\\nASK {\\n\\t\\t?zoning :permitsUse \"regional recycling center\" .\\n}\\n', 'question': 'Are regional recycling center permitted?'}\n",
      "{'sparql': '\\nASK {\\n\\t\\t?zoning :permitsUse \"Minor automotive repair\" .\\n}\\n', 'question': 'Are Minor automotive repair permitted?'}\n",
      "{'sparql': '\\nASK {\\n\\t\\t?zoning :permitsUse \"buildings accessory to the permitted used (including private garages and accessory living quarters)\" .\\n}\\n', 'question': 'Are buildings accessory to the permitted used (including private garages and accessory living quarters) permitted?'}\n",
      "{'sparql': '\\nASK {\\n\\t\\t?zoning :permitsUse \"amusement centers (including bowling alleys, golf driving ranges miniature golf courses, ice rinks, pool and billiard halls, and similar recreational uses)\" .\\n}\\n', 'question': 'Are amusement centers (including bowling alleys, golf driving ranges miniature golf courses, ice rinks, pool and billiard halls, and similar recreational uses) permitted?'}\n",
      "{'sparql': '\\nASK {\\n\\t\\t?zoning :permitsUse \"community centers (including wholesale and retail sales)\" .\\n}\\n', 'question': 'Are community centers (including wholesale and retail sales) permitted?'}\n",
      "{'sparql': '\\nASK {\\n\\t\\t?zoning :permitsUse \"Stadiums and arenas\" .\\n}\\n', 'question': 'Are Stadiums and arenas permitted?'}\n",
      "{'sparql': '\\nASK {\\n\\t\\t?zoning :permitsUse \"financial services\" .\\n}\\n', 'question': 'Are financial services permitted?'}\n",
      "{'sparql': '\\nASK {\\n\\t\\t?zoning :permitsUse \"taverns and cocktail lounges\" .\\n}\\n', 'question': 'Are taverns and cocktail lounges permitted?'}\n",
      "{'sparql': '\\nASK {\\n\\t\\t?zoning :permitsUse \"restaurants\" .\\n}\\n', 'question': 'Are restaurants permitted?'}\n",
      "{'sparql': '\\nASK {\\n\\t\\t?zoning :permitsUse \"Agricultural Use\" .\\n}\\n', 'question': 'Are Agricultural Use permitted?'}\n",
      "{'sparql': '\\nASK {\\n\\t\\t?zoning :permitsUse \"school and colleges operated for profit (including commercial, vocational and trade schools)\" .\\n}\\n', 'question': 'Are school and colleges operated for profit (including commercial, vocational and trade schools) permitted?'}\n",
      "{'sparql': '\\nASK {\\n\\t\\t?zoning :permitsUse \"Self-storage warehouses\" .\\n}\\n', 'question': 'Are Self-storage warehouses permitted?'}\n",
      "{'sparql': '\\nASK {\\n\\t\\t?zoning :permitsUse \"quarries\" .\\n}\\n', 'question': 'Are quarries permitted?'}\n",
      "{'sparql': '\\nASK {\\n\\t\\t?zoning :permitsUse \"religious, cultural and fraternal activities\" .\\n}\\n', 'question': 'Are religious, cultural and fraternal activities permitted?'}\n",
      "{'sparql': '\\nASK {\\n\\t\\t?zoning :permitsUse \"public utility stations\" .\\n}\\n', 'question': 'Are public utility stations permitted?'}\n",
      "{'sparql': '\\nASK {\\n\\t\\t?zoning :permitsUse \"recreation centers\" .\\n}\\n', 'question': 'Are recreation centers permitted?'}\n",
      "{'sparql': '\\nASK {\\n\\t\\t?zoning :permitsUse \"hotels and motels (excluding other residential occupancies)\" .\\n}\\n', 'question': 'Are hotels and motels (excluding other residential occupancies) permitted?'}\n",
      "{'sparql': '\\nASK {\\n\\t\\t?zoning :permitsUse \"furniture assembly\" .\\n}\\n', 'question': 'Are furniture assembly permitted?'}\n",
      "{'sparql': '\\nASK {\\n\\t\\t?zoning :permitsUse \"Maintenance/storage buildings\" .\\n}\\n', 'question': 'Are Maintenance/storage buildings permitted?'}\n",
      "{'sparql': '\\nASK {\\n\\t\\t?zoning :permitsUse \"business services\" .\\n}\\n', 'question': 'Are business services permitted?'}\n",
      "{'sparql': '\\nASK {\\n\\t\\t?zoning :permitsUse \"light commercial (excluding wholesale sales)\" .\\n}\\n', 'question': 'Are light commercial (excluding wholesale sales) permitted?'}\n",
      "{'sparql': '\\nASK {\\n\\t\\t?zoning :permitsUse \"research or testing laboratories\" .\\n}\\n', 'question': 'Are research or testing laboratories permitted?'}\n",
      "{'sparql': '\\nASK {\\n\\t\\t?zoning :permitsUse \"small metal products design, casting, fabricating, and processing\" .\\n}\\n', 'question': 'Are small metal products design, casting, fabricating, and processing permitted?'}\n",
      "{'sparql': '\\nASK {\\n\\t\\t?zoning :permitsUse \"schools and colleges (excluding colleges or trade schools operated for profit)\" .\\n}\\n', 'question': 'Are schools and colleges (excluding colleges or trade schools operated for profit) permitted?'}\n",
      "{'sparql': '\\nASK {\\n\\t\\t?zoning :permitsUse \"group care facilities\" .\\n}\\n', 'question': 'Are group care facilities permitted?'}\n",
      "{'sparql': '\\nASK {\\n\\t\\t?zoning :permitsUse \"product distribution centers\" .\\n}\\n', 'question': 'Are product distribution centers permitted?'}\n",
      "{'sparql': '\\nASK {\\n\\t\\t?zoning :permitsUse \"woodworking shops\" .\\n}\\n', 'question': 'Are woodworking shops permitted?'}\n",
      "{'sparql': '\\nASK {\\n\\t\\t?zoning :permitsUse \"police and fire department stations\" .\\n}\\n', 'question': 'Are police and fire department stations permitted?'}\n",
      "{'sparql': '\\nASK {\\n\\t\\t?zoning :permitsUse \"regional commercial centers (including wholesale and retail sales)\" .\\n}\\n', 'question': 'Are regional commercial centers (including wholesale and retail sales) permitted?'}\n",
      "{'sparql': '\\nASK {\\n\\t\\t?zoning :permitsUse \"libraries\" .\\n}\\n', 'question': 'Are libraries permitted?'}\n",
      "{'sparql': '\\nASK {\\n\\t\\t?zoning :permitsUse \"manufacture and finishing\" .\\n}\\n', 'question': 'Are manufacture and finishing permitted?'}\n",
      "{'sparql': '\\nASK {\\n\\t\\t?zoning :permitsUse \"health and medical institutions (such as hospitals)\" .\\n}\\n', 'question': 'Are health and medical institutions (such as hospitals) permitted?'}\n",
      "{'sparql': '\\nASK {\\n\\t\\t?zoning :permitsUse \"automotive self-service motor fuel dispensing facilities\" .\\n}\\n', 'question': 'Are automotive self-service motor fuel dispensing facilities permitted?'}\n",
      "{'sparql': '\\nASK {\\n\\t\\t?zoning :permitsUse \"cultural institutions (such as museums and art galleries)\" .\\n}\\n', 'question': 'Are cultural institutions (such as museums and art galleries) permitted?'}\n",
      "{'sparql': '\\nASK {\\n\\t\\t?zoning :permitsUse \"wood products manufacturing and finishing\" .\\n}\\n', 'question': 'Are wood products manufacturing and finishing permitted?'}\n",
      "{'sparql': '\\nASK {\\n\\t\\t?zoning :permitsUse \"dry cleaning plants\" .\\n}\\n', 'question': 'Are dry cleaning plants permitted?'}\n",
      "{'sparql': '\\nASK {\\n\\t\\t?zoning :permitsUse \"mortuary and funeral homes\" .\\n}\\n', 'question': 'Are mortuary and funeral homes permitted?'}\n",
      "{'sparql': '\\nASK {\\n\\t\\t?zoning :permitsUse \"paper manufacturing\" .\\n}\\n', 'question': 'Are paper manufacturing permitted?'}\n"
     ]
    }
   ],
   "source": [
    "for d in pu_iter:\n",
    "    print(d)"
   ]
  },
  {
   "cell_type": "code",
   "execution_count": 37,
   "metadata": {
    "collapsed": true,
    "jupyter": {
     "outputs_hidden": true
    },
    "tags": []
   },
   "outputs": [
    {
     "name": "stdout",
     "output_type": "stream",
     "text": [
      "{'sparql': '\\nSELECT ?zoning_label\\n\\nWHERE {\\n\\t\\t?zoning :permitsUse \"commercial printing and publishing\" .\\n        ?zoning rdfs:label ?zoning_label .\\n}\\n', 'question': 'Which zoning districts allow commercial printing and publishing?'}\n",
      "{'sparql': '\\nSELECT ?zoning_label\\n\\nWHERE {\\n\\t\\t?zoning :permitsUse \"cotton gins\" .\\n        ?zoning rdfs:label ?zoning_label .\\n}\\n', 'question': 'Which zoning districts allow cotton gins?'}\n",
      "{'sparql': '\\nSELECT ?zoning_label\\n\\nWHERE {\\n\\t\\t?zoning :permitsUse \"multiple family dwellings, such as apartment houses, boarding houses, condominiums and congregate residences\" .\\n        ?zoning rdfs:label ?zoning_label .\\n}\\n', 'question': 'Which zoning districts allow multiple family dwellings, such as apartment houses, boarding houses, condominiums and congregate residences?'}\n",
      "{'sparql': '\\nSELECT ?zoning_label\\n\\nWHERE {\\n\\t\\t?zoning :permitsUse \"physical fitness centers\" .\\n        ?zoning rdfs:label ?zoning_label .\\n}\\n', 'question': 'Which zoning districts allow physical fitness centers?'}\n",
      "{'sparql': '\\nSELECT ?zoning_label\\n\\nWHERE {\\n\\t\\t?zoning :permitsUse \"temporary buildings\" .\\n        ?zoning rdfs:label ?zoning_label .\\n}\\n', 'question': 'Which zoning districts allow temporary buildings?'}\n",
      "{'sparql': '\\nSELECT ?zoning_label\\n\\nWHERE {\\n\\t\\t?zoning :permitsUse \"rehabilitation centers\" .\\n        ?zoning rdfs:label ?zoning_label .\\n}\\n', 'question': 'Which zoning districts allow rehabilitation centers?'}\n",
      "{'sparql': '\\nSELECT ?zoning_label\\n\\nWHERE {\\n\\t\\t?zoning :permitsUse \"Dwellings\" .\\n        ?zoning rdfs:label ?zoning_label .\\n}\\n', 'question': 'Which zoning districts allow Dwellings?'}\n",
      "{'sparql': '\\nSELECT ?zoning_label\\n\\nWHERE {\\n\\t\\t?zoning :permitsUse \"breweries\" .\\n        ?zoning rdfs:label ?zoning_label .\\n}\\n', 'question': 'Which zoning districts allow breweries?'}\n",
      "{'sparql': '\\nSELECT ?zoning_label\\n\\nWHERE {\\n\\t\\t?zoning :permitsUse \"petroleum refining\" .\\n        ?zoning rdfs:label ?zoning_label .\\n}\\n', 'question': 'Which zoning districts allow petroleum refining?'}\n",
      "{'sparql': '\\nSELECT ?zoning_label\\n\\nWHERE {\\n\\t\\t?zoning :permitsUse \"Single-family dwellings\" .\\n        ?zoning rdfs:label ?zoning_label .\\n}\\n', 'question': 'Which zoning districts allow Single-family dwellings?'}\n",
      "{'sparql': '\\nSELECT ?zoning_label\\n\\nWHERE {\\n\\t\\t?zoning :permitsUse \"indoor swap meets\" .\\n        ?zoning rdfs:label ?zoning_label .\\n}\\n', 'question': 'Which zoning districts allow indoor swap meets?'}\n",
      "{'sparql': '\\nSELECT ?zoning_label\\n\\nWHERE {\\n\\t\\t?zoning :permitsUse \"building material supply sales (wholesale and retail)\" .\\n        ?zoning rdfs:label ?zoning_label .\\n}\\n', 'question': 'Which zoning districts allow building material supply sales (wholesale and retail)?'}\n",
      "{'sparql': '\\nSELECT ?zoning_label\\n\\nWHERE {\\n\\t\\t?zoning :permitsUse \"boat storage yards\" .\\n        ?zoning rdfs:label ?zoning_label .\\n}\\n', 'question': 'Which zoning districts allow boat storage yards?'}\n",
      "{'sparql': '\\nSELECT ?zoning_label\\n\\nWHERE {\\n\\t\\t?zoning :permitsUse \"convenience and neighborhood commercial centers (excluding wholesale sales)\" .\\n        ?zoning rdfs:label ?zoning_label .\\n}\\n', 'question': 'Which zoning districts allow convenience and neighborhood commercial centers (excluding wholesale sales)?'}\n",
      "{'sparql': '\\nSELECT ?zoning_label\\n\\nWHERE {\\n\\t\\t?zoning :permitsUse \"liquid fertilizer manufacturing\" .\\n        ?zoning rdfs:label ?zoning_label .\\n}\\n', 'question': 'Which zoning districts allow liquid fertilizer manufacturing?'}\n",
      "{'sparql': '\\nSELECT ?zoning_label\\n\\nWHERE {\\n\\t\\t?zoning :permitsUse \"public and governmental services\" .\\n        ?zoning rdfs:label ?zoning_label .\\n}\\n', 'question': 'Which zoning districts allow public and governmental services?'}\n",
      "{'sparql': '\\nSELECT ?zoning_label\\n\\nWHERE {\\n\\t\\t?zoning :permitsUse \"Two-family dwellings\" .\\n        ?zoning rdfs:label ?zoning_label .\\n}\\n', 'question': 'Which zoning districts allow Two-family dwellings?'}\n",
      "{'sparql': '\\nSELECT ?zoning_label\\n\\nWHERE {\\n\\t\\t?zoning :permitsUse \"automotive sales\" .\\n        ?zoning rdfs:label ?zoning_label .\\n}\\n', 'question': 'Which zoning districts allow automotive sales?'}\n",
      "{'sparql': '\\nSELECT ?zoning_label\\n\\nWHERE {\\n\\t\\t?zoning :permitsUse \"major automotive repair\" .\\n        ?zoning rdfs:label ?zoning_label .\\n}\\n', 'question': 'Which zoning districts allow major automotive repair?'}\n",
      "{'sparql': '\\nSELECT ?zoning_label\\n\\nWHERE {\\n\\t\\t?zoning :permitsUse \"alcohol manufacturing\" .\\n        ?zoning rdfs:label ?zoning_label .\\n}\\n', 'question': 'Which zoning districts allow alcohol manufacturing?'}\n",
      "{'sparql': '\\nSELECT ?zoning_label\\n\\nWHERE {\\n\\t\\t?zoning :permitsUse \"places of religious worship\" .\\n        ?zoning rdfs:label ?zoning_label .\\n}\\n', 'question': 'Which zoning districts allow places of religious worship?'}\n",
      "{'sparql': '\\nSELECT ?zoning_label\\n\\nWHERE {\\n\\t\\t?zoning :permitsUse \"indoor theaters\" .\\n        ?zoning rdfs:label ?zoning_label .\\n}\\n', 'question': 'Which zoning districts allow indoor theaters?'}\n",
      "{'sparql': '\\nSELECT ?zoning_label\\n\\nWHERE {\\n\\t\\t?zoning :permitsUse \"automotive motor fuel dispensing facilities\" .\\n        ?zoning rdfs:label ?zoning_label .\\n}\\n', 'question': 'Which zoning districts allow automotive motor fuel dispensing facilities?'}\n",
      "{'sparql': '\\nSELECT ?zoning_label\\n\\nWHERE {\\n\\t\\t?zoning :permitsUse \"carpet manufacturing\" .\\n        ?zoning rdfs:label ?zoning_label .\\n}\\n', 'question': 'Which zoning districts allow carpet manufacturing?'}\n",
      "{'sparql': '\\nSELECT ?zoning_label\\n\\nWHERE {\\n\\t\\t?zoning :permitsUse \"swimming pools and playgrounds\" .\\n        ?zoning rdfs:label ?zoning_label .\\n}\\n', 'question': 'Which zoning districts allow swimming pools and playgrounds?'}\n",
      "{'sparql': '\\nSELECT ?zoning_label\\n\\nWHERE {\\n\\t\\t?zoning :permitsUse \"machine shops\" .\\n        ?zoning rdfs:label ?zoning_label .\\n}\\n', 'question': 'Which zoning districts allow machine shops?'}\n",
      "{'sparql': '\\nSELECT ?zoning_label\\n\\nWHERE {\\n\\t\\t?zoning :permitsUse \"commercial bakeries\" .\\n        ?zoning rdfs:label ?zoning_label .\\n}\\n', 'question': 'Which zoning districts allow commercial bakeries?'}\n",
      "{'sparql': '\\nSELECT ?zoning_label\\n\\nWHERE {\\n\\t\\t?zoning :permitsUse \"publicly owned and operated parks\" .\\n        ?zoning rdfs:label ?zoning_label .\\n}\\n', 'question': 'Which zoning districts allow publicly owned and operated parks?'}\n",
      "{'sparql': '\\nSELECT ?zoning_label\\n\\nWHERE {\\n\\t\\t?zoning :permitsUse \"plastic product design, molding and assembly\" .\\n        ?zoning rdfs:label ?zoning_label .\\n}\\n', 'question': 'Which zoning districts allow plastic product design, molding and assembly?'}\n",
      "{'sparql': '\\nSELECT ?zoning_label\\n\\nWHERE {\\n\\t\\t?zoning :permitsUse \"Open space\" .\\n        ?zoning rdfs:label ?zoning_label .\\n}\\n', 'question': 'Which zoning districts allow Open space?'}\n",
      "{'sparql': '\\nSELECT ?zoning_label\\n\\nWHERE {\\n\\t\\t?zoning :permitsUse \"public parking lots\" .\\n        ?zoning rdfs:label ?zoning_label .\\n}\\n', 'question': 'Which zoning districts allow public parking lots?'}\n",
      "{'sparql': '\\nSELECT ?zoning_label\\n\\nWHERE {\\n\\t\\t?zoning :permitsUse \"monument works\" .\\n        ?zoning rdfs:label ?zoning_label .\\n}\\n', 'question': 'Which zoning districts allow monument works?'}\n",
      "{'sparql': '\\nSELECT ?zoning_label\\n\\nWHERE {\\n\\t\\t?zoning :permitsUse \"salt works\" .\\n        ?zoning rdfs:label ?zoning_label .\\n}\\n', 'question': 'Which zoning districts allow salt works?'}\n",
      "{'sparql': '\\nSELECT ?zoning_label\\n\\nWHERE {\\n\\t\\t?zoning :permitsUse \"private garages\" .\\n        ?zoning rdfs:label ?zoning_label .\\n}\\n', 'question': 'Which zoning districts allow private garages?'}\n",
      "{'sparql': '\\nSELECT ?zoning_label\\n\\nWHERE {\\n\\t\\t?zoning :permitsUse \"family and group day care facilities\" .\\n        ?zoning rdfs:label ?zoning_label .\\n}\\n', 'question': 'Which zoning districts allow family and group day care facilities?'}\n",
      "{'sparql': '\\nSELECT ?zoning_label\\n\\nWHERE {\\n\\t\\t?zoning :permitsUse \"auto body shops\" .\\n        ?zoning rdfs:label ?zoning_label .\\n}\\n', 'question': 'Which zoning districts allow auto body shops?'}\n",
      "{'sparql': '\\nSELECT ?zoning_label\\n\\nWHERE {\\n\\t\\t?zoning :permitsUse \"Auto-dismantling yards\" .\\n        ?zoning rdfs:label ?zoning_label .\\n}\\n', 'question': 'Which zoning districts allow Auto-dismantling yards?'}\n",
      "{'sparql': '\\nSELECT ?zoning_label\\n\\nWHERE {\\n\\t\\t?zoning :permitsUse \"public libraries\" .\\n        ?zoning rdfs:label ?zoning_label .\\n}\\n', 'question': 'Which zoning districts allow public libraries?'}\n",
      "{'sparql': '\\nSELECT ?zoning_label\\n\\nWHERE {\\n\\t\\t?zoning :permitsUse \"warehouses\" .\\n        ?zoning rdfs:label ?zoning_label .\\n}\\n', 'question': 'Which zoning districts allow warehouses?'}\n",
      "{'sparql': '\\nSELECT ?zoning_label\\n\\nWHERE {\\n\\t\\t?zoning :permitsUse \"storage yards\" .\\n        ?zoning rdfs:label ?zoning_label .\\n}\\n', 'question': 'Which zoning districts allow storage yards?'}\n",
      "{'sparql': '\\nSELECT ?zoning_label\\n\\nWHERE {\\n\\t\\t?zoning :permitsUse \"regional recycling center\" .\\n        ?zoning rdfs:label ?zoning_label .\\n}\\n', 'question': 'Which zoning districts allow regional recycling center?'}\n",
      "{'sparql': '\\nSELECT ?zoning_label\\n\\nWHERE {\\n\\t\\t?zoning :permitsUse \"Minor automotive repair\" .\\n        ?zoning rdfs:label ?zoning_label .\\n}\\n', 'question': 'Which zoning districts allow Minor automotive repair?'}\n",
      "{'sparql': '\\nSELECT ?zoning_label\\n\\nWHERE {\\n\\t\\t?zoning :permitsUse \"buildings accessory to the permitted used (including private garages and accessory living quarters)\" .\\n        ?zoning rdfs:label ?zoning_label .\\n}\\n', 'question': 'Which zoning districts allow buildings accessory to the permitted used (including private garages and accessory living quarters)?'}\n",
      "{'sparql': '\\nSELECT ?zoning_label\\n\\nWHERE {\\n\\t\\t?zoning :permitsUse \"amusement centers (including bowling alleys, golf driving ranges miniature golf courses, ice rinks, pool and billiard halls, and similar recreational uses)\" .\\n        ?zoning rdfs:label ?zoning_label .\\n}\\n', 'question': 'Which zoning districts allow amusement centers (including bowling alleys, golf driving ranges miniature golf courses, ice rinks, pool and billiard halls, and similar recreational uses)?'}\n",
      "{'sparql': '\\nSELECT ?zoning_label\\n\\nWHERE {\\n\\t\\t?zoning :permitsUse \"community centers (including wholesale and retail sales)\" .\\n        ?zoning rdfs:label ?zoning_label .\\n}\\n', 'question': 'Which zoning districts allow community centers (including wholesale and retail sales)?'}\n",
      "{'sparql': '\\nSELECT ?zoning_label\\n\\nWHERE {\\n\\t\\t?zoning :permitsUse \"Stadiums and arenas\" .\\n        ?zoning rdfs:label ?zoning_label .\\n}\\n', 'question': 'Which zoning districts allow Stadiums and arenas?'}\n",
      "{'sparql': '\\nSELECT ?zoning_label\\n\\nWHERE {\\n\\t\\t?zoning :permitsUse \"financial services\" .\\n        ?zoning rdfs:label ?zoning_label .\\n}\\n', 'question': 'Which zoning districts allow financial services?'}\n",
      "{'sparql': '\\nSELECT ?zoning_label\\n\\nWHERE {\\n\\t\\t?zoning :permitsUse \"taverns and cocktail lounges\" .\\n        ?zoning rdfs:label ?zoning_label .\\n}\\n', 'question': 'Which zoning districts allow taverns and cocktail lounges?'}\n",
      "{'sparql': '\\nSELECT ?zoning_label\\n\\nWHERE {\\n\\t\\t?zoning :permitsUse \"restaurants\" .\\n        ?zoning rdfs:label ?zoning_label .\\n}\\n', 'question': 'Which zoning districts allow restaurants?'}\n",
      "{'sparql': '\\nSELECT ?zoning_label\\n\\nWHERE {\\n\\t\\t?zoning :permitsUse \"Agricultural Use\" .\\n        ?zoning rdfs:label ?zoning_label .\\n}\\n', 'question': 'Which zoning districts allow Agricultural Use?'}\n",
      "{'sparql': '\\nSELECT ?zoning_label\\n\\nWHERE {\\n\\t\\t?zoning :permitsUse \"school and colleges operated for profit (including commercial, vocational and trade schools)\" .\\n        ?zoning rdfs:label ?zoning_label .\\n}\\n', 'question': 'Which zoning districts allow school and colleges operated for profit (including commercial, vocational and trade schools)?'}\n",
      "{'sparql': '\\nSELECT ?zoning_label\\n\\nWHERE {\\n\\t\\t?zoning :permitsUse \"Self-storage warehouses\" .\\n        ?zoning rdfs:label ?zoning_label .\\n}\\n', 'question': 'Which zoning districts allow Self-storage warehouses?'}\n",
      "{'sparql': '\\nSELECT ?zoning_label\\n\\nWHERE {\\n\\t\\t?zoning :permitsUse \"quarries\" .\\n        ?zoning rdfs:label ?zoning_label .\\n}\\n', 'question': 'Which zoning districts allow quarries?'}\n",
      "{'sparql': '\\nSELECT ?zoning_label\\n\\nWHERE {\\n\\t\\t?zoning :permitsUse \"religious, cultural and fraternal activities\" .\\n        ?zoning rdfs:label ?zoning_label .\\n}\\n', 'question': 'Which zoning districts allow religious, cultural and fraternal activities?'}\n",
      "{'sparql': '\\nSELECT ?zoning_label\\n\\nWHERE {\\n\\t\\t?zoning :permitsUse \"public utility stations\" .\\n        ?zoning rdfs:label ?zoning_label .\\n}\\n', 'question': 'Which zoning districts allow public utility stations?'}\n",
      "{'sparql': '\\nSELECT ?zoning_label\\n\\nWHERE {\\n\\t\\t?zoning :permitsUse \"recreation centers\" .\\n        ?zoning rdfs:label ?zoning_label .\\n}\\n', 'question': 'Which zoning districts allow recreation centers?'}\n",
      "{'sparql': '\\nSELECT ?zoning_label\\n\\nWHERE {\\n\\t\\t?zoning :permitsUse \"hotels and motels (excluding other residential occupancies)\" .\\n        ?zoning rdfs:label ?zoning_label .\\n}\\n', 'question': 'Which zoning districts allow hotels and motels (excluding other residential occupancies)?'}\n",
      "{'sparql': '\\nSELECT ?zoning_label\\n\\nWHERE {\\n\\t\\t?zoning :permitsUse \"furniture assembly\" .\\n        ?zoning rdfs:label ?zoning_label .\\n}\\n', 'question': 'Which zoning districts allow furniture assembly?'}\n",
      "{'sparql': '\\nSELECT ?zoning_label\\n\\nWHERE {\\n\\t\\t?zoning :permitsUse \"Maintenance/storage buildings\" .\\n        ?zoning rdfs:label ?zoning_label .\\n}\\n', 'question': 'Which zoning districts allow Maintenance/storage buildings?'}\n",
      "{'sparql': '\\nSELECT ?zoning_label\\n\\nWHERE {\\n\\t\\t?zoning :permitsUse \"business services\" .\\n        ?zoning rdfs:label ?zoning_label .\\n}\\n', 'question': 'Which zoning districts allow business services?'}\n",
      "{'sparql': '\\nSELECT ?zoning_label\\n\\nWHERE {\\n\\t\\t?zoning :permitsUse \"light commercial (excluding wholesale sales)\" .\\n        ?zoning rdfs:label ?zoning_label .\\n}\\n', 'question': 'Which zoning districts allow light commercial (excluding wholesale sales)?'}\n",
      "{'sparql': '\\nSELECT ?zoning_label\\n\\nWHERE {\\n\\t\\t?zoning :permitsUse \"research or testing laboratories\" .\\n        ?zoning rdfs:label ?zoning_label .\\n}\\n', 'question': 'Which zoning districts allow research or testing laboratories?'}\n",
      "{'sparql': '\\nSELECT ?zoning_label\\n\\nWHERE {\\n\\t\\t?zoning :permitsUse \"small metal products design, casting, fabricating, and processing\" .\\n        ?zoning rdfs:label ?zoning_label .\\n}\\n', 'question': 'Which zoning districts allow small metal products design, casting, fabricating, and processing?'}\n",
      "{'sparql': '\\nSELECT ?zoning_label\\n\\nWHERE {\\n\\t\\t?zoning :permitsUse \"schools and colleges (excluding colleges or trade schools operated for profit)\" .\\n        ?zoning rdfs:label ?zoning_label .\\n}\\n', 'question': 'Which zoning districts allow schools and colleges (excluding colleges or trade schools operated for profit)?'}\n",
      "{'sparql': '\\nSELECT ?zoning_label\\n\\nWHERE {\\n\\t\\t?zoning :permitsUse \"group care facilities\" .\\n        ?zoning rdfs:label ?zoning_label .\\n}\\n', 'question': 'Which zoning districts allow group care facilities?'}\n",
      "{'sparql': '\\nSELECT ?zoning_label\\n\\nWHERE {\\n\\t\\t?zoning :permitsUse \"product distribution centers\" .\\n        ?zoning rdfs:label ?zoning_label .\\n}\\n', 'question': 'Which zoning districts allow product distribution centers?'}\n",
      "{'sparql': '\\nSELECT ?zoning_label\\n\\nWHERE {\\n\\t\\t?zoning :permitsUse \"woodworking shops\" .\\n        ?zoning rdfs:label ?zoning_label .\\n}\\n', 'question': 'Which zoning districts allow woodworking shops?'}\n",
      "{'sparql': '\\nSELECT ?zoning_label\\n\\nWHERE {\\n\\t\\t?zoning :permitsUse \"police and fire department stations\" .\\n        ?zoning rdfs:label ?zoning_label .\\n}\\n', 'question': 'Which zoning districts allow police and fire department stations?'}\n",
      "{'sparql': '\\nSELECT ?zoning_label\\n\\nWHERE {\\n\\t\\t?zoning :permitsUse \"regional commercial centers (including wholesale and retail sales)\" .\\n        ?zoning rdfs:label ?zoning_label .\\n}\\n', 'question': 'Which zoning districts allow regional commercial centers (including wholesale and retail sales)?'}\n",
      "{'sparql': '\\nSELECT ?zoning_label\\n\\nWHERE {\\n\\t\\t?zoning :permitsUse \"libraries\" .\\n        ?zoning rdfs:label ?zoning_label .\\n}\\n', 'question': 'Which zoning districts allow libraries?'}\n",
      "{'sparql': '\\nSELECT ?zoning_label\\n\\nWHERE {\\n\\t\\t?zoning :permitsUse \"manufacture and finishing\" .\\n        ?zoning rdfs:label ?zoning_label .\\n}\\n', 'question': 'Which zoning districts allow manufacture and finishing?'}\n",
      "{'sparql': '\\nSELECT ?zoning_label\\n\\nWHERE {\\n\\t\\t?zoning :permitsUse \"health and medical institutions (such as hospitals)\" .\\n        ?zoning rdfs:label ?zoning_label .\\n}\\n', 'question': 'Which zoning districts allow health and medical institutions (such as hospitals)?'}\n",
      "{'sparql': '\\nSELECT ?zoning_label\\n\\nWHERE {\\n\\t\\t?zoning :permitsUse \"automotive self-service motor fuel dispensing facilities\" .\\n        ?zoning rdfs:label ?zoning_label .\\n}\\n', 'question': 'Which zoning districts allow automotive self-service motor fuel dispensing facilities?'}\n",
      "{'sparql': '\\nSELECT ?zoning_label\\n\\nWHERE {\\n\\t\\t?zoning :permitsUse \"cultural institutions (such as museums and art galleries)\" .\\n        ?zoning rdfs:label ?zoning_label .\\n}\\n', 'question': 'Which zoning districts allow cultural institutions (such as museums and art galleries)?'}\n",
      "{'sparql': '\\nSELECT ?zoning_label\\n\\nWHERE {\\n\\t\\t?zoning :permitsUse \"wood products manufacturing and finishing\" .\\n        ?zoning rdfs:label ?zoning_label .\\n}\\n', 'question': 'Which zoning districts allow wood products manufacturing and finishing?'}\n",
      "{'sparql': '\\nSELECT ?zoning_label\\n\\nWHERE {\\n\\t\\t?zoning :permitsUse \"dry cleaning plants\" .\\n        ?zoning rdfs:label ?zoning_label .\\n}\\n', 'question': 'Which zoning districts allow dry cleaning plants?'}\n",
      "{'sparql': '\\nSELECT ?zoning_label\\n\\nWHERE {\\n\\t\\t?zoning :permitsUse \"mortuary and funeral homes\" .\\n        ?zoning rdfs:label ?zoning_label .\\n}\\n', 'question': 'Which zoning districts allow mortuary and funeral homes?'}\n",
      "{'sparql': '\\nSELECT ?zoning_label\\n\\nWHERE {\\n\\t\\t?zoning :permitsUse \"paper manufacturing\" .\\n        ?zoning rdfs:label ?zoning_label .\\n}\\n', 'question': 'Which zoning districts allow paper manufacturing?'}\n"
     ]
    }
   ],
   "source": [
    "tg = TemplateGeneration()\n",
    "\n",
    "# tg.generate_permitted_uses(tg.template_names())\n",
    "pu_iter = tg.generate_permitted_uses(uses_kg, 'template_use_1var_m_answer')\n",
    "\n",
    "for d in pu_iter:\n",
    "    print(d)"
   ]
  },
  {
   "cell_type": "markdown",
   "metadata": {},
   "source": [
    "# Get properties from the Knowledge Graph."
   ]
  },
  {
   "cell_type": "code",
   "execution_count": 7,
   "metadata": {},
   "outputs": [
    {
     "name": "stdout",
     "output_type": "stream",
     "text": [
      "Name http://www.example.org/ns/lu/zoning#minLotSize, Label \"minimum lot size\"\n",
      "Name http://www.example.org/ns/lu/zoning#maxDensity, Label \"maximum density\"\n",
      "Name http://www.example.org/ns/lu/zoning#minLotWidth, Label \"minimum lot width\"\n",
      "Name http://www.example.org/ns/lu/zoning#minLotDepth, Label \"minimum lot depth\"\n",
      "Name http://www.example.org/ns/lu/zoning#minFrontSetback, Label \"minimum front setback\"\n",
      "Name http://www.example.org/ns/lu/zoning#minSideSetback, Label \"minimum side setback\"\n",
      "Name http://www.example.org/ns/lu/zoning#minRearSetback, Label \"minimum rear setback\"\n",
      "Name http://www.example.org/ns/lu/zoning#maxBuildingHeight, Label \"maximumBuildingHeight\"\n"
     ]
    }
   ],
   "source": [
    "import rdflib\n",
    "dimreq_kg = rdflib.Graph()\n",
    "# load the graph related to the dimensional requirements\n",
    "dimreq_kg.parse(\"bulk2.ttl\")\n",
    "\n",
    "sparql_properties = \"\"\"\n",
    "SELECT ?property_name ?property_label\n",
    "\n",
    "WHERE {\n",
    "    ?property_name a rdf:Property ;\n",
    "                rdf:label  ?property_label .\n",
    "}\n",
    "\"\"\"\n",
    "\n",
    "results = dimreq_kg.query(sparql_properties)\n",
    "\n",
    "for row in results:\n",
    "    print(f'Name {row.property_name}, Label \"{row.property_label}\"')"
   ]
  },
  {
   "cell_type": "code",
   "execution_count": 9,
   "metadata": {},
   "outputs": [
    {
     "name": "stdout",
     "output_type": "stream",
     "text": [
      "Name minLotSize, Label \"minimum lot size\"\n",
      "Name maxDensity, Label \"maximum density\"\n",
      "Name minLotWidth, Label \"minimum lot width\"\n",
      "Name minLotDepth, Label \"minimum lot depth\"\n",
      "Name minFrontSetback, Label \"minimum front setback\"\n",
      "Name minSideSetback, Label \"minimum side setback\"\n",
      "Name minRearSetback, Label \"minimum rear setback\"\n",
      "Name maxBuildingHeight, Label \"maximumBuildingHeight\"\n"
     ]
    }
   ],
   "source": [
    "for row in results:\n",
    "    print(f'Name {row.property_name.fragment}, Label \"{row.property_label}\"')"
   ]
  },
  {
   "cell_type": "code",
   "execution_count": 17,
   "metadata": {},
   "outputs": [
    {
     "data": {
      "text/plain": [
       "{'minimum lot size': ':minLotSize',\n",
       " 'maximum density': ':maxDensity',\n",
       " 'minimum lot width': ':minLotWidth',\n",
       " 'minimum lot depth': ':minLotDepth',\n",
       " 'minimum front setback': ':minFrontSetback',\n",
       " 'minimum side setback': ':minSideSetback',\n",
       " 'minimum rear setback': ':minRearSetback',\n",
       " 'maximumBuildingHeight': ':maxBuildingHeight'}"
      ]
     },
     "execution_count": 17,
     "metadata": {},
     "output_type": "execute_result"
    }
   ],
   "source": [
    "{ str(row.property_label): ':'+row.property_name.fragment for row in results }"
   ]
  },
  {
   "cell_type": "markdown",
   "metadata": {},
   "source": [
    "# SCRATCH"
   ]
  },
  {
   "cell_type": "code",
   "execution_count": 2,
   "metadata": {},
   "outputs": [],
   "source": [
    "sparql = \"\"\"\n",
    "SELECT ?use\n",
    "\n",
    "WHERE {\n",
    "        ?zoning :permitsUse ?use .\n",
    "}\n",
    "\"\"\"\n",
    "\n",
    "results = uses_kg.query(sparql)\n"
   ]
  },
  {
   "cell_type": "code",
   "execution_count": 27,
   "metadata": {},
   "outputs": [
    {
     "name": "stdout",
     "output_type": "stream",
     "text": [
      "Minor automotive repair\n",
      "family and group day care facilities\n",
      "petroleum refining\n",
      "research or testing laboratories\n",
      "publicly owned and operated parks\n",
      "furniture assembly\n",
      "machine shops\n",
      "mortuary and funeral homes\n",
      "major automotive repair\n",
      "woodworking shops\n",
      "commercial printing and publishing\n",
      "financial services\n",
      "cotton gins\n",
      "school and colleges operated for profit (including commercial, vocational and trade schools)\n",
      "regional recycling center\n",
      "physical fitness centers\n",
      "schools and colleges (excluding colleges or trade schools operated for profit)\n",
      "product distribution centers\n",
      "rehabilitation centers\n",
      "storage yards\n",
      "salt works\n",
      "amusement centers (including bowling alleys, golf driving ranges miniature golf courses, ice rinks, pool and billiard halls, and similar recreational uses)\n",
      "libraries\n",
      "liquid fertilizer manufacturing\n",
      "private garages\n",
      "small metal products design, casting, fabricating, and processing\n",
      "public and governmental services\n",
      "automotive sales\n",
      "Dwellings\n",
      "commercial bakeries\n",
      "recreation centers\n",
      "paper manufacturing\n",
      "cultural institutions (such as museums and art galleries)\n",
      "taverns and cocktail lounges\n",
      "auto body shops\n",
      "group care facilities\n",
      "hotels and motels (excluding other residential occupancies)\n",
      "plastic product design, molding and assembly\n",
      "Single-family dwellings\n",
      "Stadiums and arenas\n",
      "breweries\n",
      "buildings accessory to the permitted used (including private garages and accessory living quarters)\n",
      "Two-family dwellings\n",
      "business services\n",
      "indoor theaters\n",
      "quarries\n",
      "swimming pools and playgrounds\n",
      "community centers (including wholesale and retail sales)\n",
      "public utility stations\n",
      "alcohol manufacturing\n",
      "building material supply sales (wholesale and retail)\n",
      "Self-storage warehouses\n",
      "Agricultural Use\n",
      "Two-family dwellingsmultiple family dwellings, such as apartment houses, boarding houses, condominiums and congregate residences\n",
      "police and fire department stations\n",
      "convenience and neighborhood commercial centers (excluding wholesale sales)\n",
      "public libraries\n",
      "indoor swap meets\n",
      "carpet manufacturing\n",
      "light commercial (excluding wholesale sales)\n",
      "boat storage yards\n",
      "automotive self-service motor fuel dispensing facilities\n",
      "places of religious worship\n",
      "wood products manufacturing and finishing\n",
      "Maintenance/storage buildings\n",
      "manufacture and finishing\n",
      "religious, cultural and fraternal activities\n",
      "automotive motor fuel dispensing facilities\n",
      "public parking lots\n",
      "Auto-dismantling yards\n",
      "monument works\n",
      "regional commercial centers (including wholesale and retail sales)\n",
      "dry cleaning plants\n",
      "health and medical institutions (such as hospitals)\n",
      "warehouses\n",
      "temporary buildings\n",
      "restaurants\n",
      "Open space\n"
     ]
    }
   ],
   "source": [
    "for r in set([str(res.use) for res in results]):\n",
    "    print(r)"
   ]
  },
  {
   "cell_type": "code",
   "execution_count": 4,
   "metadata": {},
   "outputs": [
    {
     "ename": "TypeError",
     "evalue": "'SPARQLResult' object is not an iterator",
     "output_type": "error",
     "traceback": [
      "\u001b[0;31m---------------------------------------------------------------------------\u001b[0m",
      "\u001b[0;31mTypeError\u001b[0m                                 Traceback (most recent call last)",
      "\u001b[0;32m<ipython-input-4-45dd4cb15627>\u001b[0m in \u001b[0;36m<module>\u001b[0;34m\u001b[0m\n\u001b[0;32m----> 1\u001b[0;31m \u001b[0mprint\u001b[0m\u001b[0;34m(\u001b[0m\u001b[0mnext\u001b[0m\u001b[0;34m(\u001b[0m\u001b[0mresults\u001b[0m\u001b[0;34m)\u001b[0m\u001b[0;34m)\u001b[0m\u001b[0;34m\u001b[0m\u001b[0;34m\u001b[0m\u001b[0m\n\u001b[0m",
      "\u001b[0;31mTypeError\u001b[0m: 'SPARQLResult' object is not an iterator"
     ]
    }
   ],
   "source": [
    "print(next(results))"
   ]
  },
  {
   "cell_type": "code",
   "execution_count": null,
   "metadata": {},
   "outputs": [],
   "source": [
    "for res in results"
   ]
  },
  {
   "cell_type": "code",
   "execution_count": 26,
   "metadata": {},
   "outputs": [
    {
     "data": {
      "text/plain": [
       "{'Agricultural Use',\n",
       " 'Auto-dismantling yards',\n",
       " 'Dwellings',\n",
       " 'Maintenance/storage buildings',\n",
       " 'Minor automotive repair',\n",
       " 'Open space',\n",
       " 'Self-storage warehouses',\n",
       " 'Single-family dwellings',\n",
       " 'Stadiums and arenas',\n",
       " 'Two-family dwellings',\n",
       " 'Two-family dwellingsmultiple family dwellings, such as apartment houses, boarding houses, condominiums and congregate residences',\n",
       " 'alcohol manufacturing',\n",
       " 'amusement centers (including bowling alleys, golf driving ranges miniature golf courses, ice rinks, pool and billiard halls, and similar recreational uses)',\n",
       " 'auto body shops',\n",
       " 'automotive motor fuel dispensing facilities',\n",
       " 'automotive sales',\n",
       " 'automotive self-service motor fuel dispensing facilities',\n",
       " 'boat storage yards',\n",
       " 'breweries',\n",
       " 'building material supply sales (wholesale and retail)',\n",
       " 'buildings accessory to the permitted used (including private garages and accessory living quarters)',\n",
       " 'business services',\n",
       " 'carpet manufacturing',\n",
       " 'commercial bakeries',\n",
       " 'commercial printing and publishing',\n",
       " 'community centers (including wholesale and retail sales)',\n",
       " 'convenience and neighborhood commercial centers (excluding wholesale sales)',\n",
       " 'cotton gins',\n",
       " 'cultural institutions (such as museums and art galleries)',\n",
       " 'dry cleaning plants',\n",
       " 'family and group day care facilities',\n",
       " 'financial services',\n",
       " 'furniture assembly',\n",
       " 'group care facilities',\n",
       " 'health and medical institutions (such as hospitals)',\n",
       " 'hotels and motels (excluding other residential occupancies)',\n",
       " 'indoor swap meets',\n",
       " 'indoor theaters',\n",
       " 'libraries',\n",
       " 'light commercial (excluding wholesale sales)',\n",
       " 'liquid fertilizer manufacturing',\n",
       " 'machine shops',\n",
       " 'major automotive repair',\n",
       " 'manufacture and finishing',\n",
       " 'monument works',\n",
       " 'mortuary and funeral homes',\n",
       " 'paper manufacturing',\n",
       " 'petroleum refining',\n",
       " 'physical fitness centers',\n",
       " 'places of religious worship',\n",
       " 'plastic product design, molding and assembly',\n",
       " 'police and fire department stations',\n",
       " 'private garages',\n",
       " 'product distribution centers',\n",
       " 'public and governmental services',\n",
       " 'public libraries',\n",
       " 'public parking lots',\n",
       " 'public utility stations',\n",
       " 'publicly owned and operated parks',\n",
       " 'quarries',\n",
       " 'recreation centers',\n",
       " 'regional commercial centers (including wholesale and retail sales)',\n",
       " 'regional recycling center',\n",
       " 'rehabilitation centers',\n",
       " 'religious, cultural and fraternal activities',\n",
       " 'research or testing laboratories',\n",
       " 'restaurants',\n",
       " 'salt works',\n",
       " 'school and colleges operated for profit (including commercial, vocational and trade schools)',\n",
       " 'schools and colleges (excluding colleges or trade schools operated for profit)',\n",
       " 'small metal products design, casting, fabricating, and processing',\n",
       " 'storage yards',\n",
       " 'swimming pools and playgrounds',\n",
       " 'taverns and cocktail lounges',\n",
       " 'temporary buildings',\n",
       " 'warehouses',\n",
       " 'wood products manufacturing and finishing',\n",
       " 'woodworking shops'}"
      ]
     },
     "execution_count": 26,
     "metadata": {},
     "output_type": "execute_result"
    }
   ],
   "source": []
  },
  {
   "cell_type": "code",
   "execution_count": null,
   "metadata": {},
   "outputs": [],
   "source": []
  },
  {
   "cell_type": "code",
   "execution_count": 5,
   "metadata": {},
   "outputs": [
    {
     "data": {
      "text/plain": [
       "['__bool__',\n",
       " '__class__',\n",
       " '__delattr__',\n",
       " '__dict__',\n",
       " '__dir__',\n",
       " '__doc__',\n",
       " '__eq__',\n",
       " '__format__',\n",
       " '__ge__',\n",
       " '__getattr__',\n",
       " '__getattribute__',\n",
       " '__gt__',\n",
       " '__hash__',\n",
       " '__init__',\n",
       " '__init_subclass__',\n",
       " '__iter__',\n",
       " '__le__',\n",
       " '__len__',\n",
       " '__lt__',\n",
       " '__module__',\n",
       " '__ne__',\n",
       " '__new__',\n",
       " '__reduce__',\n",
       " '__reduce_ex__',\n",
       " '__repr__',\n",
       " '__setattr__',\n",
       " '__sizeof__',\n",
       " '__str__',\n",
       " '__subclasshook__',\n",
       " '__weakref__',\n",
       " '_bindings',\n",
       " '_genbindings',\n",
       " '_get_bindings',\n",
       " '_set_bindings',\n",
       " 'askAnswer',\n",
       " 'bindings',\n",
       " 'graph',\n",
       " 'parse',\n",
       " 'serialize',\n",
       " 'type',\n",
       " 'vars']"
      ]
     },
     "execution_count": 5,
     "metadata": {},
     "output_type": "execute_result"
    }
   ],
   "source": [
    "results.type"
   ]
  },
  {
   "cell_type": "code",
   "execution_count": 6,
   "metadata": {},
   "outputs": [
    {
     "data": {
      "text/plain": [
       "'SELECT'"
      ]
     },
     "execution_count": 6,
     "metadata": {},
     "output_type": "execute_result"
    }
   ],
   "source": [
    "results.type"
   ]
  },
  {
   "cell_type": "code",
   "execution_count": 8,
   "metadata": {},
   "outputs": [
    {
     "data": {
      "text/plain": [
       "[rdflib.term.Variable('use')]"
      ]
     },
     "execution_count": 8,
     "metadata": {},
     "output_type": "execute_result"
    }
   ],
   "source": [
    "results.vars"
   ]
  },
  {
   "cell_type": "code",
   "execution_count": 9,
   "metadata": {},
   "outputs": [
    {
     "data": {
      "text/plain": [
       "<bound method Result.serialize of <rdflib.plugins.sparql.processor.SPARQLResult object at 0x7fb7a8637190>>"
      ]
     },
     "execution_count": 9,
     "metadata": {},
     "output_type": "execute_result"
    }
   ],
   "source": [
    "results.serialize"
   ]
  },
  {
   "cell_type": "code",
   "execution_count": 10,
   "metadata": {},
   "outputs": [
    {
     "data": {
      "text/plain": [
       "method"
      ]
     },
     "execution_count": 10,
     "metadata": {},
     "output_type": "execute_result"
    }
   ],
   "source": [
    "type(results.serialize)"
   ]
  },
  {
   "cell_type": "code",
   "execution_count": 12,
   "metadata": {
    "collapsed": true,
    "jupyter": {
     "outputs_hidden": true
    },
    "tags": []
   },
   "outputs": [
    {
     "data": {
      "text/plain": [
       "[{rdflib.term.Variable('use'): rdflib.term.Literal('Single-family dwellings')},\n",
       " {rdflib.term.Variable('use'): rdflib.term.Literal('Single-family dwellings')},\n",
       " {rdflib.term.Variable('use'): rdflib.term.Literal('Single-family dwellings')},\n",
       " {rdflib.term.Variable('use'): rdflib.term.Literal('publicly owned and operated parks')},\n",
       " {rdflib.term.Variable('use'): rdflib.term.Literal('publicly owned and operated parks')},\n",
       " {rdflib.term.Variable('use'): rdflib.term.Literal('publicly owned and operated parks')},\n",
       " {rdflib.term.Variable('use'): rdflib.term.Literal('recreation centers')},\n",
       " {rdflib.term.Variable('use'): rdflib.term.Literal('recreation centers')},\n",
       " {rdflib.term.Variable('use'): rdflib.term.Literal('recreation centers')},\n",
       " {rdflib.term.Variable('use'): rdflib.term.Literal('swimming pools and playgrounds')},\n",
       " {rdflib.term.Variable('use'): rdflib.term.Literal('swimming pools and playgrounds')},\n",
       " {rdflib.term.Variable('use'): rdflib.term.Literal('swimming pools and playgrounds')},\n",
       " {rdflib.term.Variable('use'): rdflib.term.Literal('police and fire department stations')},\n",
       " {rdflib.term.Variable('use'): rdflib.term.Literal('police and fire department stations')},\n",
       " {rdflib.term.Variable('use'): rdflib.term.Literal('police and fire department stations')},\n",
       " {rdflib.term.Variable('use'): rdflib.term.Literal('police and fire department stations')},\n",
       " {rdflib.term.Variable('use'): rdflib.term.Literal('police and fire department stations')},\n",
       " {rdflib.term.Variable('use'): rdflib.term.Literal('police and fire department stations')},\n",
       " {rdflib.term.Variable('use'): rdflib.term.Literal('police and fire department stations')},\n",
       " {rdflib.term.Variable('use'): rdflib.term.Literal('public and governmental services')},\n",
       " {rdflib.term.Variable('use'): rdflib.term.Literal('public and governmental services')},\n",
       " {rdflib.term.Variable('use'): rdflib.term.Literal('public and governmental services')},\n",
       " {rdflib.term.Variable('use'): rdflib.term.Literal('public and governmental services')},\n",
       " {rdflib.term.Variable('use'): rdflib.term.Literal('public and governmental services')},\n",
       " {rdflib.term.Variable('use'): rdflib.term.Literal('public and governmental services')},\n",
       " {rdflib.term.Variable('use'): rdflib.term.Literal('public and governmental services')},\n",
       " {rdflib.term.Variable('use'): rdflib.term.Literal('public and governmental services')},\n",
       " {rdflib.term.Variable('use'): rdflib.term.Literal('public and governmental services')},\n",
       " {rdflib.term.Variable('use'): rdflib.term.Literal('public and governmental services')},\n",
       " {rdflib.term.Variable('use'): rdflib.term.Literal('public libraries')},\n",
       " {rdflib.term.Variable('use'): rdflib.term.Literal('public libraries')},\n",
       " {rdflib.term.Variable('use'): rdflib.term.Literal('public libraries')},\n",
       " {rdflib.term.Variable('use'): rdflib.term.Literal('schools and colleges (excluding colleges or trade schools operated for profit)')},\n",
       " {rdflib.term.Variable('use'): rdflib.term.Literal('schools and colleges (excluding colleges or trade schools operated for profit)')},\n",
       " {rdflib.term.Variable('use'): rdflib.term.Literal('schools and colleges (excluding colleges or trade schools operated for profit)')},\n",
       " {rdflib.term.Variable('use'): rdflib.term.Literal('public parking lots')},\n",
       " {rdflib.term.Variable('use'): rdflib.term.Literal('public parking lots')},\n",
       " {rdflib.term.Variable('use'): rdflib.term.Literal('public parking lots')},\n",
       " {rdflib.term.Variable('use'): rdflib.term.Literal('private garages')},\n",
       " {rdflib.term.Variable('use'): rdflib.term.Literal('private garages')},\n",
       " {rdflib.term.Variable('use'): rdflib.term.Literal('private garages')},\n",
       " {rdflib.term.Variable('use'): rdflib.term.Literal('buildings accessory to the permitted used (including private garages and accessory living quarters)')},\n",
       " {rdflib.term.Variable('use'): rdflib.term.Literal('buildings accessory to the permitted used (including private garages and accessory living quarters)')},\n",
       " {rdflib.term.Variable('use'): rdflib.term.Literal('buildings accessory to the permitted used (including private garages and accessory living quarters)')},\n",
       " {rdflib.term.Variable('use'): rdflib.term.Literal('temporary buildings')},\n",
       " {rdflib.term.Variable('use'): rdflib.term.Literal('temporary buildings')},\n",
       " {rdflib.term.Variable('use'): rdflib.term.Literal('temporary buildings')},\n",
       " {rdflib.term.Variable('use'): rdflib.term.Literal('Two-family dwellings')},\n",
       " {rdflib.term.Variable('use'): rdflib.term.Literal('Two-family dwellings')},\n",
       " {rdflib.term.Variable('use'): rdflib.term.Literal('Two-family dwellingsmultiple family dwellings, such as apartment houses, boarding houses, condominiums and congregate residences')},\n",
       " {rdflib.term.Variable('use'): rdflib.term.Literal('Open space')},\n",
       " {rdflib.term.Variable('use'): rdflib.term.Literal('Agricultural Use')},\n",
       " {rdflib.term.Variable('use'): rdflib.term.Literal('Dwellings')},\n",
       " {rdflib.term.Variable('use'): rdflib.term.Literal('Maintenance/storage buildings')},\n",
       " {rdflib.term.Variable('use'): rdflib.term.Literal('Minor automotive repair')},\n",
       " {rdflib.term.Variable('use'): rdflib.term.Literal('Minor automotive repair')},\n",
       " {rdflib.term.Variable('use'): rdflib.term.Literal('Minor automotive repair')},\n",
       " {rdflib.term.Variable('use'): rdflib.term.Literal('Minor automotive repair')},\n",
       " {rdflib.term.Variable('use'): rdflib.term.Literal('automotive motor fuel dispensing facilities')},\n",
       " {rdflib.term.Variable('use'): rdflib.term.Literal('automotive motor fuel dispensing facilities')},\n",
       " {rdflib.term.Variable('use'): rdflib.term.Literal('automotive motor fuel dispensing facilities')},\n",
       " {rdflib.term.Variable('use'): rdflib.term.Literal('automotive motor fuel dispensing facilities')},\n",
       " {rdflib.term.Variable('use'): rdflib.term.Literal('automotive self-service motor fuel dispensing facilities')},\n",
       " {rdflib.term.Variable('use'): rdflib.term.Literal('automotive self-service motor fuel dispensing facilities')},\n",
       " {rdflib.term.Variable('use'): rdflib.term.Literal('automotive self-service motor fuel dispensing facilities')},\n",
       " {rdflib.term.Variable('use'): rdflib.term.Literal('automotive self-service motor fuel dispensing facilities')},\n",
       " {rdflib.term.Variable('use'): rdflib.term.Literal('business services')},\n",
       " {rdflib.term.Variable('use'): rdflib.term.Literal('business services')},\n",
       " {rdflib.term.Variable('use'): rdflib.term.Literal('business services')},\n",
       " {rdflib.term.Variable('use'): rdflib.term.Literal('business services')},\n",
       " {rdflib.term.Variable('use'): rdflib.term.Literal('financial services')},\n",
       " {rdflib.term.Variable('use'): rdflib.term.Literal('financial services')},\n",
       " {rdflib.term.Variable('use'): rdflib.term.Literal('financial services')},\n",
       " {rdflib.term.Variable('use'): rdflib.term.Literal('financial services')},\n",
       " {rdflib.term.Variable('use'): rdflib.term.Literal('convenience and neighborhood commercial centers (excluding wholesale sales)')},\n",
       " {rdflib.term.Variable('use'): rdflib.term.Literal('convenience and neighborhood commercial centers (excluding wholesale sales)')},\n",
       " {rdflib.term.Variable('use'): rdflib.term.Literal('convenience and neighborhood commercial centers (excluding wholesale sales)')},\n",
       " {rdflib.term.Variable('use'): rdflib.term.Literal('convenience and neighborhood commercial centers (excluding wholesale sales)')},\n",
       " {rdflib.term.Variable('use'): rdflib.term.Literal('family and group day care facilities')},\n",
       " {rdflib.term.Variable('use'): rdflib.term.Literal('family and group day care facilities')},\n",
       " {rdflib.term.Variable('use'): rdflib.term.Literal('family and group day care facilities')},\n",
       " {rdflib.term.Variable('use'): rdflib.term.Literal('family and group day care facilities')},\n",
       " {rdflib.term.Variable('use'): rdflib.term.Literal('libraries')},\n",
       " {rdflib.term.Variable('use'): rdflib.term.Literal('libraries')},\n",
       " {rdflib.term.Variable('use'): rdflib.term.Literal('libraries')},\n",
       " {rdflib.term.Variable('use'): rdflib.term.Literal('libraries')},\n",
       " {rdflib.term.Variable('use'): rdflib.term.Literal('mortuary and funeral homes')},\n",
       " {rdflib.term.Variable('use'): rdflib.term.Literal('mortuary and funeral homes')},\n",
       " {rdflib.term.Variable('use'): rdflib.term.Literal('mortuary and funeral homes')},\n",
       " {rdflib.term.Variable('use'): rdflib.term.Literal('mortuary and funeral homes')},\n",
       " {rdflib.term.Variable('use'): rdflib.term.Literal('places of religious worship')},\n",
       " {rdflib.term.Variable('use'): rdflib.term.Literal('places of religious worship')},\n",
       " {rdflib.term.Variable('use'): rdflib.term.Literal('places of religious worship')},\n",
       " {rdflib.term.Variable('use'): rdflib.term.Literal('places of religious worship')},\n",
       " {rdflib.term.Variable('use'): rdflib.term.Literal('places of religious worship')},\n",
       " {rdflib.term.Variable('use'): rdflib.term.Literal('places of religious worship')},\n",
       " {rdflib.term.Variable('use'): rdflib.term.Literal('places of religious worship')},\n",
       " {rdflib.term.Variable('use'): rdflib.term.Literal('public utility stations')},\n",
       " {rdflib.term.Variable('use'): rdflib.term.Literal('public utility stations')},\n",
       " {rdflib.term.Variable('use'): rdflib.term.Literal('public utility stations')},\n",
       " {rdflib.term.Variable('use'): rdflib.term.Literal('public utility stations')},\n",
       " {rdflib.term.Variable('use'): rdflib.term.Literal('restaurants')},\n",
       " {rdflib.term.Variable('use'): rdflib.term.Literal('restaurants')},\n",
       " {rdflib.term.Variable('use'): rdflib.term.Literal('restaurants')},\n",
       " {rdflib.term.Variable('use'): rdflib.term.Literal('restaurants')},\n",
       " {rdflib.term.Variable('use'): rdflib.term.Literal('light commercial (excluding wholesale sales)')},\n",
       " {rdflib.term.Variable('use'): rdflib.term.Literal('light commercial (excluding wholesale sales)')},\n",
       " {rdflib.term.Variable('use'): rdflib.term.Literal('light commercial (excluding wholesale sales)')},\n",
       " {rdflib.term.Variable('use'): rdflib.term.Literal('group care facilities')},\n",
       " {rdflib.term.Variable('use'): rdflib.term.Literal('group care facilities')},\n",
       " {rdflib.term.Variable('use'): rdflib.term.Literal('group care facilities')},\n",
       " {rdflib.term.Variable('use'): rdflib.term.Literal('physical fitness centers')},\n",
       " {rdflib.term.Variable('use'): rdflib.term.Literal('physical fitness centers')},\n",
       " {rdflib.term.Variable('use'): rdflib.term.Literal('physical fitness centers')},\n",
       " {rdflib.term.Variable('use'): rdflib.term.Literal('religious, cultural and fraternal activities')},\n",
       " {rdflib.term.Variable('use'): rdflib.term.Literal('religious, cultural and fraternal activities')},\n",
       " {rdflib.term.Variable('use'): rdflib.term.Literal('religious, cultural and fraternal activities')},\n",
       " {rdflib.term.Variable('use'): rdflib.term.Literal('rehabilitation centers')},\n",
       " {rdflib.term.Variable('use'): rdflib.term.Literal('rehabilitation centers')},\n",
       " {rdflib.term.Variable('use'): rdflib.term.Literal('rehabilitation centers')},\n",
       " {rdflib.term.Variable('use'): rdflib.term.Literal('school and colleges operated for profit (including commercial, vocational and trade schools)')},\n",
       " {rdflib.term.Variable('use'): rdflib.term.Literal('school and colleges operated for profit (including commercial, vocational and trade schools)')},\n",
       " {rdflib.term.Variable('use'): rdflib.term.Literal('school and colleges operated for profit (including commercial, vocational and trade schools)')},\n",
       " {rdflib.term.Variable('use'): rdflib.term.Literal('amusement centers (including bowling alleys, golf driving ranges miniature golf courses, ice rinks, pool and billiard halls, and similar recreational uses)')},\n",
       " {rdflib.term.Variable('use'): rdflib.term.Literal('amusement centers (including bowling alleys, golf driving ranges miniature golf courses, ice rinks, pool and billiard halls, and similar recreational uses)')},\n",
       " {rdflib.term.Variable('use'): rdflib.term.Literal('automotive sales')},\n",
       " {rdflib.term.Variable('use'): rdflib.term.Literal('automotive sales')},\n",
       " {rdflib.term.Variable('use'): rdflib.term.Literal('building material supply sales (wholesale and retail)')},\n",
       " {rdflib.term.Variable('use'): rdflib.term.Literal('building material supply sales (wholesale and retail)')},\n",
       " {rdflib.term.Variable('use'): rdflib.term.Literal('cultural institutions (such as museums and art galleries)')},\n",
       " {rdflib.term.Variable('use'): rdflib.term.Literal('cultural institutions (such as museums and art galleries)')},\n",
       " {rdflib.term.Variable('use'): rdflib.term.Literal('community centers (including wholesale and retail sales)')},\n",
       " {rdflib.term.Variable('use'): rdflib.term.Literal('community centers (including wholesale and retail sales)')},\n",
       " {rdflib.term.Variable('use'): rdflib.term.Literal('health and medical institutions (such as hospitals)')},\n",
       " {rdflib.term.Variable('use'): rdflib.term.Literal('health and medical institutions (such as hospitals)')},\n",
       " {rdflib.term.Variable('use'): rdflib.term.Literal('hotels and motels (excluding other residential occupancies)')},\n",
       " {rdflib.term.Variable('use'): rdflib.term.Literal('hotels and motels (excluding other residential occupancies)')},\n",
       " {rdflib.term.Variable('use'): rdflib.term.Literal('commercial printing and publishing')},\n",
       " {rdflib.term.Variable('use'): rdflib.term.Literal('commercial printing and publishing')},\n",
       " {rdflib.term.Variable('use'): rdflib.term.Literal('taverns and cocktail lounges')},\n",
       " {rdflib.term.Variable('use'): rdflib.term.Literal('taverns and cocktail lounges')},\n",
       " {rdflib.term.Variable('use'): rdflib.term.Literal('indoor theaters')},\n",
       " {rdflib.term.Variable('use'): rdflib.term.Literal('indoor theaters')},\n",
       " {rdflib.term.Variable('use'): rdflib.term.Literal('Self-storage warehouses')},\n",
       " {rdflib.term.Variable('use'): rdflib.term.Literal('Self-storage warehouses')},\n",
       " {rdflib.term.Variable('use'): rdflib.term.Literal('major automotive repair')},\n",
       " {rdflib.term.Variable('use'): rdflib.term.Literal('commercial bakeries')},\n",
       " {rdflib.term.Variable('use'): rdflib.term.Literal('regional commercial centers (including wholesale and retail sales)')},\n",
       " {rdflib.term.Variable('use'): rdflib.term.Literal('plastic product design, molding and assembly')},\n",
       " {rdflib.term.Variable('use'): rdflib.term.Literal('small metal products design, casting, fabricating, and processing')},\n",
       " {rdflib.term.Variable('use'): rdflib.term.Literal('manufacture and finishing')},\n",
       " {rdflib.term.Variable('use'): rdflib.term.Literal('storage yards')},\n",
       " {rdflib.term.Variable('use'): rdflib.term.Literal('wood products manufacturing and finishing')},\n",
       " {rdflib.term.Variable('use'): rdflib.term.Literal('warehouses')},\n",
       " {rdflib.term.Variable('use'): rdflib.term.Literal('warehouses')},\n",
       " {rdflib.term.Variable('use'): rdflib.term.Literal('warehouses')},\n",
       " {rdflib.term.Variable('use'): rdflib.term.Literal('research or testing laboratories')},\n",
       " {rdflib.term.Variable('use'): rdflib.term.Literal('research or testing laboratories')},\n",
       " {rdflib.term.Variable('use'): rdflib.term.Literal('research or testing laboratories')},\n",
       " {rdflib.term.Variable('use'): rdflib.term.Literal('product distribution centers')},\n",
       " {rdflib.term.Variable('use'): rdflib.term.Literal('product distribution centers')},\n",
       " {rdflib.term.Variable('use'): rdflib.term.Literal('product distribution centers')},\n",
       " {rdflib.term.Variable('use'): rdflib.term.Literal('woodworking shops')},\n",
       " {rdflib.term.Variable('use'): rdflib.term.Literal('woodworking shops')},\n",
       " {rdflib.term.Variable('use'): rdflib.term.Literal('woodworking shops')},\n",
       " {rdflib.term.Variable('use'): rdflib.term.Literal('auto body shops')},\n",
       " {rdflib.term.Variable('use'): rdflib.term.Literal('auto body shops')},\n",
       " {rdflib.term.Variable('use'): rdflib.term.Literal('auto body shops')},\n",
       " {rdflib.term.Variable('use'): rdflib.term.Literal('furniture assembly')},\n",
       " {rdflib.term.Variable('use'): rdflib.term.Literal('furniture assembly')},\n",
       " {rdflib.term.Variable('use'): rdflib.term.Literal('furniture assembly')},\n",
       " {rdflib.term.Variable('use'): rdflib.term.Literal('dry cleaning plants')},\n",
       " {rdflib.term.Variable('use'): rdflib.term.Literal('dry cleaning plants')},\n",
       " {rdflib.term.Variable('use'): rdflib.term.Literal('dry cleaning plants')},\n",
       " {rdflib.term.Variable('use'): rdflib.term.Literal('machine shops')},\n",
       " {rdflib.term.Variable('use'): rdflib.term.Literal('machine shops')},\n",
       " {rdflib.term.Variable('use'): rdflib.term.Literal('machine shops')},\n",
       " {rdflib.term.Variable('use'): rdflib.term.Literal('boat storage yards')},\n",
       " {rdflib.term.Variable('use'): rdflib.term.Literal('boat storage yards')},\n",
       " {rdflib.term.Variable('use'): rdflib.term.Literal('boat storage yards')},\n",
       " {rdflib.term.Variable('use'): rdflib.term.Literal('Stadiums and arenas')},\n",
       " {rdflib.term.Variable('use'): rdflib.term.Literal('Stadiums and arenas')},\n",
       " {rdflib.term.Variable('use'): rdflib.term.Literal('indoor swap meets')},\n",
       " {rdflib.term.Variable('use'): rdflib.term.Literal('indoor swap meets')},\n",
       " {rdflib.term.Variable('use'): rdflib.term.Literal('breweries')},\n",
       " {rdflib.term.Variable('use'): rdflib.term.Literal('breweries')},\n",
       " {rdflib.term.Variable('use'): rdflib.term.Literal('liquid fertilizer manufacturing')},\n",
       " {rdflib.term.Variable('use'): rdflib.term.Literal('liquid fertilizer manufacturing')},\n",
       " {rdflib.term.Variable('use'): rdflib.term.Literal('carpet manufacturing')},\n",
       " {rdflib.term.Variable('use'): rdflib.term.Literal('carpet manufacturing')},\n",
       " {rdflib.term.Variable('use'): rdflib.term.Literal('monument works')},\n",
       " {rdflib.term.Variable('use'): rdflib.term.Literal('monument works')},\n",
       " {rdflib.term.Variable('use'): rdflib.term.Literal('regional recycling center')},\n",
       " {rdflib.term.Variable('use'): rdflib.term.Literal('regional recycling center')},\n",
       " {rdflib.term.Variable('use'): rdflib.term.Literal('Auto-dismantling yards')},\n",
       " {rdflib.term.Variable('use'): rdflib.term.Literal('alcohol manufacturing')},\n",
       " {rdflib.term.Variable('use'): rdflib.term.Literal('cotton gins')},\n",
       " {rdflib.term.Variable('use'): rdflib.term.Literal('paper manufacturing')},\n",
       " {rdflib.term.Variable('use'): rdflib.term.Literal('quarries')},\n",
       " {rdflib.term.Variable('use'): rdflib.term.Literal('salt works')},\n",
       " {rdflib.term.Variable('use'): rdflib.term.Literal('petroleum refining')}]"
      ]
     },
     "execution_count": 12,
     "metadata": {},
     "output_type": "execute_result"
    }
   ],
   "source": [
    "# results.serialize()\n",
    "results.bindings"
   ]
  },
  {
   "cell_type": "code",
   "execution_count": null,
   "metadata": {},
   "outputs": [],
   "source": []
  },
  {
   "cell_type": "code",
   "execution_count": 23,
   "metadata": {},
   "outputs": [
    {
     "data": {
      "text/plain": [
       "KeysView({rdflib.term.Variable('use'): rdflib.term.Literal('Single-family dwellings')})"
      ]
     },
     "execution_count": 23,
     "metadata": {},
     "output_type": "execute_result"
    }
   ],
   "source": [
    "results.bindings[2].keys()"
   ]
  },
  {
   "cell_type": "code",
   "execution_count": null,
   "metadata": {},
   "outputs": [],
   "source": []
  }
 ],
 "metadata": {
  "kernelspec": {
   "display_name": "Python 3",
   "language": "python",
   "name": "python3"
  },
  "language_info": {
   "codemirror_mode": {
    "name": "ipython",
    "version": 3
   },
   "file_extension": ".py",
   "mimetype": "text/x-python",
   "name": "python",
   "nbconvert_exporter": "python",
   "pygments_lexer": "ipython3",
   "version": "3.8.10"
  }
 },
 "nbformat": 4,
 "nbformat_minor": 4
}
