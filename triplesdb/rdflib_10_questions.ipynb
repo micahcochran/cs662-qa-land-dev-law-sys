{
 "cells": [
  {
   "cell_type": "markdown",
   "metadata": {},
   "source": [
    "This is an example using [rdflib](https://rdflib.readthedocs.io/), which is a Python Library that implements reading and writing RDF and SPARQL queries."
   ]
  },
  {
   "cell_type": "markdown",
   "metadata": {},
   "source": [
    "# Permitted Uses"
   ]
  },
  {
   "cell_type": "code",
   "execution_count": 1,
   "metadata": {},
   "outputs": [
    {
     "data": {
      "text/plain": [
       "<Graph identifier=N6f2f0c1e242d48e3aa9b2ce7d7eba4df (<class 'rdflib.graph.Graph'>)>"
      ]
     },
     "execution_count": 1,
     "metadata": {},
     "output_type": "execute_result"
    }
   ],
   "source": [
    "import rdflib\n",
    "g_uses = rdflib.Graph()\n",
    "# load the graph related to the permitted uses\n",
    "g_uses.parse(\"permits_use2.ttl\")"
   ]
  },
  {
   "cell_type": "code",
   "execution_count": 2,
   "metadata": {},
   "outputs": [
    {
     "data": {
      "text/plain": [
       "228"
      ]
     },
     "execution_count": 2,
     "metadata": {},
     "output_type": "execute_result"
    }
   ],
   "source": [
    "# number of triples in the graph?\n",
    "len(g_uses)"
   ]
  },
  {
   "cell_type": "markdown",
   "metadata": {},
   "source": [
    "### 1. Query for \"Which zoning districts allow a recreation center?\""
   ]
  },
  {
   "cell_type": "code",
   "execution_count": 3,
   "metadata": {},
   "outputs": [
    {
     "name": "stdout",
     "output_type": "stream",
     "text": [
      "Zoning District (Label): R1\n",
      "Zoning District (Label): R2\n",
      "Zoning District (Label): R3\n"
     ]
    }
   ],
   "source": [
    "\n",
    "sparql_query = \"\"\"\n",
    "PREFIX rdfs: <http://www.w3.org/2000/01/rdf-schema#>\n",
    "PREFIX : <http://www.example.org/ns/lu/zoning#>\n",
    "\n",
    "SELECT ?zoning_label\n",
    "# ?zoning -- this could also be exposed, if needed\n",
    "\n",
    "WHERE {\n",
    "\t\t?zoning :permitsUse \"recreation centers\" .\n",
    "        ?zoning rdfs:label ?zoning_label .\n",
    "}\n",
    "\"\"\"\n",
    "\n",
    "results = g_uses.query(sparql_query)\n",
    "\n",
    "for row in results:\n",
    "    print(f'Zoning District (Label): {row.zoning_label}')"
   ]
  },
  {
   "cell_type": "markdown",
   "metadata": {},
   "source": [
    "### 2. Query for \"Which zoning districts permit duplexes?\"\n",
    "These are listed as \"Two-family dwellings\""
   ]
  },
  {
   "cell_type": "code",
   "execution_count": 4,
   "metadata": {},
   "outputs": [
    {
     "name": "stdout",
     "output_type": "stream",
     "text": [
      "Zoning District (Label): R2\n",
      "Zoning District (Label): R3\n"
     ]
    }
   ],
   "source": [
    "sparql_query = \"\"\"\n",
    "PREFIX rdfs: <http://www.w3.org/2000/01/rdf-schema#>\n",
    "PREFIX : <http://www.example.org/ns/lu/zoning#>\n",
    "\n",
    "SELECT ?zoning_label\n",
    "# ?zoning -- this could also be exposed, if needed\n",
    "\n",
    "WHERE {\n",
    "\t\t?zoning :permitsUse \"Two-family dwellings\" .\n",
    "        ?zoning rdfs:label ?zoning_label .\n",
    "}\n",
    "\"\"\"\n",
    "\n",
    "results = g_uses.query(sparql_query)\n",
    "\n",
    "for row in results:\n",
    "    print(f'Zoning District (Label): {row.zoning_label}')"
   ]
  },
  {
   "cell_type": "markdown",
   "metadata": {},
   "source": [
    "### 3. Which zoning district allows restaurants?"
   ]
  },
  {
   "cell_type": "code",
   "execution_count": 5,
   "metadata": {},
   "outputs": [
    {
     "name": "stdout",
     "output_type": "stream",
     "text": [
      "Zoning District (Label): C1\n",
      "Zoning District (Label): C2\n",
      "Zoning District (Label): C3\n",
      "Zoning District (Label): C4\n"
     ]
    }
   ],
   "source": [
    "sparql_query = \"\"\"\n",
    "PREFIX rdfs: <http://www.w3.org/2000/01/rdf-schema#>\n",
    "PREFIX : <http://www.example.org/ns/lu/zoning#>\n",
    "\n",
    "SELECT ?zoning_label\n",
    "# ?zoning -- this could also be exposed, if needed\n",
    "\n",
    "WHERE {\n",
    "\t\t?zoning :permitsUse \"restaurants\" .\n",
    "        ?zoning rdfs:label ?zoning_label .\n",
    "}\n",
    "\"\"\"\n",
    "\n",
    "results = g_uses.query(sparql_query)\n",
    "\n",
    "for row in results:\n",
    "    print(f'Zoning District (Label): {row.zoning_label}')"
   ]
  },
  {
   "cell_type": "markdown",
   "metadata": {},
   "source": [
    "### 4. Are automotive sales allowed in a C-3 zoning district?"
   ]
  },
  {
   "cell_type": "code",
   "execution_count": 42,
   "metadata": {},
   "outputs": [
    {
     "data": {
      "text/plain": [
       "True"
      ]
     },
     "execution_count": 42,
     "metadata": {},
     "output_type": "execute_result"
    }
   ],
   "source": [
    "# This is more litterly ASKing if there is a triple (or set of triples existing in the dataset)\n",
    "# matching atleast once.\n",
    "\n",
    "sparql_query_auto_sales_ask1 = \"\"\"\n",
    "PREFIX rdfs: <http://www.w3.org/2000/01/rdf-schema#>\n",
    "PREFIX : <http://www.example.org/ns/lu/zoning#>\n",
    "\n",
    "ASK {\n",
    "\t\t:c3 :permitsUse \"automotive sales\" .\n",
    "}\n",
    "\"\"\"\n",
    "\n",
    "results = g_uses.query(sparql_query_auto_sales_ask1)\n",
    "\n",
    "results.askAnswer\n"
   ]
  },
  {
   "cell_type": "code",
   "execution_count": 43,
   "metadata": {},
   "outputs": [
    {
     "data": {
      "text/plain": [
       "True"
      ]
     },
     "execution_count": 43,
     "metadata": {},
     "output_type": "execute_result"
    }
   ],
   "source": [
    "sparql_query_auto_sales_ask2 = \"\"\"\n",
    "PREFIX rdfs: <http://www.w3.org/2000/01/rdf-schema#>\n",
    "PREFIX : <http://www.example.org/ns/lu/zoning#>\n",
    "\n",
    "ASK {\n",
    "\t\t?zoning :permitsUse \"automotive sales\" ;\n",
    "                rdfs:label \"C3\" .\n",
    "}\n",
    "\"\"\"\n",
    "\n",
    "results = g_uses.query(sparql_query_auto_sales_ask2)\n",
    "\n",
    "results.askAnswer"
   ]
  },
  {
   "cell_type": "markdown",
   "metadata": {},
   "source": [
    "# 5. I would like to build an indoor theater.  Which zoning districts permit that? "
   ]
  },
  {
   "cell_type": "code",
   "execution_count": 35,
   "metadata": {},
   "outputs": [
    {
     "name": "stdout",
     "output_type": "stream",
     "text": [
      "Zoning District (Label): C3\n",
      "Zoning District (Label): C4\n"
     ]
    }
   ],
   "source": [
    "sparql_query_theater = \"\"\"\n",
    "PREFIX rdfs: <http://www.w3.org/2000/01/rdf-schema#>\n",
    "PREFIX : <http://www.example.org/ns/lu/zoning#>\n",
    "\n",
    "SELECT ?zoning_label\n",
    "# ?zoning -- this could also be exposed, if needed\n",
    "\n",
    "WHERE {\n",
    "\t\t?zoning :permitsUse \"indoor theaters\" .\n",
    "        ?zoning rdfs:label ?zoning_label .\n",
    "}\n",
    "\"\"\"\n",
    "\n",
    "results = g_uses.query(sparql_query_theater)\n",
    "\n",
    "for row in results:\n",
    "    print(f'Zoning District (Label): {row.zoning_label}')"
   ]
  },
  {
   "cell_type": "markdown",
   "metadata": {},
   "source": [
    "# \"Bulk\" Dimensional Requirements"
   ]
  },
  {
   "cell_type": "code",
   "execution_count": 16,
   "metadata": {},
   "outputs": [
    {
     "data": {
      "text/plain": [
       "<Graph identifier=N2a4981fe16c340a2b2c55d1e4c126574 (<class 'rdflib.graph.Graph'>)>"
      ]
     },
     "execution_count": 16,
     "metadata": {},
     "output_type": "execute_result"
    }
   ],
   "source": [
    "import rdflib\n",
    "g_bulk = rdflib.Graph()\n",
    "# load the graph related to the permitted uses\n",
    "g_bulk.parse(\"bulk.ttl\")\n",
    "\n",
    "# this is the version with units\n",
    "g_bulk_units = rdflib.Graph()\n",
    "# load the graph related to the permitted uses\n",
    "g_bulk_units.parse(\"bulk2.ttl\")"
   ]
  },
  {
   "cell_type": "code",
   "execution_count": 8,
   "metadata": {},
   "outputs": [
    {
     "data": {
      "text/plain": [
       "133"
      ]
     },
     "execution_count": 8,
     "metadata": {},
     "output_type": "execute_result"
    }
   ],
   "source": [
    "# number of triples in the graph?\n",
    "len(g_bulk)"
   ]
  },
  {
   "cell_type": "markdown",
   "metadata": {},
   "source": [
    "### 6. What is the minimum lot size in the R1a zoning district?"
   ]
  },
  {
   "cell_type": "code",
   "execution_count": 8,
   "metadata": {},
   "outputs": [
    {
     "name": "stdout",
     "output_type": "stream",
     "text": [
      "35000\n"
     ]
    }
   ],
   "source": [
    "# This isn't how you would want to interact with this.\n",
    "sparql_query_min_lot_terse = \"\"\"\n",
    "PREFIX : <http://www.example.org/ns/lu/zoning#>\n",
    "\n",
    "SELECT ?min_lot_size\n",
    "\n",
    "WHERE {\n",
    "\t\t:r1a :minLotSize ?min_lot_size .\n",
    "}\n",
    "\"\"\"\n",
    "results_min_lot1 = g_bulk.query(sparql_query_min_lot_terse)\n",
    "\n",
    "for row in results_min_lot1:\n",
    "    print(row.min_lot_size)"
   ]
  },
  {
   "cell_type": "code",
   "execution_count": 10,
   "metadata": {},
   "outputs": [
    {
     "name": "stdout",
     "output_type": "stream",
     "text": [
      "35000\n"
     ]
    }
   ],
   "source": [
    "sparql_query_min_lot = \"\"\"\n",
    "PREFIX rdfs: <http://www.w3.org/2000/01/rdf-schema#>\n",
    "PREFIX : <http://www.example.org/ns/lu/zoning#>\n",
    "\n",
    "SELECT ?min_lot_size\n",
    "# ?zoning -- this could also be exposed, if needed\n",
    "\n",
    "WHERE {\n",
    "\t\t?zoning :minLotSize ?min_lot_size ;\n",
    "                rdfs:label \"R1a\" .\n",
    "}\n",
    "\"\"\"\n",
    "\n",
    "results = g_bulk.query(sparql_query_min_lot)\n",
    "\n",
    "for row in results:\n",
    "    print(row.min_lot_size)\n",
    "    # print(f'Zoning District (Label): {row.zoning_label}')"
   ]
  },
  {
   "cell_type": "code",
   "execution_count": 18,
   "metadata": {},
   "outputs": [
    {
     "name": "stdout",
     "output_type": "stream",
     "text": [
      "(rdflib.term.Literal('35000', datatype=rdflib.term.URIRef('http://www.w3.org/2001/XMLSchema#integer')),)\n"
     ]
    }
   ],
   "source": [
    "for row in results:\n",
    "    print(row)"
   ]
  },
  {
   "cell_type": "markdown",
   "metadata": {},
   "source": [
    "### 6b. Is the minimum lot size for property in the R1a zoning district 35,000 square feet?"
   ]
  },
  {
   "cell_type": "code",
   "execution_count": 38,
   "metadata": {},
   "outputs": [
    {
     "data": {
      "text/plain": [
       "True"
      ]
     },
     "execution_count": 38,
     "metadata": {},
     "output_type": "execute_result"
    }
   ],
   "source": [
    "sparql_query_min_lot_ask =\"\"\"\n",
    "PREFIX rdfs: <http://www.w3.org/2000/01/rdf-schema#>\n",
    "PREFIX : <http://www.example.org/ns/lu/zoning#>\n",
    "\n",
    "ASK {\n",
    "\t\t?zoning :minLotSize 35000 ;\n",
    "                rdfs:label \"R1a\" .\n",
    "}\n",
    "\"\"\"\n",
    "\n",
    "results = g_bulk.query(sparql_query_min_lot_ask)\n",
    "results.askAnswer"
   ]
  },
  {
   "cell_type": "markdown",
   "metadata": {},
   "source": [
    "### 7. What is the minimum lot width for the R1c Zoning District? "
   ]
  },
  {
   "cell_type": "code",
   "execution_count": 11,
   "metadata": {},
   "outputs": [
    {
     "name": "stdout",
     "output_type": "stream",
     "text": [
      "75\n"
     ]
    }
   ],
   "source": [
    "# terse query, not as useful\n",
    "query_min_lot_width_terse = \"\"\"\n",
    "PREFIX : <http://www.example.org/ns/lu/zoning#>\n",
    "\n",
    "SELECT ?lot_width\n",
    "\n",
    "WHERE {\n",
    "\t:r1c :minLotWidth ?lot_width .\n",
    "}\n",
    "\"\"\"\n",
    "\n",
    "results = g_bulk.query(query_min_lot_width_terse)\n",
    "\n",
    "for row in results:\n",
    "    print(row.lot_width)"
   ]
  },
  {
   "cell_type": "code",
   "execution_count": 13,
   "metadata": {},
   "outputs": [
    {
     "name": "stdout",
     "output_type": "stream",
     "text": [
      "75\n"
     ]
    }
   ],
   "source": [
    "# query based on zoning label \"R1c\"\n",
    "query_min_lot_width = \"\"\"\n",
    "PREFIX : <http://www.example.org/ns/lu/zoning#>\n",
    "\n",
    "SELECT ?lot_width\n",
    "\n",
    "WHERE {\n",
    "\t?zoning :minLotWidth ?lot_width ;\n",
    "            rdfs:label   \"R1c\" .\n",
    "}\n",
    "\"\"\"\n",
    "\n",
    "results = g_bulk.query(query_min_lot_width)\n",
    "\n",
    "for row in results:\n",
    "    print(row.lot_width)"
   ]
  },
  {
   "cell_type": "markdown",
   "metadata": {},
   "source": [
    "### 8. What is the maximum building height in the FI2 District?"
   ]
  },
  {
   "cell_type": "code",
   "execution_count": 15,
   "metadata": {},
   "outputs": [
    {
     "name": "stdout",
     "output_type": "stream",
     "text": [
      "80\n"
     ]
    }
   ],
   "source": [
    "# query based on zoning label \"FI2\"\n",
    "query_max_building_height = \"\"\"\n",
    "PREFIX : <http://www.example.org/ns/lu/zoning#>\n",
    "\n",
    "SELECT ?max_building_height\n",
    "\n",
    "WHERE {\n",
    "\t?zoning :maxBuildingHeight ?max_building_height ;\n",
    "            rdfs:label   \"FI2\" .\n",
    "}\n",
    "\"\"\"\n",
    "\n",
    "results = g_bulk.query(query_max_building_height)\n",
    "\n",
    "for row in results:\n",
    "    print(row.max_building_height)"
   ]
  },
  {
   "cell_type": "code",
   "execution_count": 18,
   "metadata": {},
   "outputs": [
    {
     "name": "stdout",
     "output_type": "stream",
     "text": [
      "80 [ft_i]\n"
     ]
    }
   ],
   "source": [
    "# same query as above querying the version with units\n",
    "results = g_bulk_units.query(query_max_building_height)\n",
    "\n",
    "for row in results:\n",
    "    print(row.max_building_height)"
   ]
  },
  {
   "cell_type": "markdown",
   "metadata": {},
   "source": [
    "### 9. What is the minimum front setback in the R3b zoning district? "
   ]
  },
  {
   "cell_type": "code",
   "execution_count": 28,
   "metadata": {},
   "outputs": [
    {
     "name": "stdout",
     "output_type": "stream",
     "text": [
      "15 [ft_i]\n"
     ]
    }
   ],
   "source": [
    "# query based on zoning label \"FI2\"\n",
    "query_min_front_setback = \"\"\"\n",
    "PREFIX : <http://www.example.org/ns/lu/zoning#>\n",
    "\n",
    "SELECT ?min_front_setback\n",
    "\n",
    "WHERE {\n",
    "\t?zoning :minFrontSetback ?min_front_setback ;\n",
    "            rdfs:label   \"R3b\" .\n",
    "}\n",
    "\"\"\"\n",
    "\n",
    "results = g_bulk_units.query(query_min_front_setback)\n",
    "\n",
    "for row in results:\n",
    "    print(row.min_front_setback)"
   ]
  },
  {
   "cell_type": "markdown",
   "metadata": {},
   "source": [
    "### 10. What is the minimum lot depth in an A1 zoning district?"
   ]
  },
  {
   "cell_type": "code",
   "execution_count": 29,
   "metadata": {},
   "outputs": [
    {
     "name": "stdout",
     "output_type": "stream",
     "text": [
      "600 [ft_i]\n"
     ]
    }
   ],
   "source": [
    "# query based on zoning label \"FI2\"\n",
    "query_min_lot_depth = \"\"\"\n",
    "PREFIX : <http://www.example.org/ns/lu/zoning#>\n",
    "\n",
    "SELECT ?min_lot_depth\n",
    "\n",
    "WHERE {\n",
    "\t?zoning :minLotDepth ?min_lot_depth ;\n",
    "            rdfs:label   \"A1\" .\n",
    "}\n",
    "\"\"\"\n",
    "\n",
    "results = g_bulk_units.query(query_min_lot_depth)\n",
    "\n",
    "for row in results:\n",
    "    print(row.min_lot_depth)"
   ]
  },
  {
   "cell_type": "code",
   "execution_count": null,
   "metadata": {},
   "outputs": [],
   "source": []
  }
 ],
 "metadata": {
  "kernelspec": {
   "display_name": "Python 3",
   "language": "python",
   "name": "python3"
  },
  "language_info": {
   "codemirror_mode": {
    "name": "ipython",
    "version": 3
   },
   "file_extension": ".py",
   "mimetype": "text/x-python",
   "name": "python",
   "nbconvert_exporter": "python",
   "pygments_lexer": "ipython3",
   "version": "3.8.10"
  }
 },
 "nbformat": 4,
 "nbformat_minor": 4
}
